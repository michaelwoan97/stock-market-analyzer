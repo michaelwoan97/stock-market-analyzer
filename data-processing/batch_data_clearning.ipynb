{
 "cells": [
  {
   "cell_type": "code",
   "execution_count": 1,
   "metadata": {},
   "outputs": [],
   "source": [
    "from pyspark.sql import SparkSession\n",
    "from pyspark.sql import functions as func\n",
    "from pyspark.sql.types import StructType, StructField, StringType, IntegerType, FloatType, DateType, DoubleType, ArrayType\n",
    "import matplotlib.pyplot as plt\n",
    "import seaborn as sns\n",
    "import os\n",
    "from dotenv import load_dotenv\n",
    "from pyspark.sql.window import Window\n",
    "from pyspark.sql import functions as F\n",
    "import uuid\n",
    "\n",
    "# use in notebook only\n",
    "%load_ext dotenv\n",
    "%dotenv ../.env\n",
    "\n",
    "# Load environment variables from the .env file in the parent directory\n",
    "# dotenv_path = os.path.join(os.path.dirname(__file__), \"..\", \".env\")\n",
    "# load_dotenv(dotenv_path)"
   ]
  },
  {
   "cell_type": "markdown",
   "metadata": {},
   "source": [
    "# PySpark Data Cleaning for PostgreSQL Stock Data\n",
    "\n",
    "This PySpark script is designed for data cleaning and schema customization of stock data retrieved from a PostgreSQL database. The code covers the following steps:\n",
    "\n",
    "1. **Setting Up Spark Session:**\n",
    "   - Specifies the path to the PostgreSQL JDBC driver JAR file.\n",
    "   - Creates a Spark session with specific configurations, including the JDBC driver.\n",
    "\n",
    "2. **Reading Database Properties:**\n",
    "   - Reads database connection properties from environment variables such as user, password, driver, and URL.\n",
    "\n",
    "3. **Reading Data from PostgreSQL:**\n",
    "   - Attempts to read stock data from the specified PostgreSQL table using the provided database properties.\n",
    "\n",
    "4. **Defining Custom Schema:**\n",
    "   - Defines a custom schema for the stock data, specifying data types for each column.\n",
    "\n",
    "5. **Applying Custom Schema:**\n",
    "   - Converts the data types of columns in the DataFrame to match the custom schema.\n",
    "\n",
    "6. **Displaying the Result:**\n",
    "   - Shows the cleaned stock data with the custom schema.\n",
    "\n",
    "7. **Exception Handling:**\n",
    "   - Catches and handles any exceptions that may occur during the data reading process, providing detailed error information.\n",
    "\n",
    "Note: Make sure to replace placeholder values such as schema name, table name, and environment variables with actual values specific to your PostgreSQL setup.\n",
    "\n",
    "The code aims to ensure that the stock data adheres to a defined schema for downstream analysis or processing.\n"
   ]
  },
  {
   "cell_type": "code",
   "execution_count": 2,
   "metadata": {},
   "outputs": [
    {
     "name": "stderr",
     "output_type": "stream",
     "text": [
      "23/12/03 17:22:38 WARN Utils: Your hostname, michaelwoan-VirtualBox resolves to a loopback address: 127.0.1.1; using 10.0.0.140 instead (on interface enp0s3)\n",
      "23/12/03 17:22:38 WARN Utils: Set SPARK_LOCAL_IP if you need to bind to another address\n",
      "23/12/03 17:22:39 WARN NativeCodeLoader: Unable to load native-hadoop library for your platform... using builtin-java classes where applicable\n",
      "Setting default log level to \"WARN\".\n",
      "To adjust logging level use sc.setLogLevel(newLevel). For SparkR, use setLogLevel(newLevel).\n",
      "23/12/03 17:22:40 WARN Utils: Service 'SparkUI' could not bind on port 4040. Attempting port 4041.\n",
      "                                                                                \r"
     ]
    },
    {
     "name": "stdout",
     "output_type": "stream",
     "text": [
      "+--------------------+--------------------+-------------+----------+--------+--------+--------+---------+--------+\n",
      "|      transaction_id|            stock_id|ticker_symbol|      date|     low|    open|    high|   volume|   close|\n",
      "+--------------------+--------------------+-------------+----------+--------+--------+--------+---------+--------+\n",
      "|f6026c92-1a47-403...|9169dbe9-0d59-486...|         GOOG|2004-08-19|2.390042|2.490664|2.591785|897427216|2.499133|\n",
      "|e50595f9-83c8-4e6...|9169dbe9-0d59-486...|         GOOG|2004-08-20|2.503118| 2.51582|2.716817|458857488|2.697639|\n",
      "|e7665eab-e706-45d...|9169dbe9-0d59-486...|         GOOG|2004-08-23| 2.71607|2.758411|2.826406|366857939|2.724787|\n",
      "|f456c078-0976-4f0...|9169dbe9-0d59-486...|         GOOG|2004-08-24|2.579581|2.770615|2.779581|306396159| 2.61196|\n",
      "|a424e353-c6b8-4e3...|9169dbe9-0d59-486...|         GOOG|2004-08-25|2.587302|2.614201|2.689918|184645512|2.640104|\n",
      "|dc77880b-700f-47f...|9169dbe9-0d59-486...|         GOOG|2004-08-26|2.606729|2.613952|2.688672|142572401|2.687676|\n",
      "|886808bb-c9e7-4e9...|9169dbe9-0d59-486...|         GOOG|2004-08-27|2.632383|2.692408| 2.70536|124826132| 2.64384|\n",
      "|9070d640-c02a-455...|9169dbe9-0d59-486...|         GOOG|2004-08-30|2.540727|2.622171|2.627402|104429967|2.540727|\n",
      "|2766db82-713d-41e...|9169dbe9-0d59-486...|         GOOG|2004-08-31|2.544463| 2.54795|2.583068| 98825037|2.549693|\n",
      "|0d9f2b3a-8f32-438...|9169dbe9-0d59-486...|         GOOG|2004-09-01|2.482445|2.557912|2.564637|183633734|2.496891|\n",
      "|bc107197-22f9-4e9...|9169dbe9-0d59-486...|         GOOG|2004-09-02|2.464263| 2.47049|2.549693|303810504|2.528273|\n",
      "|697b2925-04d5-472...|9169dbe9-0d59-486...|         GOOG|2004-09-03|2.473728|2.514326|2.534002|103538639|2.490913|\n",
      "|df144057-8d46-433...|9169dbe9-0d59-486...|         GOOG|2004-09-07|2.480951| 2.51582|2.540478|117506800|2.530017|\n",
      "|cd8125db-c1a4-4fb...|9169dbe9-0d59-486...|         GOOG|2004-09-08|2.503118|2.509095|2.566132|100186120| 2.54795|\n",
      "|03097f73-b85b-4a8...|9169dbe9-0d59-486...|         GOOG|2004-09-09|2.515571|2.553678|2.558161| 81620792|2.548199|\n",
      "|9273a809-29d4-48b...|9169dbe9-0d59-486...|         GOOG|2004-09-10|2.523043|2.530515|2.654052|174804764|2.623417|\n",
      "|07579efc-ad2b-416...|9169dbe9-0d59-486...|         GOOG|2004-09-13|2.651561|2.655795|2.700129|157628624|2.677464|\n",
      "|ecb5e7b5-419b-4f6...|9169dbe9-0d59-486...|         GOOG|2004-09-14| 2.65978|2.676219|2.789544|217608605|2.776842|\n",
      "|4c407e68-2409-40d...|9169dbe9-0d59-486...|         GOOG|2004-09-15|2.744712|2.753679|2.845086|215279909|2.789544|\n",
      "|d9ab8699-a2c1-4db...|9169dbe9-0d59-486...|         GOOG|2004-09-16|2.780827|2.798012|2.884189|186207345| 2.83861|\n",
      "+--------------------+--------------------+-------------+----------+--------+--------+--------+---------+--------+\n",
      "only showing top 20 rows\n",
      "\n"
     ]
    }
   ],
   "source": [
    "# Specify the path to the PostgreSQL JDBC driver JAR file\n",
    "postgres_jar_path = \"./drivers/postgresql-42.6.0.jar\"\n",
    "\n",
    "# Create a Spark session with the PostgreSQL JDBC driver\n",
    "spark = SparkSession.builder \\\n",
    "    .appName(\"StockDataCleaning\") \\\n",
    "    .config(\"spark.executor.memory\", \"4g\") \\\n",
    "    .config(\"spark.jars\", postgres_jar_path) \\\n",
    "    .getOrCreate()\n",
    "\n",
    "# Read database properties from environment variables\n",
    "db_properties = {\n",
    "    \"user\": os.getenv(\"DB_USER\"),\n",
    "    \"password\": os.getenv(\"DB_PASSWORD\"),\n",
    "    \"driver\": os.getenv(\"DB_DRIVER\"),\n",
    "    \"url\": os.getenv(\"DB_URL\"),\n",
    "}\n",
    "\n",
    "# Schema and table name\n",
    "schema_name = \"public\"  # Replace with your actual schema name\n",
    "table_name = f'{schema_name}.\"Stocks\"'\n",
    "\n",
    "# Attempt to read data from PostgreSQL\n",
    "try:\n",
    "    stockData = spark.read.jdbc(url=db_properties[\"url\"],\n",
    "                                table=table_name,\n",
    "                                properties=db_properties)\n",
    "\n",
    "    # Define your custom schema\n",
    "    custom_schema = StructType([\n",
    "        StructField(\"transaction_id\", StringType(), True),\n",
    "        StructField(\"stock_id\", StringType(), True),\n",
    "        StructField(\"ticker_symbol\", StringType(), True),\n",
    "        StructField(\"date\", DateType(), True),\n",
    "        StructField(\"low\", FloatType(), True),\n",
    "        StructField(\"open\", FloatType(), True),\n",
    "        StructField(\"high\", FloatType(), True),\n",
    "        StructField(\"volume\", IntegerType(), True),\n",
    "        StructField(\"close\", FloatType(), True)\n",
    "    ])\n",
    "\n",
    "    # Apply the custom schema to the DataFrame\n",
    "    stockData = stockData \\\n",
    "        .withColumn(\"transaction_id\", stockData[\"transaction_id\"].cast(StringType())) \\\n",
    "        .withColumn(\"stock_id\", stockData[\"stock_id\"].cast(StringType())) \\\n",
    "        .withColumn(\"ticker_symbol\", stockData[\"ticker_symbol\"].cast(StringType())) \\\n",
    "        .withColumn(\"date\", stockData[\"date\"].cast(DateType())) \\\n",
    "        .withColumn(\"low\", stockData[\"low\"].cast(FloatType())) \\\n",
    "        .withColumn(\"open\", stockData[\"open\"].cast(FloatType())) \\\n",
    "        .withColumn(\"high\", stockData[\"high\"].cast(FloatType())) \\\n",
    "        .withColumn(\"volume\", stockData[\"volume\"].cast(IntegerType())) \\\n",
    "        .withColumn(\"close\", stockData[\"close\"].cast(FloatType()))\n",
    "\n",
    "    # Show the DataFrame with the custom schema\n",
    "    stockData.show()\n",
    "\n",
    "except Exception as e:\n",
    "    print(\"Error reading data from PostgreSQL:\")\n",
    "    print(e)\n",
    "    # Print the full stack trace for debugging\n",
    "    import traceback\n",
    "    traceback.print_exc()\n"
   ]
  },
  {
   "cell_type": "markdown",
   "metadata": {},
   "source": [
    "## Data Preprocessing: Selecting Latest Stock Data\n",
    "\n",
    "This cell performs data preprocessing on the stock data. It first converts the 'date' column to a date type if it's not already. Then, it creates a window specification for each ticker symbol, ordering the data by date in descending order.\n",
    "\n",
    "A row number is added to the DataFrame based on the window specification, and rows with a row number equal to 1 (representing the latest date) for each group are filtered. The unnecessary 'row_number' column is dropped, and only the essential columns (ticker symbol, date, low, open, high, volume, and close) are selected in the final result.\n",
    "\n",
    "The processed result is displayed using the `show()` function.\n"
   ]
  },
  {
   "cell_type": "code",
   "execution_count": 3,
   "metadata": {},
   "outputs": [
    {
     "name": "stderr",
     "output_type": "stream",
     "text": [
      "[Stage 1:>                                                          (0 + 1) / 1]\r"
     ]
    },
    {
     "name": "stdout",
     "output_type": "stream",
     "text": [
      "+-------------+----------+-------+------+-------+---------+-------+\n",
      "|ticker_symbol|      date|    low|  open|   high|   volume|  close|\n",
      "+-------------+----------+-------+------+-------+---------+-------+\n",
      "|         AAPL|2023-11-21| 189.74|191.41|  191.5| 36857230| 190.64|\n",
      "|         ADBE|2023-12-01| 603.18|609.24|  615.2|  2490000| 612.47|\n",
      "|         AMZN|2023-12-01| 145.55| 146.0| 147.25| 39924600| 147.03|\n",
      "|          AXP|2023-12-01| 170.31|170.67| 174.34|  3412000| 173.76|\n",
      "|         BABA|2023-12-01|  72.12| 73.12|  74.14| 27946500|  73.99|\n",
      "|           FL|2023-12-01|  27.03| 27.03|  29.72|  6112300|  29.71|\n",
      "|         GOOG|2023-11-21|137.705| 135.5|138.965| 14530014|138.435|\n",
      "|         INTC|2023-12-01|  42.86| 44.36|  44.36| 43922500|  43.74|\n",
      "|         MSFT|2023-12-01| 371.31|376.76| 378.16| 33020400| 374.51|\n",
      "|          NKE|2023-12-01| 109.75|110.33| 113.55|  8049900| 113.48|\n",
      "|         NVDA|2023-12-01| 461.87|465.25|  472.0| 36880900| 467.65|\n",
      "|         PYPL|2023-12-01|  57.45| 57.63|  59.81| 18416900|  59.65|\n",
      "|            T|2023-12-01|  16.52|  16.6|  16.77| 35397100|  16.76|\n",
      "|         TSLA|2023-12-01|  231.9|233.14| 240.19|121173500| 238.83|\n",
      "|          UPS|2023-12-01| 151.02|151.99| 154.97|  3945000| 154.91|\n",
      "|          WMT|2023-12-01| 152.63|155.38| 155.61| 13085300| 154.34|\n",
      "+-------------+----------+-------+------+-------+---------+-------+\n",
      "\n"
     ]
    },
    {
     "name": "stderr",
     "output_type": "stream",
     "text": [
      "                                                                                \r"
     ]
    }
   ],
   "source": [
    "# Convert the 'date' column to a date type if it's not already\n",
    "stockData = stockData.withColumn(\"date\", F.to_date(stockData[\"date\"]))\n",
    "\n",
    "# Create a window specification for each group, ordered by the 'date' column in descending order\n",
    "windowSpec = Window().partitionBy(\"ticker_symbol\").orderBy(F.desc(\"date\"))\n",
    "\n",
    "# Add a row number to the DataFrame based on the window specification\n",
    "rankedData = stockData.withColumn(\"row_number\", F.row_number().over(windowSpec))\n",
    "\n",
    "# Filter the rows with row number equal to 1 (latest date) for each group\n",
    "latestData = rankedData.filter(\"row_number = 1\").drop(\"row_number\")\n",
    "\n",
    "# Select only the necessary columns\n",
    "result = latestData.select(\"ticker_symbol\", \"date\", \"low\", \"open\", \"high\", \"volume\", \"close\")\n",
    "\n",
    "# Show the result\n",
    "result.show()"
   ]
  },
  {
   "cell_type": "markdown",
   "metadata": {},
   "source": [
    "## Data Quality Check: Missing Values\n",
    "\n",
    "This cell performs a check for missing values in the stock data. It calculates the sum of null values for each column and prints the results."
   ]
  },
  {
   "cell_type": "code",
   "execution_count": 4,
   "metadata": {},
   "outputs": [
    {
     "name": "stdout",
     "output_type": "stream",
     "text": [
      "Missing Values:\n",
      "transaction_id_missing: 0\n",
      "stock_id_missing: 0\n",
      "ticker_symbol_missing: 0\n",
      "date_missing: 0\n",
      "low_missing: 0\n",
      "open_missing: 0\n",
      "high_missing: 0\n",
      "volume_missing: 0\n",
      "close_missing: 0\n"
     ]
    }
   ],
   "source": [
    "# Missing Values\n",
    "missing_values = stockData.select([func.sum(func.col(c).isNull().cast(\"int\")).alias(c + '_missing') for c in stockData.columns]).collect()\n",
    "\n",
    "print(\"Missing Values:\")\n",
    "for row in missing_values[0].asDict():\n",
    "    print(f\"{row}: {missing_values[0][row]}\")\n"
   ]
  },
  {
   "cell_type": "markdown",
   "metadata": {},
   "source": [
    "## Data Cleaning: Handling Missing Values and Deduplication\n",
    "\n",
    "This cell addresses data quality by filling missing values in the 'volume' column with 0. Additionally, it removes duplicate rows based on the 'date' and 'close' columns, ensuring data integrity."
   ]
  },
  {
   "cell_type": "code",
   "execution_count": 5,
   "metadata": {},
   "outputs": [
    {
     "name": "stdout",
     "output_type": "stream",
     "text": [
      "No duplicate dates and close prices found.\n"
     ]
    },
    {
     "name": "stderr",
     "output_type": "stream",
     "text": [
      "[Stage 13:>                                                         (0 + 1) / 1]\r"
     ]
    },
    {
     "name": "stdout",
     "output_type": "stream",
     "text": [
      "+--------------------+--------------------+-------------+----------+------+------+------+---------+------+\n",
      "|      transaction_id|            stock_id|ticker_symbol|      date|   low|  open|  high|   volume| close|\n",
      "+--------------------+--------------------+-------------+----------+------+------+------+---------+------+\n",
      "|462e276f-d094-40e...|daaa9ed4-4caa-46f...|          UPS|2023-12-01|151.02|151.99|154.97|  3945000|154.91|\n",
      "|88101aec-f12b-409...|e390ddf0-6791-474...|         AMZN|2023-12-01|145.55| 146.0|147.25| 39924600|147.03|\n",
      "|f603e7ae-39b2-4a4...|060bfc23-efbd-4e9...|         BABA|2023-12-01| 72.12| 73.12| 74.14| 27946500| 73.99|\n",
      "|2c049a81-df3b-4ed...|7de656af-463b-494...|          WMT|2023-12-01|152.63|155.38|155.61| 13085300|154.34|\n",
      "|10850edd-c86e-40f...|b15241c9-1e87-417...|           FL|2023-12-01| 27.03| 27.03| 29.72|  6112300| 29.71|\n",
      "|8c60b38d-9ba8-4a4...|15a05405-6476-426...|         INTC|2023-12-01| 42.86| 44.36| 44.36| 43922500| 43.74|\n",
      "|605802cd-ed4c-4fa...|057b007d-d7f5-4f1...|          NKE|2023-12-01|109.75|110.33|113.55|  8049900|113.48|\n",
      "|8ae69ba2-ac88-48b...|669c2fc6-f1bd-45b...|         ADBE|2023-12-01|603.18|609.24| 615.2|  2490000|612.47|\n",
      "|80459add-3e08-40d...|eb6a0eb6-b665-436...|          AXP|2023-12-01|170.31|170.67|174.34|  3412000|173.76|\n",
      "|511a9f15-e7d7-4b5...|321f28f7-2870-468...|            T|2023-12-01| 16.52|  16.6| 16.77| 35397100| 16.76|\n",
      "|a220e2ee-95bb-466...|26a37152-781c-400...|         TSLA|2023-12-01| 231.9|233.14|240.19|121173500|238.83|\n",
      "|b90c0fa1-dc9a-4f2...|a5295793-3807-4db...|         PYPL|2023-12-01| 57.45| 57.63| 59.81| 18416900| 59.65|\n",
      "|c188507d-e16a-43a...|eee804d4-77ae-406...|         NVDA|2023-12-01|461.87|465.25| 472.0| 36880900|467.65|\n",
      "|9122ad23-3dff-457...|042594bf-5011-435...|         MSFT|2023-12-01|371.31|376.76|378.16| 33020400|374.51|\n",
      "|f1051432-86d4-414...|e390ddf0-6791-474...|         AMZN|2023-11-30|144.33|144.76|146.93| 65814000|146.09|\n",
      "|10fddbb8-54d3-4a5...|b15241c9-1e87-417...|           FL|2023-11-30| 26.69|  28.0| 28.03|  7594800| 26.93|\n",
      "|b5c15f78-61be-472...|7de656af-463b-494...|          WMT|2023-11-30|154.51|156.02|156.35|  9975300|155.69|\n",
      "|3c033711-7b0c-450...|321f28f7-2870-468...|            T|2023-11-30| 16.29| 16.29|  16.6| 50630000| 16.57|\n",
      "|5fbbb20b-325d-48b...|eb6a0eb6-b665-436...|          AXP|2023-11-30|167.53| 168.0|171.17|  4253100|170.77|\n",
      "|d2a82bf0-4f96-47c...|060bfc23-efbd-4e9...|         BABA|2023-11-30| 74.01|  74.7| 74.94| 17884200| 74.88|\n",
      "+--------------------+--------------------+-------------+----------+------+------+------+---------+------+\n",
      "only showing top 20 rows\n",
      "\n"
     ]
    },
    {
     "name": "stderr",
     "output_type": "stream",
     "text": [
      "                                                                                \r"
     ]
    }
   ],
   "source": [
    "# Fill missing values in the 'volume' column with 0\n",
    "stockData = stockData.na.fill(0, subset=['volume'])\n",
    "\n",
    "# Drop duplicate rows based on 'date' and 'close' columns\n",
    "cleanedStockData = stockData.dropDuplicates(['date', 'close'])\n",
    "\n",
    "# Check for duplicate values in the 'date' column again\n",
    "duplicate_rows = cleanedStockData.groupBy('date', 'close').count().filter('count > 1')\n",
    "\n",
    "# Show the duplicate dates and close prices, if any\n",
    "if duplicate_rows.count() > 0:\n",
    "    print(\"Duplicate dates and close prices found after deduplication:\")\n",
    "    duplicate_rows.show()\n",
    "else:\n",
    "    print(\"No duplicate dates and close prices found.\")\n",
    "\n",
    "cleanedStockData.orderBy(func.desc(\"date\")).show()\n"
   ]
  },
  {
   "cell_type": "markdown",
   "metadata": {},
   "source": [
    "# Drop Views to Update tables otherwise will get errors "
   ]
  },
  {
   "cell_type": "code",
   "execution_count": 6,
   "metadata": {},
   "outputs": [
    {
     "name": "stdout",
     "output_type": "stream",
     "text": [
      "SQL statements executed successfully.\n"
     ]
    }
   ],
   "source": [
    "import sys\n",
    "sys.path.append('..')  # Add the parent directory to the Python path\n",
    "\n",
    "# Create a database connection\n",
    "from database import create_connection, execute_sql\n",
    "\n",
    "connection = create_connection()\n",
    "\n",
    "drop_views = ['DROP MATERIALIZED VIEW IF EXISTS stock_technical_view;']\n",
    "\n",
    "execute_sql(connection, drop_views)"
   ]
  },
  {
   "cell_type": "markdown",
   "metadata": {},
   "source": [
    "## Stock Data Moving Averages Analysis\n",
    "\n",
    "This PySpark script calculates Simple Moving Averages (SMA) and Exponential Moving Averages (EMA) for different periods on stock data. The analysis includes importing libraries, defining functions, setting parameters, and displaying the results.\n",
    "\n",
    "- **Moving Averages:**\n",
    "  - Simple Moving Averages (SMA) for periods: 5, 20, 50, 200.\n",
    "  - Exponential Moving Averages (EMA) with corresponding alpha values.\n",
    "\n",
    "- **Data Manipulation:**\n",
    "  - Utilizes PySpark functions and windows for efficient data processing.\n",
    "\n",
    "- **Result Display:**\n",
    "  - Presents the DataFrame with date, close price, SMAs, and EMAs in descending order.\n"
   ]
  },
  {
   "cell_type": "code",
   "execution_count": 7,
   "metadata": {},
   "outputs": [
    {
     "name": "stderr",
     "output_type": "stream",
     "text": [
      "                                                                                \r"
     ]
    },
    {
     "name": "stdout",
     "output_type": "stream",
     "text": [
      "+--------------------+--------------------+--------------------+-------------+----------+----------+-----------+-----------+------------+----------+-----------+-----------+------------+\n",
      "|              cal_id|      transaction_id|            stock_id|ticker_symbol|      date|5_days_sma|20_days_sma|50_days_sma|200_days_sma|5_days_ema|20_days_ema|50_days_ema|200_days_ema|\n",
      "+--------------------+--------------------+--------------------+-------------+----------+----------+-----------+-----------+------------+----------+-----------+-----------+------------+\n",
      "|33e3590a-bd51-436...|2c049a81-df3b-4ed...|7de656af-463b-494...|          WMT|2023-12-01|     156.3|     160.48|     160.76|      154.46|     156.5|     161.51|     160.01|      151.18|\n",
      "|bac69a54-ae7a-405...|8ae69ba2-ac88-48b...|669c2fc6-f1bd-45b...|         ADBE|2023-12-01|    616.69|     600.78|     558.49|       468.9|    617.73|     594.34|     549.84|       448.8|\n",
      "|e66b6bd3-a961-480...|a220e2ee-95bb-466...|26a37152-781c-400...|         TSLA|2023-12-01|    241.17|     231.62|     234.83|      224.03|    240.58|     228.56|     239.49|      214.91|\n",
      "|0823f44b-3b30-463...|b90c0fa1-dc9a-4f2...|a5295793-3807-4db...|         PYPL|2023-12-01|     58.02|      56.34|      56.02|       65.44|     57.85|      56.31|      56.91|       67.59|\n",
      "|35d939e0-9247-40e...|511a9f15-e7d7-4b5...|321f28f7-2870-468...|            T|2023-12-01|      16.4|      15.99|      15.36|        16.2|     16.36|      15.98|      15.32|       16.98|\n",
      "|8510888c-41c7-4c7...|f603e7ae-39b2-4a4...|060bfc23-efbd-4e9...|         BABA|2023-12-01|     75.56|      80.45|      82.72|       87.94|     75.97|      81.22|      82.75|        86.9|\n",
      "|1da9b833-3423-44a...|9122ad23-3dff-457...|042594bf-5011-435...|         MSFT|2023-12-01|    378.72|     370.77|     344.71|      318.79|    378.77|     367.52|     338.67|      312.76|\n",
      "|30a77024-f425-4a2...|10850edd-c86e-40f...|b15241c9-1e87-417...|           FL|2023-12-01|     26.25|      22.86|      21.08|       28.85|     25.63|      23.09|      21.31|       32.98|\n",
      "|5f7de239-0caf-4e0...|88101aec-f12b-409...|e390ddf0-6791-474...|         AMZN|2023-12-01|    146.84|     144.23|     134.94|      122.44|    147.07|     143.48|     133.48|      118.38|\n",
      "|933aa123-c1d7-420...|8c60b38d-9ba8-4a4...|15a05405-6476-426...|         INTC|2023-12-01|     44.34|      41.63|      37.94|       33.45|     44.23|      40.69|      37.46|       33.11|\n",
      "|053cbf47-0d7c-4dd...|80459add-3e08-40d...|eb6a0eb6-b665-436...|          AXP|2023-12-01|    168.33|     160.34|     153.17|      161.39|    167.49|     159.38|     154.01|      164.81|\n",
      "|08c32c57-ed49-433...|c188507d-e16a-43a...|eee804d4-77ae-406...|         NVDA|2023-12-01|    475.48|     479.55|     451.94|      382.09|    476.96|      474.1|     446.39|       353.5|\n",
      "|ac0e87bc-a435-437...|605802cd-ed4c-4fa...|057b007d-d7f5-4f1...|          NKE|2023-12-01|    110.17|     107.84|     102.17|      110.07|    109.81|     108.28|     100.93|      114.24|\n",
      "|db4185f3-1d5b-4fe...|462e276f-d094-40e...|daaa9ed4-4caa-46f...|          UPS|2023-12-01|    151.83|     146.58|     149.04|      170.68|     151.5|     145.72|     151.38|      174.01|\n",
      "|8fcc979c-eb24-435...|41277907-cfd7-498...|669c2fc6-f1bd-45b...|         ADBE|2023-11-30|    618.08|     598.09|     556.52|      467.72|    618.11|     590.75|     548.23|      447.87|\n",
      "|a87ac3b6-546a-401...|d8f26017-c7cf-4f3...|042594bf-5011-435...|         MSFT|2023-11-30|     379.3|     369.46|     343.61|      318.27|    378.91|     366.29|     338.51|      312.92|\n",
      "|8b490568-a2f3-47e...|19ef7206-2d57-41e...|15a05405-6476-426...|         INTC|2023-11-30|     44.38|      41.33|      37.76|       33.37|     44.27|      40.54|      37.48|        33.2|\n",
      "|ff8144a1-4db8-4b3...|be21f172-b348-4e1...|26a37152-781c-400...|         TSLA|2023-11-30|    240.49|      230.6|     235.17|      223.91|    239.03|     227.77|      240.3|      215.07|\n",
      "|2e876ce8-9dd5-438...|19b012ea-3e1b-49c...|057b007d-d7f5-4f1...|          NKE|2023-11-30|     109.0|     107.42|     101.73|      110.14|    108.66|     107.54|     100.13|      113.93|\n",
      "|abf58f13-4740-422...|3c033711-7b0c-450...|321f28f7-2870-468...|            T|2023-11-30|     16.29|      15.94|      15.33|       16.21|     16.29|      15.93|       15.3|       16.98|\n",
      "+--------------------+--------------------+--------------------+-------------+----------+----------+-----------+-----------+------------+----------+-----------+-----------+------------+\n",
      "only showing top 20 rows\n",
      "\n"
     ]
    },
    {
     "name": "stderr",
     "output_type": "stream",
     "text": [
      "                                                                                \r"
     ]
    }
   ],
   "source": [
    "# Define a UDF to generate UUIDs\n",
    "@F.udf(StringType())\n",
    "def generate_uuid():\n",
    "    return str(uuid.uuid4())\n",
    "\n",
    "round_to_decimal = 2\n",
    "\n",
    "# Generate a UUID for each row\n",
    "# cleanedStockData = cleanedStockData.withColumn(\"cal_id\", F.lit(str(uuid.uuid4())))\n",
    "cleanedStockData = cleanedStockData.withColumn(\"cal_id\", generate_uuid())\n",
    "\n",
    "def calculate_ema(data, alpha):\n",
    "    ema = data[0]\n",
    "    for i in range(1, len(data)):\n",
    "        ema = alpha * data[i] + (1 - alpha) * ema\n",
    "    return ema\n",
    "\n",
    "calculate_ema_udf = F.udf(lambda data, alpha: float(calculate_ema(data, alpha)), FloatType())\n",
    "\n",
    "periods = [5, 20, 50, 200]\n",
    "alpha_values = [2 / (p + 1) for p in periods]\n",
    "\n",
    "partition_cols = [\"stock_id\", \"ticker_symbol\"]\n",
    "\n",
    "windows = [Window().partitionBy(partition_cols).orderBy(F.desc(\"date\")).rowsBetween(0, p - 1) for p in periods]\n",
    "\n",
    "# Calculate simple moving averages\n",
    "for p in periods:\n",
    "    cleanedStockData = cleanedStockData.withColumn(f\"{p}_days_sma\", F.round(F.avg(\"close\").over(windows[periods.index(p)]), 2))\n",
    "\n",
    "# Calculate exponential moving averages using UDF\n",
    "for p, alpha in zip(periods, alpha_values):\n",
    "    cleanedStockData = cleanedStockData.withColumn(f\"{p}_days_ema\", F.round(calculate_ema_udf(F.collect_list(\"close\").over(windows[periods.index(p)]), F.lit(alpha)), round_to_decimal))\n",
    "\n",
    "# Show the result\n",
    "moving_averages_data = cleanedStockData.select(['cal_id','transaction_id',\"stock_id\", \"ticker_symbol\",'date'] + [f\"{p}_days_sma\" for p in periods] + [f\"{p}_days_ema\" for p in periods]).orderBy(F.desc(\"date\"))\n",
    "moving_averages_data.show()\n",
    "\n",
    "# Schema and table name\n",
    "table_name = '\"MovingAverages\"'\n",
    "\n",
    "# Write the DataFrame to the database table\n",
    "moving_averages_data.write.jdbc(os.getenv(\"DB_URL\"), table_name, mode=\"overwrite\", properties=db_properties)\n"
   ]
  },
  {
   "cell_type": "markdown",
   "metadata": {},
   "source": [
    "## Bollinger Bands Calculation Explanation\n",
    "\n",
    "This Jupiter Notebook cell performs the computation of Bollinger Bands on stock data for volatility analysis. The breakdown includes critical steps and considerations:\n",
    "\n",
    "- **Decimal Rounding:**\n",
    "  - All numerical values are rounded to two decimal places for consistency and readability.\n",
    "\n",
    "- **Bollinger Bands Periods:**\n",
    "  - The Bollinger Bands are computed for four distinct periods: 5, 20, 50, and 200 days, providing insights into short-term and long-term volatility.\n",
    "\n",
    "- **Partitioning for Accuracy:**\n",
    "  - The data is partitioned by \"stock_id\" and \"ticker_symbol\" to ensure accurate calculations for individual stocks. This is crucial for meaningful stock market analysis.\n",
    "\n",
    "- **Reuse of Exponential Moving Averages (EMAs):**\n",
    "  - Existing EMA values, previously calculated, are reused in the Bollinger Bands computation. This approach optimizes computational efficiency and maintains consistency with prior analyses.\n",
    "\n",
    "- **Upper and Lower Band Calculation:**\n",
    "  - The upper and lower bands are determined by adding and subtracting twice the standard deviation of closing prices from the corresponding EMAs. This methodology aligns with the standard Bollinger Bands formula.\n",
    "\n",
    "- **Result Presentation:**\n",
    "  - The final DataFrame includes the date, close price, upper bands, and lower bands for each specified period, providing a comprehensive view of the stock's volatility.\n",
    "\n",
    "This code enhances the dataset with Bollinger Bands, aiding in the identification of potential market trends and volatility patterns."
   ]
  },
  {
   "cell_type": "code",
   "execution_count": 8,
   "metadata": {},
   "outputs": [
    {
     "name": "stderr",
     "output_type": "stream",
     "text": [
      "23/12/03 17:23:31 WARN SparkStringUtils: Truncated the string representation of a plan since it was too large. This behavior can be adjusted by setting 'spark.sql.debug.maxToStringFields'.\n"
     ]
    },
    {
     "name": "stdout",
     "output_type": "stream",
     "text": [
      "+--------------------+--------------------+--------------------+-------------+----------+------------+-------------+-------------+--------------+------------+-------------+-------------+--------------+\n",
      "|              cal_id|      transaction_id|            stock_id|ticker_symbol|      date|5_upper_band|20_upper_band|50_upper_band|200_upper_band|5_lower_band|20_lower_band|50_lower_band|200_lower_band|\n",
      "+--------------------+--------------------+--------------------+-------------+----------+------------+-------------+-------------+--------------+------------+-------------+-------------+--------------+\n",
      "|2eec9a16-1a5c-4c7...|88101aec-f12b-409...|e390ddf0-6791-474...|         AMZN|2023-12-01|      148.37|       148.78|       150.29|         151.1|      145.77|       138.18|       116.67|         85.66|\n",
      "|6cc67eaf-e98a-4c7...|8ae69ba2-ac88-48b...|669c2fc6-f1bd-45b...|         ADBE|2023-12-01|      627.79|       630.26|       628.73|         626.1|      607.67|       558.42|       470.95|         271.5|\n",
      "|4793f0c9-5f8f-492...|b90c0fa1-dc9a-4f2...|a5295793-3807-4db...|         PYPL|2023-12-01|       60.23|        59.34|        61.53|         82.59|       55.47|        53.28|        52.29|         52.59|\n",
      "|bd4ca2bb-9f7d-48c...|f603e7ae-39b2-4a4...|060bfc23-efbd-4e9...|         BABA|2023-12-01|       78.97|        89.31|        89.87|         99.28|       72.97|        73.13|        75.63|         74.52|\n",
      "|4557f352-f208-424...|10850edd-c86e-40f...|b15241c9-1e87-417...|           FL|2023-12-01|       31.12|        28.21|        26.39|         51.11|       20.14|        17.97|        16.23|         14.85|\n",
      "|53f3a8fa-7c57-420...|a220e2ee-95bb-466...|26a37152-781c-400...|         TSLA|2023-12-01|      249.08|       249.66|       276.47|        286.94|      232.08|       207.46|       202.51|        142.88|\n",
      "|73dd2c5e-3b13-455...|8c60b38d-9ba8-4a4...|15a05405-6476-426...|         INTC|2023-12-01|       45.19|        46.42|        44.76|         41.62|       43.27|        34.96|        30.16|          24.6|\n",
      "|3cb3f6b2-df3d-467...|80459add-3e08-40d...|eb6a0eb6-b665-436...|          AXP|2023-12-01|      175.35|       172.35|       169.42|        182.96|      159.63|       146.41|        138.6|        146.66|\n",
      "|3f58facc-aa02-414...|2c049a81-df3b-4ed...|7de656af-463b-494...|          WMT|2023-12-01|      159.66|       172.34|       167.64|        166.19|      153.34|       150.68|       152.38|        136.17|\n",
      "|8755a5b4-bf6d-41a...|605802cd-ed4c-4fa...|057b007d-d7f5-4f1...|          NKE|2023-12-01|      114.04|       112.37|       113.15|        133.57|      105.58|       104.19|        88.71|         94.91|\n",
      "|9de895fb-9672-480...|511a9f15-e7d7-4b5...|321f28f7-2870-468...|            T|2023-12-01|       16.86|        16.64|        16.58|         20.46|       15.86|        15.32|        14.06|          13.5|\n",
      "|3bd62674-5bc5-453...|c188507d-e16a-43a...|eee804d4-77ae-406...|         NVDA|2023-12-01|      491.54|       504.01|       503.54|        531.61|      462.38|       444.19|       389.24|        175.39|\n",
      "|b9418a6b-5c18-4b8...|9122ad23-3dff-457...|042594bf-5011-435...|         MSFT|2023-12-01|      384.57|       384.27|       385.29|        376.47|      372.97|       350.77|       292.05|        249.05|\n",
      "|e5e4a80e-6e14-4b2...|462e276f-d094-40e...|daaa9ed4-4caa-46f...|          UPS|2023-12-01|      155.49|       155.94|       163.76|        204.66|      147.51|        135.5|        139.0|        143.36|\n",
      "|9446dd67-2cf3-4e5...|41277907-cfd7-498...|669c2fc6-f1bd-45b...|         ADBE|2023-11-30|      627.12|       630.79|       626.54|        624.48|       609.1|       550.71|       469.92|        271.26|\n",
      "|556328d4-4d36-452...|19ef7206-2d57-41e...|15a05405-6476-426...|         INTC|2023-11-30|       45.11|        46.44|        44.64|         41.61|       43.43|        34.64|        30.32|         24.79|\n",
      "|b25dcbd4-07b2-4ba...|19b012ea-3e1b-49c...|057b007d-d7f5-4f1...|          NKE|2023-11-30|      111.21|       110.84|       112.26|        133.41|      106.11|       104.24|         88.0|         94.45|\n",
      "|3d8ea135-e637-4c2...|864ec752-f8a7-440...|a5295793-3807-4db...|         PYPL|2023-11-30|       59.15|        58.56|        61.27|         82.49|       54.63|        53.28|        52.13|         52.33|\n",
      "|fb33eb7a-fe3b-440...|d8f26017-c7cf-4f3...|042594bf-5011-435...|         MSFT|2023-11-30|       382.9|       385.69|       384.86|        376.51|      374.92|       346.89|       292.16|        249.33|\n",
      "|56d79566-43f1-418...|10fddbb8-54d3-4a5...|b15241c9-1e87-417...|           FL|2023-11-30|        28.8|         26.6|         25.3|         50.99|       20.18|        18.64|         16.3|         14.45|\n",
      "+--------------------+--------------------+--------------------+-------------+----------+------------+-------------+-------------+--------------+------------+-------------+-------------+--------------+\n",
      "only showing top 20 rows\n",
      "\n"
     ]
    },
    {
     "name": "stderr",
     "output_type": "stream",
     "text": [
      "                                                                                \r"
     ]
    }
   ],
   "source": [
    "# Define the Bollinger Bands periods\n",
    "bollinger_periods = [5, 20, 50, 200]\n",
    "\n",
    "partition_cols = [\"stock_id\", \"ticker_symbol\"]\n",
    "\n",
    "# Define the windows for Bollinger Bands\n",
    "windows = [Window().partitionBy(partition_cols).orderBy(F.desc(\"date\")).rowsBetween(0, p - 1) for p in bollinger_periods]\n",
    "\n",
    "# Reuse the existing EMA values for Bollinger Bands\n",
    "for p in bollinger_periods:\n",
    "    upper_band_col = F.col(f\"{p}_days_ema\") + (2 * F.stddev(\"close\").over(windows[bollinger_periods.index(p)]))\n",
    "    lower_band_col = F.col(f\"{p}_days_ema\") - (2 * F.stddev(\"close\").over(windows[bollinger_periods.index(p)]))\n",
    "\n",
    "    cleanedStockData = cleanedStockData.withColumn(f\"{p}_upper_band\", F.round(upper_band_col, round_to_decimal))\n",
    "    cleanedStockData = cleanedStockData.withColumn(f\"{p}_lower_band\", F.round(lower_band_col, round_to_decimal))\n",
    "\n",
    "# Show the result\n",
    "selected_columns = ['cal_id','transaction_id',\"stock_id\", \"ticker_symbol\",'date'] + [f\"{p}_upper_band\" for p in bollinger_periods] + [f\"{p}_lower_band\" for p in bollinger_periods]\n",
    "boilling_bands_data = cleanedStockData.select(selected_columns).orderBy(F.desc(\"date\"))\n",
    "boilling_bands_data.show()\n",
    "\n",
    "# Schema and table name\n",
    "table_name = '\"BoillingerBands\"'\n",
    "\n",
    "# Write the DataFrame to the database table\n",
    "boilling_bands_data.write.jdbc(os.getenv(\"DB_URL\"), table_name, mode=\"overwrite\", properties=db_properties)\n"
   ]
  },
  {
   "cell_type": "markdown",
   "metadata": {},
   "source": [
    "## Relative Strength Index (RSI) Calculation Explanation\n",
    "\n",
    "This code cell calculates the Relative Strength Index (RSI) for a given stock dataset. The RSI is a momentum oscillator that measures the speed and change of price movements. The breakdown includes critical steps and considerations:\n",
    "\n",
    "- **Price Changes:**\n",
    "  - The code calculates the daily price changes by subtracting the previous day's closing price from the current day's closing price.\n",
    "\n",
    "- **Gains and Losses:**\n",
    "  - Gains and losses are determined based on whether the price change is positive or negative.\n",
    "\n",
    "- **Exponential Moving Averages (EMAs):**\n",
    "  - Exponential Moving Averages (EMAs) are calculated for both gains and losses over the specified RSI period. EMAs give more weight to recent price changes, providing a more responsive indicator.\n",
    "\n",
    "- **Handling NULL and Zero Values:**\n",
    "  - NULL values for average gains are handled by replacing them with zero. Additionally, zero values for average losses are replaced with zero to avoid division errors.\n",
    "\n",
    "- **Relative Strength (RS) Calculation:**\n",
    "  - The Relative Strength (RS) is calculated as the ratio of average gains to average losses.\n",
    "\n",
    "- **RSI Calculation:**\n",
    "  - The RSI is calculated using the standard formula: \\(100 - \\frac{100}{1 + RS}\\). This value is then rounded to two decimal places.\n",
    "\n",
    "- **List of RSI Periods:**\n",
    "  - The code calculates RSI for multiple periods, including 14, 20, 50, and 200 days, providing insights into short-term and long-term momentum.\n",
    "\n",
    "- **Result Presentation:**\n",
    "  - The final DataFrame includes columns for the ticker symbol, date, closing price, and RSI for each specified period, offering a comprehensive view of the stock's momentum trends.\n",
    "\n",
    "- **Data Partitioning:**\n",
    "  - The data is partitioned by \"stock_id\" and \"ticker_symbol\" to ensure accurate calculations for individual stocks. This is crucial for meaningful stock market analysis.\n",
    "\n",
    "- **Decimal Rounding:**\n",
    "  - All numerical values, including the calculated RSI, are rounded to two decimal places for consistency and readability.\n",
    "\n",
    "This code enhances the dataset with RSI values, contributing to the analysis of potential overbought or oversold market conditions.\n"
   ]
  },
  {
   "cell_type": "code",
   "execution_count": 9,
   "metadata": {},
   "outputs": [
    {
     "name": "stderr",
     "output_type": "stream",
     "text": [
      "                                                                                \r"
     ]
    },
    {
     "name": "stdout",
     "output_type": "stream",
     "text": [
      "+--------------------+--------------------+--------------------+-------------+----------+-----------+-----------+-----------+------------+\n",
      "|              cal_id|      transaction_id|            stock_id|ticker_symbol|      date|14_days_rsi|20_days_rsi|50_days_rsi|200_days_rsi|\n",
      "+--------------------+--------------------+--------------------+-------------+----------+-----------+-----------+-----------+------------+\n",
      "|d242ca41-b348-45f...|88101aec-f12b-409...|e390ddf0-6791-474...|         AMZN|2023-12-01|      59.09|      65.56|      58.99|       56.28|\n",
      "|e3ba0f19-ac2c-409...|8ae69ba2-ac88-48b...|669c2fc6-f1bd-45b...|         ADBE|2023-12-01|      60.03|      70.73|      63.89|       58.53|\n",
      "|bfdef06a-c8de-403...|f603e7ae-39b2-4a4...|060bfc23-efbd-4e9...|         BABA|2023-12-01|      29.65|      32.04|      41.76|       45.51|\n",
      "|9e1fba12-f27d-4c1...|b90c0fa1-dc9a-4f2...|a5295793-3807-4db...|         PYPL|2023-12-01|      66.14|      61.84|      51.11|       45.84|\n",
      "|7dca369d-1dcb-458...|80459add-3e08-40d...|eb6a0eb6-b665-436...|          AXP|2023-12-01|      90.21|       89.6|      61.91|       49.06|\n",
      "|95ab2e76-69d9-432...|a220e2ee-95bb-466...|26a37152-781c-400...|         TSLA|2023-12-01|      66.69|      60.77|      46.73|       51.14|\n",
      "|1be813a9-7d4a-4fc...|605802cd-ed4c-4fa...|057b007d-d7f5-4f1...|          NKE|2023-12-01|      73.52|      68.06|      67.04|       47.32|\n",
      "|5ef32ff2-6f62-49c...|10850edd-c86e-40f...|b15241c9-1e87-417...|           FL|2023-12-01|      78.55|      69.33|      68.18|       44.71|\n",
      "|88d24718-1eed-411...|2c049a81-df3b-4ed...|7de656af-463b-494...|          WMT|2023-12-01|      28.95|      33.56|      44.39|       51.85|\n",
      "|a6e71878-3f72-45b...|8c60b38d-9ba8-4a4...|15a05405-6476-426...|         INTC|2023-12-01|      72.72|      71.24|      64.62|       56.02|\n",
      "|effc8c58-ef01-483...|511a9f15-e7d7-4b5...|321f28f7-2870-468...|            T|2023-12-01|      91.79|      76.68|       58.1|       46.64|\n",
      "|cbbaf90f-854c-43a...|c188507d-e16a-43a...|eee804d4-77ae-406...|         NVDA|2023-12-01|      41.46|      61.63|       57.1|       57.92|\n",
      "|d1d4f556-3649-4a0...|9122ad23-3dff-457...|042594bf-5011-435...|         MSFT|2023-12-01|      54.77|      66.98|      64.41|       57.01|\n",
      "|c4db2eff-60c0-4c8...|462e276f-d094-40e...|daaa9ed4-4caa-46f...|          UPS|2023-12-01|      85.65|      71.99|      49.68|       45.54|\n",
      "|b5c40547-3540-4f1...|41277907-cfd7-498...|669c2fc6-f1bd-45b...|         ADBE|2023-11-30|      67.69|      73.35|      60.02|       58.41|\n",
      "|282122b9-9547-4bd...|19b012ea-3e1b-49c...|057b007d-d7f5-4f1...|          NKE|2023-11-30|      62.25|      69.36|      62.78|       46.93|\n",
      "|2b14e077-182b-4c2...|19ef7206-2d57-41e...|15a05405-6476-426...|         INTC|2023-11-30|      81.83|       77.1|      66.59|       56.53|\n",
      "|6ee1060f-a70a-421...|d2a82bf0-4f96-47c...|060bfc23-efbd-4e9...|         BABA|2023-11-30|      30.99|      35.53|      41.26|       45.48|\n",
      "|723e6634-75cd-4bc...|d8f26017-c7cf-4f3...|042594bf-5011-435...|         MSFT|2023-11-30|      66.47|       71.9|       65.5|       57.13|\n",
      "|3db239ad-e39c-4c7...|5fbbb20b-325d-48b...|eb6a0eb6-b665-436...|          AXP|2023-11-30|      89.79|      90.08|      58.52|        48.6|\n",
      "+--------------------+--------------------+--------------------+-------------+----------+-----------+-----------+-----------+------------+\n",
      "only showing top 20 rows\n",
      "\n"
     ]
    },
    {
     "name": "stderr",
     "output_type": "stream",
     "text": [
      "                                                                                \r"
     ]
    }
   ],
   "source": [
    "def calculate_rsi(data, n):\n",
    "    # Calculate price changes\n",
    "    price_diff = F.col(\"close\") - F.lag(\"close\", 1).over(Window().partitionBy(\"stock_id\", \"ticker_symbol\").orderBy(\"date\"))\n",
    "    \n",
    "    # Separate gains and losses\n",
    "    gains = F.when(price_diff > 0, price_diff).otherwise(0)\n",
    "    losses = F.when(price_diff < 0, -price_diff).otherwise(0)\n",
    "    \n",
    "    # Calculate average gains and losses over n periods from the latest day backward\n",
    "    avg_gains = F.avg(gains).over(Window().partitionBy(\"stock_id\", \"ticker_symbol\").orderBy(F.desc(\"date\")).rowsBetween(0, n-1))\n",
    "    avg_losses = F.avg(losses).over(Window().partitionBy(\"stock_id\", \"ticker_symbol\").orderBy(F.desc(\"date\")).rowsBetween(0, n-1))\n",
    "    \n",
    "    # Handle NULL values for average gains\n",
    "    avg_gains = F.coalesce(avg_gains, F.lit(0))\n",
    "\n",
    "    # Handle 0 values for average losses\n",
    "    avg_losses = F.when(avg_losses.isNull() | (avg_losses == 0), 0).otherwise(avg_losses)\n",
    "\n",
    "    # Calculate RSI\n",
    "    rs = F.when((avg_losses == 0) & (avg_gains != 0), F.lit(avg_gains)) \\\n",
    "      .when((avg_losses != 0) & (avg_gains == 0), F.lit(0)) \\\n",
    "      .otherwise(F.when(avg_losses == 0, F.lit(float('inf'))) \\\n",
    "                  .otherwise(avg_gains / avg_losses))\n",
    "    \n",
    "    # Calculate RSI and round to 2 decimal places\n",
    "    rsi = 100 - (100 / (1 + rs))\n",
    "    \n",
    "    return F.round(rsi, round_to_decimal)\n",
    "\n",
    "# List of RSI periods\n",
    "rsi_periods = [14, 20, 50, 200]\n",
    "\n",
    "# Calculate and add RSI columns to the DataFrame for each period\n",
    "for n in rsi_periods:\n",
    "    column_name = f\"{n}_days_rsi\"\n",
    "    cleanedStockData = cleanedStockData.withColumn(column_name, calculate_rsi(cleanedStockData, n))\n",
    "\n",
    "# Show the result\n",
    "result_columns = ['cal_id','transaction_id',\"stock_id\", \"ticker_symbol\",'date'] + [f\"{n}_days_rsi\" for n in rsi_periods]\n",
    "relative_indexes_data = cleanedStockData.select(result_columns).orderBy(F.desc(\"date\"))\n",
    "relative_indexes_data.show()\n",
    "\n",
    "# Schema and table name\n",
    "table_name = '\"RelativeIndexes\"'\n",
    "\n",
    "relative_indexes_data.write.jdbc(os.getenv(\"DB_URL\"), table_name, mode=\"overwrite\", properties=db_properties)\n",
    "\n",
    "# Stop the Spark session when you're done\n",
    "spark.stop()\n"
   ]
  },
  {
   "cell_type": "markdown",
   "metadata": {},
   "source": [
    "# Update tables to original structures after overwriten process"
   ]
  },
  {
   "cell_type": "markdown",
   "metadata": {},
   "source": [
    "## Alter tables to approriate data types "
   ]
  },
  {
   "cell_type": "code",
   "execution_count": 10,
   "metadata": {},
   "outputs": [
    {
     "name": "stdout",
     "output_type": "stream",
     "text": [
      "SQL statements executed successfully.\n"
     ]
    }
   ],
   "source": [
    "alter_statements = [\n",
    "    # Altered data types for MovingAverages table\n",
    "    \"\"\"\n",
    "    ALTER TABLE \"MovingAverages\"\n",
    "    ALTER COLUMN \"cal_id\" TYPE UUID USING \"transaction_id\"::UUID,\n",
    "    ALTER COLUMN \"transaction_id\" TYPE UUID USING \"transaction_id\"::UUID,\n",
    "    ALTER COLUMN \"stock_id\" TYPE UUID USING \"stock_id\"::UUID,\n",
    "    ALTER COLUMN \"ticker_symbol\" TYPE VARCHAR,\n",
    "    ALTER COLUMN \"date\" TYPE DATE,\n",
    "    ALTER COLUMN \"5_days_sma\" TYPE FLOAT,\n",
    "    ALTER COLUMN \"20_days_sma\" TYPE FLOAT,\n",
    "    ALTER COLUMN \"50_days_sma\" TYPE FLOAT,\n",
    "    ALTER COLUMN \"200_days_sma\" TYPE FLOAT,\n",
    "    ALTER COLUMN \"5_days_ema\" TYPE FLOAT,\n",
    "    ALTER COLUMN \"20_days_ema\" TYPE FLOAT,\n",
    "    ALTER COLUMN \"50_days_ema\" TYPE FLOAT,\n",
    "    ALTER COLUMN \"200_days_ema\" TYPE FLOAT;\n",
    "    \"\"\",\n",
    "    # Altered data types for BoillingerBands table\n",
    "    \"\"\"\n",
    "    ALTER TABLE \"BoillingerBands\"\n",
    "    ALTER COLUMN \"cal_id\" TYPE UUID USING \"transaction_id\"::UUID,\n",
    "    ALTER COLUMN \"transaction_id\" TYPE UUID USING \"transaction_id\"::UUID,\n",
    "    ALTER COLUMN \"stock_id\" TYPE UUID USING \"stock_id\"::UUID,\n",
    "    ALTER COLUMN \"ticker_symbol\" TYPE VARCHAR,\n",
    "    ALTER COLUMN \"date\" TYPE DATE,\n",
    "    ALTER COLUMN \"5_upper_band\" TYPE FLOAT,\n",
    "    ALTER COLUMN \"20_upper_band\" TYPE FLOAT,\n",
    "    ALTER COLUMN \"50_upper_band\" TYPE FLOAT,\n",
    "    ALTER COLUMN \"200_upper_band\" TYPE FLOAT,\n",
    "    ALTER COLUMN \"5_lower_band\" TYPE FLOAT,\n",
    "    ALTER COLUMN \"20_lower_band\" TYPE FLOAT,\n",
    "    ALTER COLUMN \"50_lower_band\" TYPE FLOAT,\n",
    "    ALTER COLUMN \"200_lower_band\" TYPE FLOAT;\n",
    "    \"\"\",\n",
    "\n",
    "    # Altered data types for RelativeIndexes table\n",
    "    \"\"\"\n",
    "    ALTER TABLE \"RelativeIndexes\"\n",
    "    ALTER COLUMN \"cal_id\" TYPE UUID USING \"transaction_id\"::UUID,\n",
    "    ALTER COLUMN \"transaction_id\" TYPE UUID USING \"transaction_id\"::UUID,\n",
    "    ALTER COLUMN \"stock_id\" TYPE UUID USING \"stock_id\"::UUID,\n",
    "    ALTER COLUMN \"ticker_symbol\" TYPE VARCHAR,\n",
    "    ALTER COLUMN \"date\" TYPE DATE,\n",
    "    ALTER COLUMN \"14_days_rsi\" TYPE FLOAT,\n",
    "    ALTER COLUMN \"20_days_rsi\" TYPE FLOAT,\n",
    "    ALTER COLUMN \"50_days_rsi\" TYPE FLOAT,\n",
    "    ALTER COLUMN \"200_days_rsi\" TYPE FLOAT;\n",
    "    \"\"\"\n",
    "]\n",
    "\n",
    "# Execute SQL statements\n",
    "execute_sql(connection, alter_statements)"
   ]
  },
  {
   "cell_type": "markdown",
   "metadata": {},
   "source": [
    "## Adding key constrains"
   ]
  },
  {
   "cell_type": "code",
   "execution_count": 11,
   "metadata": {},
   "outputs": [
    {
     "name": "stdout",
     "output_type": "stream",
     "text": [
      "SQL statements executed successfully.\n"
     ]
    }
   ],
   "source": [
    "alter_key_constrains_statements = [\n",
    "    # MovingAverages\n",
    "    'ALTER TABLE \"MovingAverages\" ADD CONSTRAINT \"pk_MovingAverages_cal_id\" PRIMARY KEY (\"cal_id\");',\n",
    "    'ALTER TABLE \"MovingAverages\" ADD CONSTRAINT \"fk_MovingAverages_transaction_id\" FOREIGN KEY (\"transaction_id\") REFERENCES \"Stocks\"(\"transaction_id\") ON DELETE CASCADE;',\n",
    "    'ALTER TABLE \"MovingAverages\" ADD CONSTRAINT \"fk_MovingAverages_stock_id_ticker_symbol\" FOREIGN KEY (\"stock_id\", \"ticker_symbol\") REFERENCES \"CompanyInformation\"(\"stock_id\", \"ticker_symbol\");',\n",
    "\n",
    "    # BoillingerBands\n",
    "    'ALTER TABLE \"BoillingerBands\" ADD CONSTRAINT \"pk_BoillingerBands_cal_id\" PRIMARY KEY (\"cal_id\");',\n",
    "    'ALTER TABLE \"BoillingerBands\" ADD CONSTRAINT \"fk_BoillingerBands_transaction_id\" FOREIGN KEY (\"transaction_id\") REFERENCES \"Stocks\"(\"transaction_id\") ON DELETE CASCADE;',\n",
    "    'ALTER TABLE \"BoillingerBands\" ADD CONSTRAINT \"fk_BoillingerBands_stock_id_ticker_symbol\" FOREIGN KEY (\"stock_id\", \"ticker_symbol\") REFERENCES \"CompanyInformation\"(\"stock_id\", \"ticker_symbol\");',\n",
    "\n",
    "    # RelativeIndexes\n",
    "    'ALTER TABLE \"RelativeIndexes\" ADD CONSTRAINT \"pk_RelativeIndexes_cal_id\" PRIMARY KEY (\"cal_id\");',\n",
    "    'ALTER TABLE \"RelativeIndexes\" ADD CONSTRAINT \"fk_RelativeIndexes_transaction_id\" FOREIGN KEY (\"transaction_id\") REFERENCES \"Stocks\"(\"transaction_id\") ON DELETE CASCADE;',\n",
    "    'ALTER TABLE \"RelativeIndexes\" ADD CONSTRAINT \"fk_RelativeIndexes_stock_id_ticker_symbol\" FOREIGN KEY (\"stock_id\", \"ticker_symbol\") REFERENCES \"CompanyInformation\"(\"stock_id\", \"ticker_symbol\");'\n",
    "]\n",
    "\n",
    "# Execute SQL statements\n",
    "execute_sql(connection, alter_key_constrains_statements)"
   ]
  },
  {
   "cell_type": "markdown",
   "metadata": {},
   "source": [
    "## Create Indexes"
   ]
  },
  {
   "cell_type": "code",
   "execution_count": 12,
   "metadata": {},
   "outputs": [
    {
     "name": "stdout",
     "output_type": "stream",
     "text": [
      "SQL statements executed successfully.\n"
     ]
    }
   ],
   "source": [
    "# List of SQL statements for indexes\n",
    "index_sql_statements = [\n",
    "    'CREATE INDEX IF NOT EXISTS idx_ma_stock_id_ticker_symbol_date ON \"MovingAverages\"(\"stock_id\", \"ticker_symbol\", \"date\");',\n",
    "    'CREATE INDEX IF NOT EXISTS idx_ma_date ON \"MovingAverages\"(\"date\");',\n",
    "    'CREATE INDEX IF NOT EXISTS idx_bb_stock_id_ticker_symbol_date ON \"BoillingerBands\"(\"stock_id\", \"ticker_symbol\", \"date\");',\n",
    "    'CREATE INDEX IF NOT EXISTS idx_bb_date ON \"BoillingerBands\"(\"date\");',\n",
    "    'CREATE INDEX IF NOT EXISTS idx_ri_stock_id_ticker_symbol_date ON \"RelativeIndexes\"(\"stock_id\", \"ticker_symbol\", \"date\");',\n",
    "    'CREATE INDEX IF NOT EXISTS idx_ri_date ON \"RelativeIndexes\"(\"date\");',\n",
    "]\n",
    "\n",
    "# Execute SQL statements\n",
    "execute_sql(connection, index_sql_statements)\n"
   ]
  },
  {
   "cell_type": "code",
   "execution_count": 13,
   "metadata": {},
   "outputs": [],
   "source": [
    "# Close the database connection\n",
    "connection.close()"
   ]
  }
 ],
 "metadata": {
  "kernelspec": {
   "display_name": "myenv",
   "language": "python",
   "name": "python3"
  },
  "language_info": {
   "codemirror_mode": {
    "name": "ipython",
    "version": 3
   },
   "file_extension": ".py",
   "mimetype": "text/x-python",
   "name": "python",
   "nbconvert_exporter": "python",
   "pygments_lexer": "ipython3",
   "version": "3.11.4"
  }
 },
 "nbformat": 4,
 "nbformat_minor": 2
}
