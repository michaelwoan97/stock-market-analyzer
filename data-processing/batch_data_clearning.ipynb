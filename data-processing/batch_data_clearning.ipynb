{
 "cells": [
  {
   "cell_type": "code",
   "execution_count": 1,
   "metadata": {},
   "outputs": [],
   "source": [
    "from pyspark.sql import SparkSession\n",
    "from pyspark.sql import functions as func\n",
    "from pyspark.sql.types import StructType, StructField, StringType, IntegerType, FloatType, DateType, DoubleType, ArrayType\n",
    "import matplotlib.pyplot as plt\n",
    "import seaborn as sns\n",
    "import os\n",
    "from dotenv import load_dotenv\n",
    "from pyspark.sql.window import Window\n",
    "from pyspark.sql import functions as F\n",
    "import uuid\n",
    "\n",
    "# use in notebook only\n",
    "%load_ext dotenv\n",
    "%dotenv ../.env\n",
    "\n",
    "# Load environment variables from the .env file in the parent directory\n",
    "# dotenv_path = os.path.join(os.path.dirname(__file__), \"..\", \".env\")\n",
    "# load_dotenv(dotenv_path)"
   ]
  },
  {
   "cell_type": "markdown",
   "metadata": {},
   "source": [
    "# PySpark Data Cleaning for PostgreSQL Stock Data\n",
    "\n",
    "This PySpark script is designed for data cleaning and schema customization of stock data retrieved from a PostgreSQL database. The code covers the following steps:\n",
    "\n",
    "1. **Setting Up Spark Session:**\n",
    "   - Specifies the path to the PostgreSQL JDBC driver JAR file.\n",
    "   - Creates a Spark session with specific configurations, including the JDBC driver.\n",
    "\n",
    "2. **Reading Database Properties:**\n",
    "   - Reads database connection properties from environment variables such as user, password, driver, and URL.\n",
    "\n",
    "3. **Reading Data from PostgreSQL:**\n",
    "   - Attempts to read stock data from the specified PostgreSQL table using the provided database properties.\n",
    "\n",
    "4. **Defining Custom Schema:**\n",
    "   - Defines a custom schema for the stock data, specifying data types for each column.\n",
    "\n",
    "5. **Applying Custom Schema:**\n",
    "   - Converts the data types of columns in the DataFrame to match the custom schema.\n",
    "\n",
    "6. **Displaying the Result:**\n",
    "   - Shows the cleaned stock data with the custom schema.\n",
    "\n",
    "7. **Exception Handling:**\n",
    "   - Catches and handles any exceptions that may occur during the data reading process, providing detailed error information.\n",
    "\n",
    "Note: Make sure to replace placeholder values such as schema name, table name, and environment variables with actual values specific to your PostgreSQL setup.\n",
    "\n",
    "The code aims to ensure that the stock data adheres to a defined schema for downstream analysis or processing.\n"
   ]
  },
  {
   "cell_type": "code",
   "execution_count": 2,
   "metadata": {},
   "outputs": [
    {
     "name": "stderr",
     "output_type": "stream",
     "text": [
      "23/12/02 19:28:30 WARN Utils: Your hostname, michaelwoan-VirtualBox resolves to a loopback address: 127.0.1.1; using 10.0.0.140 instead (on interface enp0s3)\n",
      "23/12/02 19:28:30 WARN Utils: Set SPARK_LOCAL_IP if you need to bind to another address\n",
      "23/12/02 19:28:30 WARN NativeCodeLoader: Unable to load native-hadoop library for your platform... using builtin-java classes where applicable\n",
      "Setting default log level to \"WARN\".\n",
      "To adjust logging level use sc.setLogLevel(newLevel). For SparkR, use setLogLevel(newLevel).\n",
      "23/12/02 19:28:31 WARN Utils: Service 'SparkUI' could not bind on port 4040. Attempting port 4041.\n"
     ]
    },
    {
     "name": "stdout",
     "output_type": "stream",
     "text": [
      "+--------------------+--------------------+-------------+----------+--------+--------+--------+---------+--------+\n",
      "|      transaction_id|            stock_id|ticker_symbol|      date|     low|    open|    high|   volume|   close|\n",
      "+--------------------+--------------------+-------------+----------+--------+--------+--------+---------+--------+\n",
      "|f6026c92-1a47-403...|9169dbe9-0d59-486...|         GOOG|2004-08-19|2.390042|2.490664|2.591785|897427216|2.499133|\n",
      "|e50595f9-83c8-4e6...|9169dbe9-0d59-486...|         GOOG|2004-08-20|2.503118| 2.51582|2.716817|458857488|2.697639|\n",
      "|e7665eab-e706-45d...|9169dbe9-0d59-486...|         GOOG|2004-08-23| 2.71607|2.758411|2.826406|366857939|2.724787|\n",
      "|f456c078-0976-4f0...|9169dbe9-0d59-486...|         GOOG|2004-08-24|2.579581|2.770615|2.779581|306396159| 2.61196|\n",
      "|a424e353-c6b8-4e3...|9169dbe9-0d59-486...|         GOOG|2004-08-25|2.587302|2.614201|2.689918|184645512|2.640104|\n",
      "|dc77880b-700f-47f...|9169dbe9-0d59-486...|         GOOG|2004-08-26|2.606729|2.613952|2.688672|142572401|2.687676|\n",
      "|886808bb-c9e7-4e9...|9169dbe9-0d59-486...|         GOOG|2004-08-27|2.632383|2.692408| 2.70536|124826132| 2.64384|\n",
      "|9070d640-c02a-455...|9169dbe9-0d59-486...|         GOOG|2004-08-30|2.540727|2.622171|2.627402|104429967|2.540727|\n",
      "|2766db82-713d-41e...|9169dbe9-0d59-486...|         GOOG|2004-08-31|2.544463| 2.54795|2.583068| 98825037|2.549693|\n",
      "|0d9f2b3a-8f32-438...|9169dbe9-0d59-486...|         GOOG|2004-09-01|2.482445|2.557912|2.564637|183633734|2.496891|\n",
      "|bc107197-22f9-4e9...|9169dbe9-0d59-486...|         GOOG|2004-09-02|2.464263| 2.47049|2.549693|303810504|2.528273|\n",
      "|697b2925-04d5-472...|9169dbe9-0d59-486...|         GOOG|2004-09-03|2.473728|2.514326|2.534002|103538639|2.490913|\n",
      "|df144057-8d46-433...|9169dbe9-0d59-486...|         GOOG|2004-09-07|2.480951| 2.51582|2.540478|117506800|2.530017|\n",
      "|cd8125db-c1a4-4fb...|9169dbe9-0d59-486...|         GOOG|2004-09-08|2.503118|2.509095|2.566132|100186120| 2.54795|\n",
      "|03097f73-b85b-4a8...|9169dbe9-0d59-486...|         GOOG|2004-09-09|2.515571|2.553678|2.558161| 81620792|2.548199|\n",
      "|9273a809-29d4-48b...|9169dbe9-0d59-486...|         GOOG|2004-09-10|2.523043|2.530515|2.654052|174804764|2.623417|\n",
      "|07579efc-ad2b-416...|9169dbe9-0d59-486...|         GOOG|2004-09-13|2.651561|2.655795|2.700129|157628624|2.677464|\n",
      "|ecb5e7b5-419b-4f6...|9169dbe9-0d59-486...|         GOOG|2004-09-14| 2.65978|2.676219|2.789544|217608605|2.776842|\n",
      "|4c407e68-2409-40d...|9169dbe9-0d59-486...|         GOOG|2004-09-15|2.744712|2.753679|2.845086|215279909|2.789544|\n",
      "|d9ab8699-a2c1-4db...|9169dbe9-0d59-486...|         GOOG|2004-09-16|2.780827|2.798012|2.884189|186207345| 2.83861|\n",
      "+--------------------+--------------------+-------------+----------+--------+--------+--------+---------+--------+\n",
      "only showing top 20 rows\n",
      "\n"
     ]
    }
   ],
   "source": [
    "# Specify the path to the PostgreSQL JDBC driver JAR file\n",
    "postgres_jar_path = \"./drivers/postgresql-42.6.0.jar\"\n",
    "\n",
    "# Create a Spark session with the PostgreSQL JDBC driver\n",
    "spark = SparkSession.builder \\\n",
    "    .appName(\"StockDataCleaning\") \\\n",
    "    .config(\"spark.executor.memory\", \"4g\") \\\n",
    "    .config(\"spark.jars\", postgres_jar_path) \\\n",
    "    .getOrCreate()\n",
    "\n",
    "# Read database properties from environment variables\n",
    "db_properties = {\n",
    "    \"user\": os.getenv(\"DB_USER\"),\n",
    "    \"password\": os.getenv(\"DB_PASSWORD\"),\n",
    "    \"driver\": os.getenv(\"DB_DRIVER\"),\n",
    "    \"url\": os.getenv(\"DB_URL\"),\n",
    "}\n",
    "\n",
    "# Schema and table name\n",
    "schema_name = \"public\"  # Replace with your actual schema name\n",
    "table_name = f'{schema_name}.\"Stocks\"'\n",
    "\n",
    "# Attempt to read data from PostgreSQL\n",
    "try:\n",
    "    stockData = spark.read.jdbc(url=db_properties[\"url\"],\n",
    "                                table=table_name,\n",
    "                                properties=db_properties)\n",
    "\n",
    "    # Define your custom schema\n",
    "    custom_schema = StructType([\n",
    "        StructField(\"transaction_id\", StringType(), True),\n",
    "        StructField(\"stock_id\", StringType(), True),\n",
    "        StructField(\"ticker_symbol\", StringType(), True),\n",
    "        StructField(\"date\", DateType(), True),\n",
    "        StructField(\"low\", FloatType(), True),\n",
    "        StructField(\"open\", FloatType(), True),\n",
    "        StructField(\"high\", FloatType(), True),\n",
    "        StructField(\"volume\", IntegerType(), True),\n",
    "        StructField(\"close\", FloatType(), True)\n",
    "    ])\n",
    "\n",
    "    # Apply the custom schema to the DataFrame\n",
    "    stockData = stockData \\\n",
    "        .withColumn(\"transaction_id\", stockData[\"transaction_id\"].cast(StringType())) \\\n",
    "        .withColumn(\"stock_id\", stockData[\"stock_id\"].cast(StringType())) \\\n",
    "        .withColumn(\"ticker_symbol\", stockData[\"ticker_symbol\"].cast(StringType())) \\\n",
    "        .withColumn(\"date\", stockData[\"date\"].cast(DateType())) \\\n",
    "        .withColumn(\"low\", stockData[\"low\"].cast(FloatType())) \\\n",
    "        .withColumn(\"open\", stockData[\"open\"].cast(FloatType())) \\\n",
    "        .withColumn(\"high\", stockData[\"high\"].cast(FloatType())) \\\n",
    "        .withColumn(\"volume\", stockData[\"volume\"].cast(IntegerType())) \\\n",
    "        .withColumn(\"close\", stockData[\"close\"].cast(FloatType()))\n",
    "\n",
    "    # Show the DataFrame with the custom schema\n",
    "    stockData.show()\n",
    "\n",
    "except Exception as e:\n",
    "    print(\"Error reading data from PostgreSQL:\")\n",
    "    print(e)\n",
    "    # Print the full stack trace for debugging\n",
    "    import traceback\n",
    "    traceback.print_exc()\n"
   ]
  },
  {
   "cell_type": "markdown",
   "metadata": {},
   "source": [
    "## Data Preprocessing: Selecting Latest Stock Data\n",
    "\n",
    "This cell performs data preprocessing on the stock data. It first converts the 'date' column to a date type if it's not already. Then, it creates a window specification for each ticker symbol, ordering the data by date in descending order.\n",
    "\n",
    "A row number is added to the DataFrame based on the window specification, and rows with a row number equal to 1 (representing the latest date) for each group are filtered. The unnecessary 'row_number' column is dropped, and only the essential columns (ticker symbol, date, low, open, high, volume, and close) are selected in the final result.\n",
    "\n",
    "The processed result is displayed using the `show()` function.\n"
   ]
  },
  {
   "cell_type": "code",
   "execution_count": 3,
   "metadata": {},
   "outputs": [
    {
     "name": "stdout",
     "output_type": "stream",
     "text": [
      "+-------------+----------+-------+------+-------+---------+-------+\n",
      "|ticker_symbol|      date|    low|  open|   high|   volume|  close|\n",
      "+-------------+----------+-------+------+-------+---------+-------+\n",
      "|         AAPL|2023-11-21| 189.74|191.41|  191.5| 36857230| 190.64|\n",
      "|         AMZN|2023-12-01| 145.55| 146.0| 147.25| 39924600| 147.03|\n",
      "|         GOOG|2023-11-21|137.705| 135.5|138.965| 14530014|138.435|\n",
      "|         MSFT|2023-12-01| 371.31|376.76| 378.16| 33020400| 374.51|\n",
      "|         TSLA|2023-12-01|  231.9|233.14| 240.19|121173500| 238.83|\n",
      "+-------------+----------+-------+------+-------+---------+-------+\n",
      "\n"
     ]
    }
   ],
   "source": [
    "# Convert the 'date' column to a date type if it's not already\n",
    "stockData = stockData.withColumn(\"date\", F.to_date(stockData[\"date\"]))\n",
    "\n",
    "# Create a window specification for each group, ordered by the 'date' column in descending order\n",
    "windowSpec = Window().partitionBy(\"ticker_symbol\").orderBy(F.desc(\"date\"))\n",
    "\n",
    "# Add a row number to the DataFrame based on the window specification\n",
    "rankedData = stockData.withColumn(\"row_number\", F.row_number().over(windowSpec))\n",
    "\n",
    "# Filter the rows with row number equal to 1 (latest date) for each group\n",
    "latestData = rankedData.filter(\"row_number = 1\").drop(\"row_number\")\n",
    "\n",
    "# Select only the necessary columns\n",
    "result = latestData.select(\"ticker_symbol\", \"date\", \"low\", \"open\", \"high\", \"volume\", \"close\")\n",
    "\n",
    "# Show the result\n",
    "result.show()"
   ]
  },
  {
   "cell_type": "markdown",
   "metadata": {},
   "source": [
    "## Data Quality Check: Missing Values\n",
    "\n",
    "This cell performs a check for missing values in the stock data. It calculates the sum of null values for each column and prints the results."
   ]
  },
  {
   "cell_type": "code",
   "execution_count": 4,
   "metadata": {},
   "outputs": [
    {
     "name": "stdout",
     "output_type": "stream",
     "text": [
      "Missing Values:\n",
      "transaction_id_missing: 0\n",
      "stock_id_missing: 0\n",
      "ticker_symbol_missing: 0\n",
      "date_missing: 0\n",
      "low_missing: 0\n",
      "open_missing: 0\n",
      "high_missing: 0\n",
      "volume_missing: 0\n",
      "close_missing: 0\n"
     ]
    }
   ],
   "source": [
    "# Missing Values\n",
    "missing_values = stockData.select([func.sum(func.col(c).isNull().cast(\"int\")).alias(c + '_missing') for c in stockData.columns]).collect()\n",
    "\n",
    "print(\"Missing Values:\")\n",
    "for row in missing_values[0].asDict():\n",
    "    print(f\"{row}: {missing_values[0][row]}\")\n"
   ]
  },
  {
   "cell_type": "markdown",
   "metadata": {},
   "source": [
    "## Data Cleaning: Handling Missing Values and Deduplication\n",
    "\n",
    "This cell addresses data quality by filling missing values in the 'volume' column with 0. Additionally, it removes duplicate rows based on the 'date' and 'close' columns, ensuring data integrity."
   ]
  },
  {
   "cell_type": "code",
   "execution_count": 5,
   "metadata": {},
   "outputs": [
    {
     "name": "stdout",
     "output_type": "stream",
     "text": [
      "No duplicate dates and close prices found.\n",
      "+--------------------+--------------------+-------------+----------+------+------+------+---------+------+\n",
      "|      transaction_id|            stock_id|ticker_symbol|      date|   low|  open|  high|   volume| close|\n",
      "+--------------------+--------------------+-------------+----------+------+------+------+---------+------+\n",
      "|650a33a4-d636-4b2...|e390ddf0-6791-474...|         AMZN|2023-12-01|145.55| 146.0|147.25| 39924600|147.03|\n",
      "|a220e2ee-95bb-466...|26a37152-781c-400...|         TSLA|2023-12-01| 231.9|233.14|240.19|121173500|238.83|\n",
      "|9122ad23-3dff-457...|042594bf-5011-435...|         MSFT|2023-12-01|371.31|376.76|378.16| 33020400|374.51|\n",
      "|fb233437-42b9-4b3...|e390ddf0-6791-474...|         AMZN|2023-11-30|144.33|144.76|146.93| 65814000|146.09|\n",
      "|d8f26017-c7cf-4f3...|042594bf-5011-435...|         MSFT|2023-11-30|375.47|378.49|380.09| 30554400|378.91|\n",
      "|be21f172-b348-4e1...|26a37152-781c-400...|         TSLA|2023-11-30|236.91|245.14|245.22|132353200|240.08|\n",
      "|6201821d-6c3e-410...|e390ddf0-6791-474...|         AMZN|2023-11-29|145.97|147.85|148.54| 40610900|146.32|\n",
      "|3d080d8b-5035-423...|26a37152-781c-400...|         TSLA|2023-11-29|242.76|249.21|252.75|135401300|244.14|\n",
      "|8c53d985-f34b-44d...|042594bf-5011-435...|         MSFT|2023-11-29|377.44|383.76| 384.3| 28963400|378.85|\n",
      "|532a81a6-3ecf-4d5...|e390ddf0-6791-474...|         AMZN|2023-11-28|145.53|146.98| 147.6| 42711700|147.03|\n",
      "|cf1dc734-a6c4-462...|042594bf-5011-435...|         MSFT|2023-11-28|378.16|378.35| 383.0| 20453100| 382.7|\n",
      "|0d3c66f0-342e-44f...|26a37152-781c-400...|         TSLA|2023-11-28|234.01|236.68| 247.0|148549900|246.72|\n",
      "|0b2aaa7e-f2dc-499...|e390ddf0-6791-474...|         AMZN|2023-11-27|146.88|147.53|149.26| 53762400|147.73|\n",
      "|0a86266f-85b9-448...|26a37152-781c-400...|         TSLA|2023-11-27| 232.1|236.89|238.33|112031800|236.08|\n",
      "|28c49e05-e5f2-410...|042594bf-5011-435...|         MSFT|2023-11-27| 376.2|376.78|380.64| 22179200|378.61|\n",
      "|b2bf2be3-55f9-406...|e390ddf0-6791-474...|         AMZN|2023-11-24|145.32| 146.7| 147.2| 22378400|146.74|\n",
      "|25df3678-278b-426...|26a37152-781c-400...|         TSLA|2023-11-24|232.33|233.75|238.75| 65125200|235.45|\n",
      "|d5a67da2-4375-45e...|042594bf-5011-435...|         MSFT|2023-11-24|375.14|377.33|377.97| 10176600|377.43|\n",
      "|52bd4e4c-4795-4fc...|042594bf-5011-435...|         MSFT|2023-11-22|374.97| 378.0|379.79| 23345300|377.85|\n",
      "|cf5495cb-cca8-459...|e390ddf0-6791-474...|         AMZN|2023-11-22|144.57|144.57|147.74| 45669100|146.71|\n",
      "+--------------------+--------------------+-------------+----------+------+------+------+---------+------+\n",
      "only showing top 20 rows\n",
      "\n"
     ]
    }
   ],
   "source": [
    "# Fill missing values in the 'volume' column with 0\n",
    "stockData = stockData.na.fill(0, subset=['volume'])\n",
    "\n",
    "# Drop duplicate rows based on 'date' and 'close' columns\n",
    "cleanedStockData = stockData.dropDuplicates(['date', 'close'])\n",
    "\n",
    "# Check for duplicate values in the 'date' column again\n",
    "duplicate_rows = cleanedStockData.groupBy('date', 'close').count().filter('count > 1')\n",
    "\n",
    "# Show the duplicate dates and close prices, if any\n",
    "if duplicate_rows.count() > 0:\n",
    "    print(\"Duplicate dates and close prices found after deduplication:\")\n",
    "    duplicate_rows.show()\n",
    "else:\n",
    "    print(\"No duplicate dates and close prices found.\")\n",
    "\n",
    "cleanedStockData.orderBy(func.desc(\"date\")).show()\n"
   ]
  },
  {
   "cell_type": "markdown",
   "metadata": {},
   "source": [
    "# Drop Views to Update tables otherwise will get errors "
   ]
  },
  {
   "cell_type": "code",
   "execution_count": 6,
   "metadata": {},
   "outputs": [
    {
     "name": "stdout",
     "output_type": "stream",
     "text": [
      "SQL statements executed successfully.\n"
     ]
    }
   ],
   "source": [
    "import sys\n",
    "sys.path.append('..')  # Add the parent directory to the Python path\n",
    "\n",
    "# Create a database connection\n",
    "from database import create_connection, execute_sql\n",
    "\n",
    "connection = create_connection()\n",
    "\n",
    "drop_views = ['DROP MATERIALIZED VIEW IF EXISTS stock_technical_view;']\n",
    "\n",
    "execute_sql(connection, drop_views)"
   ]
  },
  {
   "cell_type": "markdown",
   "metadata": {},
   "source": [
    "## Stock Data Moving Averages Analysis\n",
    "\n",
    "This PySpark script calculates Simple Moving Averages (SMA) and Exponential Moving Averages (EMA) for different periods on stock data. The analysis includes importing libraries, defining functions, setting parameters, and displaying the results.\n",
    "\n",
    "- **Moving Averages:**\n",
    "  - Simple Moving Averages (SMA) for periods: 5, 20, 50, 200.\n",
    "  - Exponential Moving Averages (EMA) with corresponding alpha values.\n",
    "\n",
    "- **Data Manipulation:**\n",
    "  - Utilizes PySpark functions and windows for efficient data processing.\n",
    "\n",
    "- **Result Display:**\n",
    "  - Presents the DataFrame with date, close price, SMAs, and EMAs in descending order.\n"
   ]
  },
  {
   "cell_type": "code",
   "execution_count": 7,
   "metadata": {},
   "outputs": [
    {
     "name": "stderr",
     "output_type": "stream",
     "text": [
      "                                                                                \r"
     ]
    },
    {
     "name": "stdout",
     "output_type": "stream",
     "text": [
      "+--------------------+--------------------+--------------------+-------------+----------+----------+-----------+-----------+------------+----------+-----------+-----------+------------+\n",
      "|              cal_id|      transaction_id|            stock_id|ticker_symbol|      date|5_days_sma|20_days_sma|50_days_sma|200_days_sma|5_days_ema|20_days_ema|50_days_ema|200_days_ema|\n",
      "+--------------------+--------------------+--------------------+-------------+----------+----------+-----------+-----------+------------+----------+-----------+-----------+------------+\n",
      "|9442d19a-8b29-4f3...|9122ad23-3dff-457...|042594bf-5011-435...|         MSFT|2023-12-01|    378.72|     370.77|     344.71|      318.79|    378.77|     367.52|     338.67|      312.76|\n",
      "|9918d990-5662-496...|650a33a4-d636-4b2...|e390ddf0-6791-474...|         AMZN|2023-12-01|    146.84|     144.23|     134.94|      122.44|    147.07|     143.48|     133.48|      118.38|\n",
      "|e19498af-7c30-478...|a220e2ee-95bb-466...|26a37152-781c-400...|         TSLA|2023-12-01|    241.17|     231.62|     234.83|      224.03|    240.58|     228.56|     239.49|      214.91|\n",
      "|06ace26d-107c-401...|fb233437-42b9-4b3...|e390ddf0-6791-474...|         AMZN|2023-11-30|    146.78|     143.78|     134.59|      122.21|    146.83|     142.83|     133.19|      118.08|\n",
      "|0ea79cf2-c68f-4c5...|d8f26017-c7cf-4f3...|042594bf-5011-435...|         MSFT|2023-11-30|     379.3|     369.46|     343.61|      318.27|    378.91|     366.29|     338.51|      312.92|\n",
      "|06f111c1-41f2-44f...|be21f172-b348-4e1...|26a37152-781c-400...|         TSLA|2023-11-30|    240.49|      230.6|     235.17|      223.91|    239.03|     227.77|      240.3|      215.07|\n",
      "|63fd40cc-2c76-42b...|6201821d-6c3e-410...|e390ddf0-6791-474...|         AMZN|2023-11-29|    146.91|     143.33|     134.37|      121.97|    146.82|     142.31|     133.31|      117.93|\n",
      "|76236b53-bbf5-493...|8c53d985-f34b-44d...|042594bf-5011-435...|         MSFT|2023-11-29|    379.09|     367.82|     342.45|      317.73|    378.55|     364.36|     337.81|      312.51|\n",
      "|fd95f840-8002-4f2...|3d080d8b-5035-423...|26a37152-781c-400...|         TSLA|2023-11-29|    239.32|     228.88|     235.62|      223.75|    237.96|     226.21|     241.72|      215.56|\n",
      "|1e3fbeb5-a245-424...|532a81a6-3ecf-4d5...|e390ddf0-6791-474...|         AMZN|2023-11-28|    146.42|     142.66|      134.2|      121.74|    145.94|     141.53|     133.57|      117.84|\n",
      "|ee22f4c5-708c-40f...|cf1dc734-a6c4-462...|042594bf-5011-435...|         MSFT|2023-11-28|    377.93|     365.78|     341.44|       317.2|    377.23|     362.38|     337.97|      312.62|\n",
      "|0f120eda-dcab-439...|0d3c66f0-342e-44f...|26a37152-781c-400...|         TSLA|2023-11-28|    238.73|     226.71|     236.07|      223.51|    239.38|     224.14|     243.04|      215.71|\n",
      "|675c91f5-1f48-48f...|0b2aaa7e-f2dc-499...|e390ddf0-6791-474...|         AMZN|2023-11-27|    146.24|     141.95|     134.06|      121.49|     146.1|     140.78|     133.92|      117.74|\n",
      "|e5b78a93-eb60-445...|28c49e05-e5f2-410...|042594bf-5011-435...|         MSFT|2023-11-27|    376.88|     363.51|     340.37|       316.6|    376.76|     359.44|     337.07|      311.57|\n",
      "|8302802e-ea85-450...|0a86266f-85b9-448...|26a37152-781c-400...|         TSLA|2023-11-27|    236.51|     224.25|     236.44|      223.26|    236.72|     220.16|     242.47|      214.08|\n",
      "|77c8b879-62c5-490...|b2bf2be3-55f9-406...|e390ddf0-6791-474...|         AMZN|2023-11-24|    145.73|     140.95|     133.91|      121.25|    145.66|     139.41|     134.04|      117.41|\n",
      "|61a0e49b-bb42-43f...|d5a67da2-4375-45e...|042594bf-5011-435...|         MSFT|2023-11-24|    375.13|     361.07|      339.4|      316.02|     374.3|     356.46|     336.64|      310.94|\n",
      "|c5d63491-b4c0-497...|25df3678-278b-426...|26a37152-781c-400...|         TSLA|2023-11-24|    236.15|     222.81|      237.2|      223.11|    235.83|     218.85|     243.64|      213.93|\n",
      "|bce25a3a-4e88-4b1...|cf5495cb-cca8-459...|e390ddf0-6791-474...|         AMZN|2023-11-22|    144.95|     139.59|     133.87|      121.01|    144.71|     137.51|     134.45|      117.23|\n",
      "|18d3b7c2-82cd-4ab...|52bd4e4c-4795-4fc...|042594bf-5011-435...|         MSFT|2023-11-22|    374.88|      358.6|     338.63|      315.47|    374.98|     353.79|     336.78|      310.55|\n",
      "+--------------------+--------------------+--------------------+-------------+----------+----------+-----------+-----------+------------+----------+-----------+-----------+------------+\n",
      "only showing top 20 rows\n",
      "\n"
     ]
    },
    {
     "name": "stderr",
     "output_type": "stream",
     "text": [
      "                                                                                \r"
     ]
    }
   ],
   "source": [
    "# Define a UDF to generate UUIDs\n",
    "@F.udf(StringType())\n",
    "def generate_uuid():\n",
    "    return str(uuid.uuid4())\n",
    "\n",
    "round_to_decimal = 2\n",
    "\n",
    "# Generate a UUID for each row\n",
    "# cleanedStockData = cleanedStockData.withColumn(\"cal_id\", F.lit(str(uuid.uuid4())))\n",
    "cleanedStockData = cleanedStockData.withColumn(\"cal_id\", generate_uuid())\n",
    "\n",
    "def calculate_ema(data, alpha):\n",
    "    ema = data[0]\n",
    "    for i in range(1, len(data)):\n",
    "        ema = alpha * data[i] + (1 - alpha) * ema\n",
    "    return ema\n",
    "\n",
    "calculate_ema_udf = F.udf(lambda data, alpha: float(calculate_ema(data, alpha)), FloatType())\n",
    "\n",
    "periods = [5, 20, 50, 200]\n",
    "alpha_values = [2 / (p + 1) for p in periods]\n",
    "\n",
    "partition_cols = [\"stock_id\", \"ticker_symbol\"]\n",
    "\n",
    "windows = [Window().partitionBy(partition_cols).orderBy(F.desc(\"date\")).rowsBetween(0, p - 1) for p in periods]\n",
    "\n",
    "# Calculate simple moving averages\n",
    "for p in periods:\n",
    "    cleanedStockData = cleanedStockData.withColumn(f\"{p}_days_sma\", F.round(F.avg(\"close\").over(windows[periods.index(p)]), 2))\n",
    "\n",
    "# Calculate exponential moving averages using UDF\n",
    "for p, alpha in zip(periods, alpha_values):\n",
    "    cleanedStockData = cleanedStockData.withColumn(f\"{p}_days_ema\", F.round(calculate_ema_udf(F.collect_list(\"close\").over(windows[periods.index(p)]), F.lit(alpha)), round_to_decimal))\n",
    "\n",
    "# Show the result\n",
    "moving_averages_data = cleanedStockData.select(['cal_id','transaction_id',\"stock_id\", \"ticker_symbol\",'date'] + [f\"{p}_days_sma\" for p in periods] + [f\"{p}_days_ema\" for p in periods]).orderBy(F.desc(\"date\"))\n",
    "moving_averages_data.show()\n",
    "\n",
    "# Schema and table name\n",
    "table_name = '\"MovingAverages\"'\n",
    "\n",
    "# Write the DataFrame to the database table\n",
    "moving_averages_data.write.jdbc(os.getenv(\"DB_URL\"), table_name, mode=\"overwrite\", properties=db_properties)\n"
   ]
  },
  {
   "cell_type": "markdown",
   "metadata": {},
   "source": [
    "## Bollinger Bands Calculation Explanation\n",
    "\n",
    "This Jupiter Notebook cell performs the computation of Bollinger Bands on stock data for volatility analysis. The breakdown includes critical steps and considerations:\n",
    "\n",
    "- **Decimal Rounding:**\n",
    "  - All numerical values are rounded to two decimal places for consistency and readability.\n",
    "\n",
    "- **Bollinger Bands Periods:**\n",
    "  - The Bollinger Bands are computed for four distinct periods: 5, 20, 50, and 200 days, providing insights into short-term and long-term volatility.\n",
    "\n",
    "- **Partitioning for Accuracy:**\n",
    "  - The data is partitioned by \"stock_id\" and \"ticker_symbol\" to ensure accurate calculations for individual stocks. This is crucial for meaningful stock market analysis.\n",
    "\n",
    "- **Reuse of Exponential Moving Averages (EMAs):**\n",
    "  - Existing EMA values, previously calculated, are reused in the Bollinger Bands computation. This approach optimizes computational efficiency and maintains consistency with prior analyses.\n",
    "\n",
    "- **Upper and Lower Band Calculation:**\n",
    "  - The upper and lower bands are determined by adding and subtracting twice the standard deviation of closing prices from the corresponding EMAs. This methodology aligns with the standard Bollinger Bands formula.\n",
    "\n",
    "- **Result Presentation:**\n",
    "  - The final DataFrame includes the date, close price, upper bands, and lower bands for each specified period, providing a comprehensive view of the stock's volatility.\n",
    "\n",
    "This code enhances the dataset with Bollinger Bands, aiding in the identification of potential market trends and volatility patterns."
   ]
  },
  {
   "cell_type": "code",
   "execution_count": 8,
   "metadata": {},
   "outputs": [
    {
     "name": "stderr",
     "output_type": "stream",
     "text": [
      "23/12/02 19:28:49 WARN SparkStringUtils: Truncated the string representation of a plan since it was too large. This behavior can be adjusted by setting 'spark.sql.debug.maxToStringFields'.\n"
     ]
    },
    {
     "name": "stdout",
     "output_type": "stream",
     "text": [
      "+--------------------+--------------------+--------------------+-------------+----------+------------+-------------+-------------+--------------+------------+-------------+-------------+--------------+\n",
      "|              cal_id|      transaction_id|            stock_id|ticker_symbol|      date|5_upper_band|20_upper_band|50_upper_band|200_upper_band|5_lower_band|20_lower_band|50_lower_band|200_lower_band|\n",
      "+--------------------+--------------------+--------------------+-------------+----------+------------+-------------+-------------+--------------+------------+-------------+-------------+--------------+\n",
      "|db4f3a76-21cc-4e1...|650a33a4-d636-4b2...|e390ddf0-6791-474...|         AMZN|2023-12-01|      148.37|       148.78|       150.29|         151.1|      145.77|       138.18|       116.67|         85.66|\n",
      "|da163335-a425-47c...|9122ad23-3dff-457...|042594bf-5011-435...|         MSFT|2023-12-01|      384.57|       384.27|       385.29|        376.47|      372.97|       350.77|       292.05|        249.05|\n",
      "|4a8fa5ed-daa4-4db...|a220e2ee-95bb-466...|26a37152-781c-400...|         TSLA|2023-12-01|      249.08|       249.66|       276.47|        286.94|      232.08|       207.46|       202.51|        142.88|\n",
      "|8dc776a2-2879-476...|fb233437-42b9-4b3...|e390ddf0-6791-474...|         AMZN|2023-11-30|      148.12|       148.62|        149.7|        150.75|      145.54|       137.04|       116.68|         85.41|\n",
      "|8fa35d63-285d-408...|d8f26017-c7cf-4f3...|042594bf-5011-435...|         MSFT|2023-11-30|       382.9|       385.69|       384.86|        376.51|      374.92|       346.89|       292.16|        249.33|\n",
      "|97a070fe-5397-473...|be21f172-b348-4e1...|26a37152-781c-400...|         TSLA|2023-11-30|      248.89|       249.36|       277.73|        287.09|      229.17|       206.18|       202.87|        143.05|\n",
      "|d656b137-a6e7-45d...|6201821d-6c3e-410...|e390ddf0-6791-474...|         AMZN|2023-11-29|      147.87|       148.73|       149.49|        150.57|      145.77|       135.89|       117.13|         85.29|\n",
      "|2e3de899-83a6-419...|8c53d985-f34b-44d...|042594bf-5011-435...|         MSFT|2023-11-29|      382.75|       385.84|       383.45|        375.85|      374.35|       342.88|       292.17|        249.17|\n",
      "|4dde8293-f99a-4aa...|3d080d8b-5035-423...|26a37152-781c-400...|         TSLA|2023-11-29|      249.34|       249.99|       279.92|        287.57|      226.58|       202.43|       203.52|        143.55|\n",
      "|5257cdd8-408a-402...|532a81a6-3ecf-4d5...|e390ddf0-6791-474...|         AMZN|2023-11-28|      148.88|       149.25|        149.4|        150.45|       143.0|       133.81|       117.74|         85.23|\n",
      "|40c63358-b11f-4d9...|cf1dc734-a6c4-462...|042594bf-5011-435...|         MSFT|2023-11-28|      384.09|       386.96|       382.54|         375.7|      370.37|        337.8|        293.4|        249.54|\n",
      "|9fbc10c1-6387-492...|0d3c66f0-342e-44f...|26a37152-781c-400...|         TSLA|2023-11-28|      249.78|       249.88|       282.16|        287.78|      228.98|        198.4|       203.92|        143.64|\n",
      "|d2689d4b-6313-468...|0b2aaa7e-f2dc-499...|e390ddf0-6791-474...|         AMZN|2023-11-27|      148.96|        149.4|       149.41|        150.33|      143.24|       132.16|       118.43|         85.15|\n",
      "|fe1375ed-d167-47b...|28c49e05-e5f2-410...|042594bf-5011-435...|         MSFT|2023-11-27|      381.13|       385.77|       380.15|        374.42|      372.39|       333.11|       293.99|        248.72|\n",
      "|4e81ebdf-8282-4b9...|0a86266f-85b9-448...|26a37152-781c-400...|         TSLA|2023-11-27|      242.14|       247.25|       282.35|        286.17|       231.3|       193.07|       202.59|        141.99|\n",
      "|020a4986-6927-42d...|b2bf2be3-55f9-406...|e390ddf0-6791-474...|         AMZN|2023-11-24|      148.07|       149.68|       149.14|        149.95|      143.25|       129.14|       118.94|         84.87|\n",
      "|5fba583a-dd56-4fc...|d5a67da2-4375-45e...|042594bf-5011-435...|         MSFT|2023-11-24|      381.38|       385.77|       378.36|        373.61|      367.22|       327.15|       294.92|        248.27|\n",
      "|a8971bce-4c56-419...|25df3678-278b-426...|26a37152-781c-400...|         TSLA|2023-11-24|      241.62|       246.35|       284.94|        286.03|      230.04|       191.35|       202.34|        141.83|\n",
      "|dfcc929b-bd79-45d...|cf5495cb-cca8-459...|e390ddf0-6791-474...|         AMZN|2023-11-22|      147.89|       151.18|       149.42|        149.71|      141.53|       123.84|       119.48|         84.75|\n",
      "|061b56f6-f154-407...|52bd4e4c-4795-4fc...|042594bf-5011-435...|         MSFT|2023-11-22|      381.73|       385.55|       377.03|         373.0|      368.23|       322.03|       296.53|         248.1|\n",
      "+--------------------+--------------------+--------------------+-------------+----------+------------+-------------+-------------+--------------+------------+-------------+-------------+--------------+\n",
      "only showing top 20 rows\n",
      "\n"
     ]
    },
    {
     "name": "stderr",
     "output_type": "stream",
     "text": [
      "                                                                                \r"
     ]
    }
   ],
   "source": [
    "# Define the Bollinger Bands periods\n",
    "bollinger_periods = [5, 20, 50, 200]\n",
    "\n",
    "partition_cols = [\"stock_id\", \"ticker_symbol\"]\n",
    "\n",
    "# Define the windows for Bollinger Bands\n",
    "windows = [Window().partitionBy(partition_cols).orderBy(F.desc(\"date\")).rowsBetween(0, p - 1) for p in bollinger_periods]\n",
    "\n",
    "# Reuse the existing EMA values for Bollinger Bands\n",
    "for p in bollinger_periods:\n",
    "    upper_band_col = F.col(f\"{p}_days_ema\") + (2 * F.stddev(\"close\").over(windows[bollinger_periods.index(p)]))\n",
    "    lower_band_col = F.col(f\"{p}_days_ema\") - (2 * F.stddev(\"close\").over(windows[bollinger_periods.index(p)]))\n",
    "\n",
    "    cleanedStockData = cleanedStockData.withColumn(f\"{p}_upper_band\", F.round(upper_band_col, round_to_decimal))\n",
    "    cleanedStockData = cleanedStockData.withColumn(f\"{p}_lower_band\", F.round(lower_band_col, round_to_decimal))\n",
    "\n",
    "# Show the result\n",
    "selected_columns = ['cal_id','transaction_id',\"stock_id\", \"ticker_symbol\",'date'] + [f\"{p}_upper_band\" for p in bollinger_periods] + [f\"{p}_lower_band\" for p in bollinger_periods]\n",
    "boilling_bands_data = cleanedStockData.select(selected_columns).orderBy(F.desc(\"date\"))\n",
    "boilling_bands_data.show()\n",
    "\n",
    "# Schema and table name\n",
    "table_name = '\"BoillingerBands\"'\n",
    "\n",
    "# Write the DataFrame to the database table\n",
    "boilling_bands_data.write.jdbc(os.getenv(\"DB_URL\"), table_name, mode=\"overwrite\", properties=db_properties)\n"
   ]
  },
  {
   "cell_type": "markdown",
   "metadata": {},
   "source": [
    "## Relative Strength Index (RSI) Calculation Explanation\n",
    "\n",
    "This code cell calculates the Relative Strength Index (RSI) for a given stock dataset. The RSI is a momentum oscillator that measures the speed and change of price movements. The breakdown includes critical steps and considerations:\n",
    "\n",
    "- **Price Changes:**\n",
    "  - The code calculates the daily price changes by subtracting the previous day's closing price from the current day's closing price.\n",
    "\n",
    "- **Gains and Losses:**\n",
    "  - Gains and losses are determined based on whether the price change is positive or negative.\n",
    "\n",
    "- **Exponential Moving Averages (EMAs):**\n",
    "  - Exponential Moving Averages (EMAs) are calculated for both gains and losses over the specified RSI period. EMAs give more weight to recent price changes, providing a more responsive indicator.\n",
    "\n",
    "- **Handling NULL and Zero Values:**\n",
    "  - NULL values for average gains are handled by replacing them with zero. Additionally, zero values for average losses are replaced with zero to avoid division errors.\n",
    "\n",
    "- **Relative Strength (RS) Calculation:**\n",
    "  - The Relative Strength (RS) is calculated as the ratio of average gains to average losses.\n",
    "\n",
    "- **RSI Calculation:**\n",
    "  - The RSI is calculated using the standard formula: \\(100 - \\frac{100}{1 + RS}\\). This value is then rounded to two decimal places.\n",
    "\n",
    "- **List of RSI Periods:**\n",
    "  - The code calculates RSI for multiple periods, including 14, 20, 50, and 200 days, providing insights into short-term and long-term momentum.\n",
    "\n",
    "- **Result Presentation:**\n",
    "  - The final DataFrame includes columns for the ticker symbol, date, closing price, and RSI for each specified period, offering a comprehensive view of the stock's momentum trends.\n",
    "\n",
    "- **Data Partitioning:**\n",
    "  - The data is partitioned by \"stock_id\" and \"ticker_symbol\" to ensure accurate calculations for individual stocks. This is crucial for meaningful stock market analysis.\n",
    "\n",
    "- **Decimal Rounding:**\n",
    "  - All numerical values, including the calculated RSI, are rounded to two decimal places for consistency and readability.\n",
    "\n",
    "This code enhances the dataset with RSI values, contributing to the analysis of potential overbought or oversold market conditions.\n"
   ]
  },
  {
   "cell_type": "code",
   "execution_count": 9,
   "metadata": {},
   "outputs": [
    {
     "name": "stderr",
     "output_type": "stream",
     "text": [
      "                                                                                \r"
     ]
    },
    {
     "name": "stdout",
     "output_type": "stream",
     "text": [
      "+--------------------+--------------------+--------------------+-------------+----------+-----------+-----------+-----------+------------+\n",
      "|              cal_id|      transaction_id|            stock_id|ticker_symbol|      date|14_days_rsi|20_days_rsi|50_days_rsi|200_days_rsi|\n",
      "+--------------------+--------------------+--------------------+-------------+----------+-----------+-----------+-----------+------------+\n",
      "|08c891bd-3cca-44c...|9122ad23-3dff-457...|042594bf-5011-435...|         MSFT|2023-12-01|      54.77|      66.98|      64.41|       57.01|\n",
      "|5a975f31-3718-425...|650a33a4-d636-4b2...|e390ddf0-6791-474...|         AMZN|2023-12-01|      59.09|      65.56|      58.99|       56.28|\n",
      "|72144aff-1119-412...|a220e2ee-95bb-466...|26a37152-781c-400...|         TSLA|2023-12-01|      66.69|      60.77|      46.73|       51.14|\n",
      "|2dba6bfa-2d28-479...|fb233437-42b9-4b3...|e390ddf0-6791-474...|         AMZN|2023-11-30|       63.0|      65.71|      55.22|       56.34|\n",
      "|05c9eaa9-a607-4cc...|d8f26017-c7cf-4f3...|042594bf-5011-435...|         MSFT|2023-11-30|      66.47|       71.9|       65.5|       57.13|\n",
      "|592ccbbc-1e1e-41e...|be21f172-b348-4e1...|26a37152-781c-400...|         TSLA|2023-11-30|      69.84|      66.24|      45.73|       51.43|\n",
      "|8656db3f-d3de-4d2...|6201821d-6c3e-410...|e390ddf0-6791-474...|         AMZN|2023-11-29|      59.48|      70.29|      54.11|       56.39|\n",
      "|0ce83bc9-2ca5-443...|8c53d985-f34b-44d...|042594bf-5011-435...|         MSFT|2023-11-29|      63.55|      74.58|      62.85|       57.17|\n",
      "|67d7540d-ab81-4b5...|3d080d8b-5035-423...|26a37152-781c-400...|         TSLA|2023-11-29|      63.12|      70.29|      45.76|       52.27|\n",
      "|226b7685-11be-41a...|532a81a6-3ecf-4d5...|e390ddf0-6791-474...|         AMZN|2023-11-28|      59.69|      72.18|      53.29|       56.73|\n",
      "|9cba86ee-1e26-4f8...|cf1dc734-a6c4-462...|042594bf-5011-435...|         MSFT|2023-11-28|      69.59|      78.44|      63.97|       57.93|\n",
      "|25cb486d-545b-452...|0d3c66f0-342e-44f...|26a37152-781c-400...|         TSLA|2023-11-28|      65.07|      72.93|      46.46|       52.28|\n",
      "|eecb6de0-7aad-4fc...|0b2aaa7e-f2dc-499...|e390ddf0-6791-474...|         AMZN|2023-11-27|      66.27|      77.35|      53.43|       56.74|\n",
      "|7d3dea62-532e-4d1...|28c49e05-e5f2-410...|042594bf-5011-435...|         MSFT|2023-11-27|      69.54|      79.32|       62.8|       57.66|\n",
      "|7ca37c1a-0d07-4e6...|0a86266f-85b9-448...|26a37152-781c-400...|         TSLA|2023-11-27|      61.41|      63.46|      42.65|       51.32|\n",
      "|c460263c-2a44-4c0...|b2bf2be3-55f9-406...|e390ddf0-6791-474...|         AMZN|2023-11-24|      66.48|      81.07|      50.92|       56.35|\n",
      "|0cb6be66-c2e5-4cc...|d5a67da2-4375-45e...|042594bf-5011-435...|         MSFT|2023-11-24|      70.86|       79.5|      59.86|       57.36|\n",
      "|04e6682f-d0a2-47a...|25df3678-278b-426...|26a37152-781c-400...|         TSLA|2023-11-24|       60.5|      63.77|      42.24|       51.56|\n",
      "|4f798945-8578-448...|cf5495cb-cca8-459...|e390ddf0-6791-474...|         AMZN|2023-11-22|      67.14|      77.81|      50.84|       56.03|\n",
      "|88d8bd37-4aaf-4a0...|52bd4e4c-4795-4fc...|042594bf-5011-435...|         MSFT|2023-11-22|       73.4|       69.3|      60.52|       57.32|\n",
      "+--------------------+--------------------+--------------------+-------------+----------+-----------+-----------+-----------+------------+\n",
      "only showing top 20 rows\n",
      "\n"
     ]
    },
    {
     "name": "stderr",
     "output_type": "stream",
     "text": [
      "                                                                                \r"
     ]
    }
   ],
   "source": [
    "def calculate_rsi(data, n):\n",
    "    # Calculate price changes\n",
    "    price_diff = F.col(\"close\") - F.lag(\"close\", 1).over(Window().partitionBy(\"stock_id\", \"ticker_symbol\").orderBy(\"date\"))\n",
    "    \n",
    "    # Separate gains and losses\n",
    "    gains = F.when(price_diff > 0, price_diff).otherwise(0)\n",
    "    losses = F.when(price_diff < 0, -price_diff).otherwise(0)\n",
    "    \n",
    "    # Calculate average gains and losses over n periods from the latest day backward\n",
    "    avg_gains = F.avg(gains).over(Window().partitionBy(\"stock_id\", \"ticker_symbol\").orderBy(F.desc(\"date\")).rowsBetween(0, n-1))\n",
    "    avg_losses = F.avg(losses).over(Window().partitionBy(\"stock_id\", \"ticker_symbol\").orderBy(F.desc(\"date\")).rowsBetween(0, n-1))\n",
    "    \n",
    "    # Handle NULL values for average gains\n",
    "    avg_gains = F.coalesce(avg_gains, F.lit(0))\n",
    "\n",
    "    # Handle 0 values for average losses\n",
    "    avg_losses = F.when(avg_losses.isNull() | (avg_losses == 0), 0).otherwise(avg_losses)\n",
    "\n",
    "    # Calculate RSI\n",
    "    rs = F.when((avg_losses == 0) & (avg_gains != 0), F.lit(avg_gains)) \\\n",
    "      .when((avg_losses != 0) & (avg_gains == 0), F.lit(0)) \\\n",
    "      .otherwise(F.when(avg_losses == 0, F.lit(float('inf'))) \\\n",
    "                  .otherwise(avg_gains / avg_losses))\n",
    "    \n",
    "    # Calculate RSI and round to 2 decimal places\n",
    "    rsi = 100 - (100 / (1 + rs))\n",
    "    \n",
    "    return F.round(rsi, round_to_decimal)\n",
    "\n",
    "# List of RSI periods\n",
    "rsi_periods = [14, 20, 50, 200]\n",
    "\n",
    "# Calculate and add RSI columns to the DataFrame for each period\n",
    "for n in rsi_periods:\n",
    "    column_name = f\"{n}_days_rsi\"\n",
    "    cleanedStockData = cleanedStockData.withColumn(column_name, calculate_rsi(cleanedStockData, n))\n",
    "\n",
    "# Show the result\n",
    "result_columns = ['cal_id','transaction_id',\"stock_id\", \"ticker_symbol\",'date'] + [f\"{n}_days_rsi\" for n in rsi_periods]\n",
    "relative_indexes_data = cleanedStockData.select(result_columns).orderBy(F.desc(\"date\"))\n",
    "relative_indexes_data.show()\n",
    "\n",
    "# Schema and table name\n",
    "table_name = '\"RelativeIndexes\"'\n",
    "\n",
    "relative_indexes_data.write.jdbc(os.getenv(\"DB_URL\"), table_name, mode=\"overwrite\", properties=db_properties)\n",
    "\n",
    "# Stop the Spark session when you're done\n",
    "spark.stop()\n"
   ]
  },
  {
   "cell_type": "markdown",
   "metadata": {},
   "source": [
    "# Update tables to original structures after overwriten process"
   ]
  },
  {
   "cell_type": "markdown",
   "metadata": {},
   "source": [
    "## Alter tables to approriate data types "
   ]
  },
  {
   "cell_type": "code",
   "execution_count": 10,
   "metadata": {},
   "outputs": [
    {
     "name": "stdout",
     "output_type": "stream",
     "text": [
      "SQL statements executed successfully.\n"
     ]
    }
   ],
   "source": [
    "alter_statements = [\n",
    "    # Altered data types for MovingAverages table\n",
    "    \"\"\"\n",
    "    ALTER TABLE \"MovingAverages\"\n",
    "    ALTER COLUMN \"cal_id\" TYPE UUID USING \"transaction_id\"::UUID,\n",
    "    ALTER COLUMN \"transaction_id\" TYPE UUID USING \"transaction_id\"::UUID,\n",
    "    ALTER COLUMN \"stock_id\" TYPE UUID USING \"stock_id\"::UUID,\n",
    "    ALTER COLUMN \"ticker_symbol\" TYPE VARCHAR,\n",
    "    ALTER COLUMN \"date\" TYPE DATE,\n",
    "    ALTER COLUMN \"5_days_sma\" TYPE FLOAT,\n",
    "    ALTER COLUMN \"20_days_sma\" TYPE FLOAT,\n",
    "    ALTER COLUMN \"50_days_sma\" TYPE FLOAT,\n",
    "    ALTER COLUMN \"200_days_sma\" TYPE FLOAT,\n",
    "    ALTER COLUMN \"5_days_ema\" TYPE FLOAT,\n",
    "    ALTER COLUMN \"20_days_ema\" TYPE FLOAT,\n",
    "    ALTER COLUMN \"50_days_ema\" TYPE FLOAT,\n",
    "    ALTER COLUMN \"200_days_ema\" TYPE FLOAT;\n",
    "    \"\"\",\n",
    "    # Altered data types for BoillingerBands table\n",
    "    \"\"\"\n",
    "    ALTER TABLE \"BoillingerBands\"\n",
    "    ALTER COLUMN \"cal_id\" TYPE UUID USING \"transaction_id\"::UUID,\n",
    "    ALTER COLUMN \"transaction_id\" TYPE UUID USING \"transaction_id\"::UUID,\n",
    "    ALTER COLUMN \"stock_id\" TYPE UUID USING \"stock_id\"::UUID,\n",
    "    ALTER COLUMN \"ticker_symbol\" TYPE VARCHAR,\n",
    "    ALTER COLUMN \"date\" TYPE DATE,\n",
    "    ALTER COLUMN \"5_upper_band\" TYPE FLOAT,\n",
    "    ALTER COLUMN \"20_upper_band\" TYPE FLOAT,\n",
    "    ALTER COLUMN \"50_upper_band\" TYPE FLOAT,\n",
    "    ALTER COLUMN \"200_upper_band\" TYPE FLOAT,\n",
    "    ALTER COLUMN \"5_lower_band\" TYPE FLOAT,\n",
    "    ALTER COLUMN \"20_lower_band\" TYPE FLOAT,\n",
    "    ALTER COLUMN \"50_lower_band\" TYPE FLOAT,\n",
    "    ALTER COLUMN \"200_lower_band\" TYPE FLOAT;\n",
    "    \"\"\",\n",
    "\n",
    "    # Altered data types for RelativeIndexes table\n",
    "    \"\"\"\n",
    "    ALTER TABLE \"RelativeIndexes\"\n",
    "    ALTER COLUMN \"cal_id\" TYPE UUID USING \"transaction_id\"::UUID,\n",
    "    ALTER COLUMN \"transaction_id\" TYPE UUID USING \"transaction_id\"::UUID,\n",
    "    ALTER COLUMN \"stock_id\" TYPE UUID USING \"stock_id\"::UUID,\n",
    "    ALTER COLUMN \"ticker_symbol\" TYPE VARCHAR,\n",
    "    ALTER COLUMN \"date\" TYPE DATE,\n",
    "    ALTER COLUMN \"14_days_rsi\" TYPE FLOAT,\n",
    "    ALTER COLUMN \"20_days_rsi\" TYPE FLOAT,\n",
    "    ALTER COLUMN \"50_days_rsi\" TYPE FLOAT,\n",
    "    ALTER COLUMN \"200_days_rsi\" TYPE FLOAT;\n",
    "    \"\"\"\n",
    "]\n",
    "\n",
    "# Execute SQL statements\n",
    "execute_sql(connection, alter_statements)"
   ]
  },
  {
   "cell_type": "markdown",
   "metadata": {},
   "source": [
    "## Adding key constrains"
   ]
  },
  {
   "cell_type": "code",
   "execution_count": 11,
   "metadata": {},
   "outputs": [
    {
     "name": "stdout",
     "output_type": "stream",
     "text": [
      "SQL statements executed successfully.\n"
     ]
    }
   ],
   "source": [
    "alter_key_constrains_statements = [\n",
    "    # MovingAverages\n",
    "    'ALTER TABLE \"MovingAverages\" ADD CONSTRAINT \"pk_MovingAverages_cal_id\" PRIMARY KEY (\"cal_id\");',\n",
    "    'ALTER TABLE \"MovingAverages\" ADD CONSTRAINT \"fk_MovingAverages_transaction_id\" FOREIGN KEY (\"transaction_id\") REFERENCES \"Stocks\"(\"transaction_id\") ON DELETE CASCADE;',\n",
    "    'ALTER TABLE \"MovingAverages\" ADD CONSTRAINT \"fk_MovingAverages_stock_id_ticker_symbol\" FOREIGN KEY (\"stock_id\", \"ticker_symbol\") REFERENCES \"CompanyInformation\"(\"stock_id\", \"ticker_symbol\");',\n",
    "\n",
    "    # BoillingerBands\n",
    "    'ALTER TABLE \"BoillingerBands\" ADD CONSTRAINT \"pk_BoillingerBands_cal_id\" PRIMARY KEY (\"cal_id\");',\n",
    "    'ALTER TABLE \"BoillingerBands\" ADD CONSTRAINT \"fk_BoillingerBands_transaction_id\" FOREIGN KEY (\"transaction_id\") REFERENCES \"Stocks\"(\"transaction_id\") ON DELETE CASCADE;',\n",
    "    'ALTER TABLE \"BoillingerBands\" ADD CONSTRAINT \"fk_BoillingerBands_stock_id_ticker_symbol\" FOREIGN KEY (\"stock_id\", \"ticker_symbol\") REFERENCES \"CompanyInformation\"(\"stock_id\", \"ticker_symbol\");',\n",
    "\n",
    "    # RelativeIndexes\n",
    "    'ALTER TABLE \"RelativeIndexes\" ADD CONSTRAINT \"pk_RelativeIndexes_cal_id\" PRIMARY KEY (\"cal_id\");',\n",
    "    'ALTER TABLE \"RelativeIndexes\" ADD CONSTRAINT \"fk_RelativeIndexes_transaction_id\" FOREIGN KEY (\"transaction_id\") REFERENCES \"Stocks\"(\"transaction_id\") ON DELETE CASCADE;',\n",
    "    'ALTER TABLE \"RelativeIndexes\" ADD CONSTRAINT \"fk_RelativeIndexes_stock_id_ticker_symbol\" FOREIGN KEY (\"stock_id\", \"ticker_symbol\") REFERENCES \"CompanyInformation\"(\"stock_id\", \"ticker_symbol\");'\n",
    "]\n",
    "\n",
    "# Execute SQL statements\n",
    "execute_sql(connection, alter_key_constrains_statements)"
   ]
  },
  {
   "cell_type": "markdown",
   "metadata": {},
   "source": [
    "## Create Indexes"
   ]
  },
  {
   "cell_type": "code",
   "execution_count": 12,
   "metadata": {},
   "outputs": [
    {
     "name": "stdout",
     "output_type": "stream",
     "text": [
      "SQL statements executed successfully.\n"
     ]
    }
   ],
   "source": [
    "# List of SQL statements for indexes\n",
    "index_sql_statements = [\n",
    "    'CREATE INDEX IF NOT EXISTS idx_ma_stock_id_ticker_symbol_date ON \"MovingAverages\"(\"stock_id\", \"ticker_symbol\", \"date\");',\n",
    "    'CREATE INDEX IF NOT EXISTS idx_ma_date ON \"MovingAverages\"(\"date\");',\n",
    "    'CREATE INDEX IF NOT EXISTS idx_bb_stock_id_ticker_symbol_date ON \"BoillingerBands\"(\"stock_id\", \"ticker_symbol\", \"date\");',\n",
    "    'CREATE INDEX IF NOT EXISTS idx_bb_date ON \"BoillingerBands\"(\"date\");',\n",
    "    'CREATE INDEX IF NOT EXISTS idx_ri_stock_id_ticker_symbol_date ON \"RelativeIndexes\"(\"stock_id\", \"ticker_symbol\", \"date\");',\n",
    "    'CREATE INDEX IF NOT EXISTS idx_ri_date ON \"RelativeIndexes\"(\"date\");',\n",
    "]\n",
    "\n",
    "# Execute SQL statements\n",
    "execute_sql(connection, index_sql_statements)\n"
   ]
  },
  {
   "cell_type": "code",
   "execution_count": 13,
   "metadata": {},
   "outputs": [],
   "source": [
    "# Close the database connection\n",
    "connection.close()"
   ]
  }
 ],
 "metadata": {
  "kernelspec": {
   "display_name": "myenv",
   "language": "python",
   "name": "python3"
  },
  "language_info": {
   "codemirror_mode": {
    "name": "ipython",
    "version": 3
   },
   "file_extension": ".py",
   "mimetype": "text/x-python",
   "name": "python",
   "nbconvert_exporter": "python",
   "pygments_lexer": "ipython3",
   "version": "3.11.4"
  }
 },
 "nbformat": 4,
 "nbformat_minor": 2
}
