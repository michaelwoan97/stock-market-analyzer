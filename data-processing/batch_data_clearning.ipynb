{
 "cells": [
  {
   "cell_type": "code",
   "execution_count": 43,
   "metadata": {},
   "outputs": [
    {
     "name": "stdout",
     "output_type": "stream",
     "text": [
      "The dotenv extension is already loaded. To reload it, use:\n",
      "  %reload_ext dotenv\n"
     ]
    }
   ],
   "source": [
    "from pyspark.sql import SparkSession\n",
    "from pyspark.sql import functions as func\n",
    "from pyspark.sql.types import StructType, StructField, StringType, IntegerType, FloatType, DateType, DoubleType, ArrayType\n",
    "import matplotlib.pyplot as plt\n",
    "import seaborn as sns\n",
    "import os\n",
    "from dotenv import load_dotenv\n",
    "from pyspark.sql.window import Window\n",
    "from pyspark.sql import functions as F\n",
    "import uuid\n",
    "\n",
    "# use in notebook only\n",
    "%load_ext dotenv\n",
    "%dotenv ../.env\n",
    "\n",
    "# Load environment variables from the .env file in the parent directory\n",
    "# dotenv_path = os.path.join(os.path.dirname(__file__), \"..\", \".env\")\n",
    "# load_dotenv(dotenv_path)"
   ]
  },
  {
   "cell_type": "markdown",
   "metadata": {},
   "source": [
    "# PySpark Data Cleaning for PostgreSQL Stock Data\n",
    "\n",
    "This PySpark script is designed for data cleaning and schema customization of stock data retrieved from a PostgreSQL database. The code covers the following steps:\n",
    "\n",
    "1. **Setting Up Spark Session:**\n",
    "   - Specifies the path to the PostgreSQL JDBC driver JAR file.\n",
    "   - Creates a Spark session with specific configurations, including the JDBC driver.\n",
    "\n",
    "2. **Reading Database Properties:**\n",
    "   - Reads database connection properties from environment variables such as user, password, driver, and URL.\n",
    "\n",
    "3. **Reading Data from PostgreSQL:**\n",
    "   - Attempts to read stock data from the specified PostgreSQL table using the provided database properties.\n",
    "\n",
    "4. **Defining Custom Schema:**\n",
    "   - Defines a custom schema for the stock data, specifying data types for each column.\n",
    "\n",
    "5. **Applying Custom Schema:**\n",
    "   - Converts the data types of columns in the DataFrame to match the custom schema.\n",
    "\n",
    "6. **Displaying the Result:**\n",
    "   - Shows the cleaned stock data with the custom schema.\n",
    "\n",
    "7. **Exception Handling:**\n",
    "   - Catches and handles any exceptions that may occur during the data reading process, providing detailed error information.\n",
    "\n",
    "Note: Make sure to replace placeholder values such as schema name, table name, and environment variables with actual values specific to your PostgreSQL setup.\n",
    "\n",
    "The code aims to ensure that the stock data adheres to a defined schema for downstream analysis or processing.\n"
   ]
  },
  {
   "cell_type": "code",
   "execution_count": 44,
   "metadata": {},
   "outputs": [
    {
     "name": "stdout",
     "output_type": "stream",
     "text": [
      "+--------------------+--------------------+-------------+----------+--------+--------+--------+---------+--------+\n",
      "|      transaction_id|            stock_id|ticker_symbol|      date|     low|    open|    high|   volume|   close|\n",
      "+--------------------+--------------------+-------------+----------+--------+--------+--------+---------+--------+\n",
      "|f6026c92-1a47-403...|9169dbe9-0d59-486...|         GOOG|2004-08-19|2.390042|2.490664|2.591785|897427216|2.499133|\n",
      "|e50595f9-83c8-4e6...|9169dbe9-0d59-486...|         GOOG|2004-08-20|2.503118| 2.51582|2.716817|458857488|2.697639|\n",
      "|e7665eab-e706-45d...|9169dbe9-0d59-486...|         GOOG|2004-08-23| 2.71607|2.758411|2.826406|366857939|2.724787|\n",
      "|f456c078-0976-4f0...|9169dbe9-0d59-486...|         GOOG|2004-08-24|2.579581|2.770615|2.779581|306396159| 2.61196|\n",
      "|a424e353-c6b8-4e3...|9169dbe9-0d59-486...|         GOOG|2004-08-25|2.587302|2.614201|2.689918|184645512|2.640104|\n",
      "|dc77880b-700f-47f...|9169dbe9-0d59-486...|         GOOG|2004-08-26|2.606729|2.613952|2.688672|142572401|2.687676|\n",
      "|886808bb-c9e7-4e9...|9169dbe9-0d59-486...|         GOOG|2004-08-27|2.632383|2.692408| 2.70536|124826132| 2.64384|\n",
      "|9070d640-c02a-455...|9169dbe9-0d59-486...|         GOOG|2004-08-30|2.540727|2.622171|2.627402|104429967|2.540727|\n",
      "|2766db82-713d-41e...|9169dbe9-0d59-486...|         GOOG|2004-08-31|2.544463| 2.54795|2.583068| 98825037|2.549693|\n",
      "|0d9f2b3a-8f32-438...|9169dbe9-0d59-486...|         GOOG|2004-09-01|2.482445|2.557912|2.564637|183633734|2.496891|\n",
      "|bc107197-22f9-4e9...|9169dbe9-0d59-486...|         GOOG|2004-09-02|2.464263| 2.47049|2.549693|303810504|2.528273|\n",
      "|697b2925-04d5-472...|9169dbe9-0d59-486...|         GOOG|2004-09-03|2.473728|2.514326|2.534002|103538639|2.490913|\n",
      "|df144057-8d46-433...|9169dbe9-0d59-486...|         GOOG|2004-09-07|2.480951| 2.51582|2.540478|117506800|2.530017|\n",
      "|cd8125db-c1a4-4fb...|9169dbe9-0d59-486...|         GOOG|2004-09-08|2.503118|2.509095|2.566132|100186120| 2.54795|\n",
      "|03097f73-b85b-4a8...|9169dbe9-0d59-486...|         GOOG|2004-09-09|2.515571|2.553678|2.558161| 81620792|2.548199|\n",
      "|9273a809-29d4-48b...|9169dbe9-0d59-486...|         GOOG|2004-09-10|2.523043|2.530515|2.654052|174804764|2.623417|\n",
      "|07579efc-ad2b-416...|9169dbe9-0d59-486...|         GOOG|2004-09-13|2.651561|2.655795|2.700129|157628624|2.677464|\n",
      "|ecb5e7b5-419b-4f6...|9169dbe9-0d59-486...|         GOOG|2004-09-14| 2.65978|2.676219|2.789544|217608605|2.776842|\n",
      "|4c407e68-2409-40d...|9169dbe9-0d59-486...|         GOOG|2004-09-15|2.744712|2.753679|2.845086|215279909|2.789544|\n",
      "|d9ab8699-a2c1-4db...|9169dbe9-0d59-486...|         GOOG|2004-09-16|2.780827|2.798012|2.884189|186207345| 2.83861|\n",
      "+--------------------+--------------------+-------------+----------+--------+--------+--------+---------+--------+\n",
      "only showing top 20 rows\n",
      "\n"
     ]
    }
   ],
   "source": [
    "# Specify the path to the PostgreSQL JDBC driver JAR file\n",
    "postgres_jar_path = \"./drivers/postgresql-42.6.0.jar\"\n",
    "\n",
    "# Create a Spark session with the PostgreSQL JDBC driver\n",
    "spark = SparkSession.builder \\\n",
    "    .appName(\"StockDataCleaning\") \\\n",
    "    .config(\"spark.executor.memory\", \"4g\") \\\n",
    "    .config(\"spark.jars\", postgres_jar_path) \\\n",
    "    .getOrCreate()\n",
    "\n",
    "# Read database properties from environment variables\n",
    "db_properties = {\n",
    "    \"user\": os.getenv(\"DB_USER\"),\n",
    "    \"password\": os.getenv(\"DB_PASSWORD\"),\n",
    "    \"driver\": os.getenv(\"DB_DRIVER\"),\n",
    "    \"url\": os.getenv(\"DB_URL\"),\n",
    "}\n",
    "\n",
    "# Schema and table name\n",
    "schema_name = \"public\"  # Replace with your actual schema name\n",
    "table_name = f'{schema_name}.\"Stocks\"'\n",
    "\n",
    "# Attempt to read data from PostgreSQL\n",
    "try:\n",
    "    stockData = spark.read.jdbc(url=db_properties[\"url\"],\n",
    "                                table=table_name,\n",
    "                                properties=db_properties)\n",
    "\n",
    "    # Define your custom schema\n",
    "    custom_schema = StructType([\n",
    "        StructField(\"transaction_id\", StringType(), True),\n",
    "        StructField(\"stock_id\", StringType(), True),\n",
    "        StructField(\"ticker_symbol\", StringType(), True),\n",
    "        StructField(\"date\", DateType(), True),\n",
    "        StructField(\"low\", FloatType(), True),\n",
    "        StructField(\"open\", FloatType(), True),\n",
    "        StructField(\"high\", FloatType(), True),\n",
    "        StructField(\"volume\", IntegerType(), True),\n",
    "        StructField(\"close\", FloatType(), True)\n",
    "    ])\n",
    "\n",
    "    # Apply the custom schema to the DataFrame\n",
    "    stockData = stockData \\\n",
    "        .withColumn(\"transaction_id\", stockData[\"transaction_id\"].cast(StringType())) \\\n",
    "        .withColumn(\"stock_id\", stockData[\"stock_id\"].cast(StringType())) \\\n",
    "        .withColumn(\"ticker_symbol\", stockData[\"ticker_symbol\"].cast(StringType())) \\\n",
    "        .withColumn(\"date\", stockData[\"date\"].cast(DateType())) \\\n",
    "        .withColumn(\"low\", stockData[\"low\"].cast(FloatType())) \\\n",
    "        .withColumn(\"open\", stockData[\"open\"].cast(FloatType())) \\\n",
    "        .withColumn(\"high\", stockData[\"high\"].cast(FloatType())) \\\n",
    "        .withColumn(\"volume\", stockData[\"volume\"].cast(IntegerType())) \\\n",
    "        .withColumn(\"close\", stockData[\"close\"].cast(FloatType()))\n",
    "\n",
    "    # Show the DataFrame with the custom schema\n",
    "    stockData.show()\n",
    "\n",
    "except Exception as e:\n",
    "    print(\"Error reading data from PostgreSQL:\")\n",
    "    print(e)\n",
    "    # Print the full stack trace for debugging\n",
    "    import traceback\n",
    "    traceback.print_exc()\n"
   ]
  },
  {
   "cell_type": "markdown",
   "metadata": {},
   "source": [
    "## Data Preprocessing: Selecting Latest Stock Data\n",
    "\n",
    "This cell performs data preprocessing on the stock data. It first converts the 'date' column to a date type if it's not already. Then, it creates a window specification for each ticker symbol, ordering the data by date in descending order.\n",
    "\n",
    "A row number is added to the DataFrame based on the window specification, and rows with a row number equal to 1 (representing the latest date) for each group are filtered. The unnecessary 'row_number' column is dropped, and only the essential columns (ticker symbol, date, low, open, high, volume, and close) are selected in the final result.\n",
    "\n",
    "The processed result is displayed using the `show()` function.\n"
   ]
  },
  {
   "cell_type": "code",
   "execution_count": 45,
   "metadata": {},
   "outputs": [
    {
     "name": "stdout",
     "output_type": "stream",
     "text": [
      "+-------------+----------+-------+------+-------+--------+-------+\n",
      "|ticker_symbol|      date|    low|  open|   high|  volume|  close|\n",
      "+-------------+----------+-------+------+-------+--------+-------+\n",
      "|         AAPL|2023-11-21| 189.74|191.41|  191.5|36857230| 190.64|\n",
      "|         GOOG|2023-11-21|137.705| 135.5|138.965|14530014|138.435|\n",
      "+-------------+----------+-------+------+-------+--------+-------+\n",
      "\n"
     ]
    }
   ],
   "source": [
    "# Convert the 'date' column to a date type if it's not already\n",
    "stockData = stockData.withColumn(\"date\", F.to_date(stockData[\"date\"]))\n",
    "\n",
    "# Create a window specification for each group, ordered by the 'date' column in descending order\n",
    "windowSpec = Window().partitionBy(\"ticker_symbol\").orderBy(F.desc(\"date\"))\n",
    "\n",
    "# Add a row number to the DataFrame based on the window specification\n",
    "rankedData = stockData.withColumn(\"row_number\", F.row_number().over(windowSpec))\n",
    "\n",
    "# Filter the rows with row number equal to 1 (latest date) for each group\n",
    "latestData = rankedData.filter(\"row_number = 1\").drop(\"row_number\")\n",
    "\n",
    "# Select only the necessary columns\n",
    "result = latestData.select(\"ticker_symbol\", \"date\", \"low\", \"open\", \"high\", \"volume\", \"close\")\n",
    "\n",
    "# Show the result\n",
    "result.show()"
   ]
  },
  {
   "cell_type": "markdown",
   "metadata": {},
   "source": [
    "## Data Quality Check: Missing Values\n",
    "\n",
    "This cell performs a check for missing values in the stock data. It calculates the sum of null values for each column and prints the results."
   ]
  },
  {
   "cell_type": "code",
   "execution_count": 46,
   "metadata": {},
   "outputs": [
    {
     "name": "stdout",
     "output_type": "stream",
     "text": [
      "Missing Values:\n",
      "transaction_id_missing: 0\n",
      "stock_id_missing: 0\n",
      "ticker_symbol_missing: 0\n",
      "date_missing: 0\n",
      "low_missing: 0\n",
      "open_missing: 0\n",
      "high_missing: 0\n",
      "volume_missing: 0\n",
      "close_missing: 0\n"
     ]
    }
   ],
   "source": [
    "# Missing Values\n",
    "missing_values = stockData.select([func.sum(func.col(c).isNull().cast(\"int\")).alias(c + '_missing') for c in stockData.columns]).collect()\n",
    "\n",
    "print(\"Missing Values:\")\n",
    "for row in missing_values[0].asDict():\n",
    "    print(f\"{row}: {missing_values[0][row]}\")\n"
   ]
  },
  {
   "cell_type": "markdown",
   "metadata": {},
   "source": [
    "## Data Cleaning: Handling Missing Values and Deduplication\n",
    "\n",
    "This cell addresses data quality by filling missing values in the 'volume' column with 0. Additionally, it removes duplicate rows based on the 'date' and 'close' columns, ensuring data integrity."
   ]
  },
  {
   "cell_type": "code",
   "execution_count": 47,
   "metadata": {},
   "outputs": [
    {
     "name": "stdout",
     "output_type": "stream",
     "text": [
      "No duplicate dates and close prices found.\n",
      "+--------------------+--------------------+-------------+----------+-------+------+-------+--------+-------+\n",
      "|      transaction_id|            stock_id|ticker_symbol|      date|    low|  open|   high|  volume|  close|\n",
      "+--------------------+--------------------+-------------+----------+-------+------+-------+--------+-------+\n",
      "|f80671f4-7a2b-412...|9169dbe9-0d59-486...|         GOOG|2023-11-21|137.705| 135.5|138.965|14530014|138.435|\n",
      "|3bce187e-5601-471...|9169dbe9-0d59-486...|         GOOG|2023-11-21|137.705| 135.5|138.965|17041821| 138.62|\n",
      "|31400d28-190a-4c0...|d30dc554-d8e3-4b6...|         AAPL|2023-11-21| 189.74|191.41|  191.5|36857230| 190.64|\n",
      "|f920411f-a4e2-41f...|9169dbe9-0d59-486...|         GOOG|2023-11-20| 135.49| 135.5|138.425|19569400| 137.92|\n",
      "|88dc3867-0653-4cd...|d30dc554-d8e3-4b6...|         AAPL|2023-11-20| 189.88|189.89|  191.9|44774744| 191.45|\n",
      "|30d48b45-70e8-495...|9169dbe9-0d59-486...|         GOOG|2023-11-17| 135.48|137.82|  138.0|25565300| 136.94|\n",
      "|f36146a3-7903-471...|d30dc554-d8e3-4b6...|         AAPL|2023-11-17| 188.57|190.25| 190.38|50922700| 189.69|\n",
      "|60cf1bb5-08d8-423...|9169dbe9-0d59-486...|         GOOG|2023-11-16| 136.08|136.96| 138.88|17615100|  138.7|\n",
      "|fe149be6-a4a1-482...|d30dc554-d8e3-4b6...|         AAPL|2023-11-16| 188.65|189.57| 190.96|54412900| 189.71|\n",
      "|a92a49eb-3f30-4dc...|9169dbe9-0d59-486...|         GOOG|2023-11-15| 135.33|136.64| 136.84|15840900| 136.38|\n",
      "|5eeb5072-90da-438...|d30dc554-d8e3-4b6...|         AAPL|2023-11-15| 187.78|187.85|  189.5|53790500| 188.01|\n",
      "|83615636-892d-41a...|d30dc554-d8e3-4b6...|         AAPL|2023-11-14|  186.3| 187.7| 188.11|60108400| 187.44|\n",
      "|688575f6-f8dc-49a...|9169dbe9-0d59-486...|         GOOG|2023-11-14|  135.1|135.65| 137.24|22317300| 135.43|\n",
      "|2e116ba6-f5a1-454...|9169dbe9-0d59-486...|         GOOG|2023-11-13| 132.77|133.36| 134.11|16409900| 133.64|\n",
      "|1ad0806e-0f78-4d0...|d30dc554-d8e3-4b6...|         AAPL|2023-11-13| 184.21|185.82| 186.03|43627500|  184.8|\n",
      "|fc8ae829-f65e-425...|9169dbe9-0d59-486...|         GOOG|2023-11-10| 130.87|131.53| 134.27|20872900| 134.06|\n",
      "|9bef267a-bcf9-485...|d30dc554-d8e3-4b6...|         AAPL|2023-11-10| 183.53|183.97| 186.57|66133400|  186.4|\n",
      "|e98bab01-a52e-405...|9169dbe9-0d59-486...|         GOOG|2023-11-09| 131.51|133.36| 133.96|17976500| 131.69|\n",
      "|04d1eb71-ef36-477...|d30dc554-d8e3-4b6...|         AAPL|2023-11-09| 181.81|182.96| 184.12|53763500| 182.41|\n",
      "|c069aa10-4e8a-4fa...|9169dbe9-0d59-486...|         GOOG|2023-11-08| 132.16|132.36| 133.54|15093600| 133.26|\n",
      "+--------------------+--------------------+-------------+----------+-------+------+-------+--------+-------+\n",
      "only showing top 20 rows\n",
      "\n"
     ]
    }
   ],
   "source": [
    "# Fill missing values in the 'volume' column with 0\n",
    "stockData = stockData.na.fill(0, subset=['volume'])\n",
    "\n",
    "# Drop duplicate rows based on 'date' and 'close' columns\n",
    "cleanedStockData = stockData.dropDuplicates(['date', 'close'])\n",
    "\n",
    "# Check for duplicate values in the 'date' column again\n",
    "duplicate_rows = cleanedStockData.groupBy('date', 'close').count().filter('count > 1')\n",
    "\n",
    "# Show the duplicate dates and close prices, if any\n",
    "if duplicate_rows.count() > 0:\n",
    "    print(\"Duplicate dates and close prices found after deduplication:\")\n",
    "    duplicate_rows.show()\n",
    "else:\n",
    "    print(\"No duplicate dates and close prices found.\")\n",
    "\n",
    "cleanedStockData.orderBy(func.desc(\"date\")).show()\n"
   ]
  },
  {
   "cell_type": "markdown",
   "metadata": {},
   "source": [
    "## Stock Data Moving Averages Analysis\n",
    "\n",
    "This PySpark script calculates Simple Moving Averages (SMA) and Exponential Moving Averages (EMA) for different periods on stock data. The analysis includes importing libraries, defining functions, setting parameters, and displaying the results.\n",
    "\n",
    "- **Moving Averages:**\n",
    "  - Simple Moving Averages (SMA) for periods: 5, 20, 50, 200.\n",
    "  - Exponential Moving Averages (EMA) with corresponding alpha values.\n",
    "\n",
    "- **Data Manipulation:**\n",
    "  - Utilizes PySpark functions and windows for efficient data processing.\n",
    "\n",
    "- **Result Display:**\n",
    "  - Presents the DataFrame with date, close price, SMAs, and EMAs in descending order.\n"
   ]
  },
  {
   "cell_type": "code",
   "execution_count": 48,
   "metadata": {},
   "outputs": [
    {
     "name": "stderr",
     "output_type": "stream",
     "text": [
      "                                                                                \r"
     ]
    },
    {
     "name": "stdout",
     "output_type": "stream",
     "text": [
      "+------+--------------------+--------------------+-------------+----------+----------+-----------+-----------+------------+----------+-----------+-----------+------------+\n",
      "|cal_id|      transaction_id|            stock_id|ticker_symbol|      date|5_days_sma|20_days_sma|50_days_sma|200_days_sma|5_days_ema|20_days_ema|50_days_ema|200_days_ema|\n",
      "+------+--------------------+--------------------+-------------+----------+----------+-----------+-----------+------------+----------+-----------+-----------+------------+\n",
      "| 15674|f80671f4-7a2b-412...|9169dbe9-0d59-486...|         GOOG|2023-11-21|    138.12|     132.17|     134.67|      120.35|    138.13|     130.66|     135.52|      115.96|\n",
      "| 15675|3bce187e-5601-471...|9169dbe9-0d59-486...|         GOOG|2023-11-21|    137.71|     131.58|     134.65|       120.2|    137.57|      130.3|     135.62|      115.91|\n",
      "| 15676|31400d28-190a-4c0...|d30dc554-d8e3-4b6...|         AAPL|2023-11-21|     189.9|      180.5|     177.44|      173.96|     189.5|     178.19|     177.92|      171.34|\n",
      "| 15672|f920411f-a4e2-41f...|9169dbe9-0d59-486...|         GOOG|2023-11-20|    137.07|     131.65|      134.6|      120.03|    136.77|     131.14|     135.55|      115.69|\n",
      "| 15673|88dc3867-0653-4cd...|d30dc554-d8e3-4b6...|         AAPL|2023-11-20|    189.26|     179.64|     177.15|      173.77|    188.92|     177.85|     177.97|      171.25|\n",
      "| 15670|30d48b45-70e8-495...|9169dbe9-0d59-486...|         GOOG|2023-11-17|    136.22|     131.65|      134.6|      119.86|     135.6|     131.65|      135.5|      115.45|\n",
      "| 15671|f36146a3-7903-471...|d30dc554-d8e3-4b6...|         AAPL|2023-11-17|    187.93|     178.72|     176.91|      173.58|    187.31|     177.15|     177.78|      170.85|\n",
      "| 15668|60cf1bb5-08d8-423...|9169dbe9-0d59-486...|         GOOG|2023-11-16|    135.64|     131.64|      134.6|      119.72|    135.32|     132.38|      135.8|      115.62|\n",
      "| 15669|fe149be6-a4a1-482...|d30dc554-d8e3-4b6...|         AAPL|2023-11-16|    187.27|     177.87|     176.68|      173.39|    187.01|     176.74|      177.8|      170.65|\n",
      "| 15666|a92a49eb-3f30-4dc...|9169dbe9-0d59-486...|         GOOG|2023-11-15|    134.24|     131.66|     134.55|      119.54|     133.8|     132.69|     135.51|      115.17|\n",
      "| 15667|5eeb5072-90da-438...|d30dc554-d8e3-4b6...|         AAPL|2023-11-15|    185.81|     177.16|     176.44|      173.17|    185.25|     176.39|     177.56|      170.17|\n",
      "| 15664|688575f6-f8dc-49a...|9169dbe9-0d59-486...|         GOOG|2023-11-14|    133.62|      131.8|     134.53|      119.35|     133.5|     133.19|     135.37|      114.89|\n",
      "| 15665|83615636-892d-41a...|d30dc554-d8e3-4b6...|         AAPL|2023-11-14|    184.79|     176.55|     176.34|      172.95|    184.39|     176.26|      177.7|      169.83|\n",
      "| 15662|2e116ba6-f5a1-454...|9169dbe9-0d59-486...|         GOOG|2023-11-13|    133.01|     132.08|     134.56|      119.17|    132.89|     133.69|     135.18|      114.48|\n",
      "| 15663|1ad0806e-0f78-4d0...|d30dc554-d8e3-4b6...|         AAPL|2023-11-13|    183.66|     176.04|     176.38|      172.73|    183.19|     175.99|     177.81|      169.21|\n",
      "| 15660|fc8ae829-f65e-425...|9169dbe9-0d59-486...|         GOOG|2023-11-10|    132.57|     132.42|     134.62|       119.0|    132.47|      134.4|      135.3|       114.4|\n",
      "| 15661|9bef267a-bcf9-485...|d30dc554-d8e3-4b6...|         AAPL|2023-11-10|    182.55|     175.74|     176.47|      172.53|    182.08|     176.47|     178.48|      169.19|\n",
      "| 15658|e98bab01-a52e-405...|9169dbe9-0d59-486...|         GOOG|2023-11-09|    131.83|     132.65|     134.69|      118.83|    131.46|     134.47|     135.06|      113.92|\n",
      "| 15659|04d1eb71-ef36-477...|d30dc554-d8e3-4b6...|         AAPL|2023-11-09|     180.6|     175.36|      176.5|      172.32|    179.74|     176.15|     178.31|       168.4|\n",
      "| 15656|c069aa10-4e8a-4fa...|9169dbe9-0d59-486...|         GOOG|2023-11-08|    131.21|     133.08|     134.79|      118.65|     130.7|     135.24|     135.35|      113.96|\n",
      "+------+--------------------+--------------------+-------------+----------+----------+-----------+-----------+------------+----------+-----------+-----------+------------+\n",
      "only showing top 20 rows\n",
      "\n"
     ]
    },
    {
     "name": "stderr",
     "output_type": "stream",
     "text": [
      "                                                                                \r"
     ]
    }
   ],
   "source": [
    "round_to_decimal = 2\n",
    "\n",
    "# Generate a UUID for each row\n",
    "# cleanedStockData = cleanedStockData.withColumn(\"cal_id\", F.lit(str(uuid.uuid4())))\n",
    "cleanedStockData = cleanedStockData.withColumn(\"cal_id\", F.monotonically_increasing_id())\n",
    "\n",
    "def calculate_ema(data, alpha):\n",
    "    ema = data[0]\n",
    "    for i in range(1, len(data)):\n",
    "        ema = alpha * data[i] + (1 - alpha) * ema\n",
    "    return ema\n",
    "\n",
    "calculate_ema_udf = F.udf(lambda data, alpha: float(calculate_ema(data, alpha)), FloatType())\n",
    "\n",
    "periods = [5, 20, 50, 200]\n",
    "alpha_values = [2 / (p + 1) for p in periods]\n",
    "\n",
    "partition_cols = [\"stock_id\", \"ticker_symbol\"]\n",
    "\n",
    "windows = [Window().partitionBy(partition_cols).orderBy(F.desc(\"date\")).rowsBetween(0, p - 1) for p in periods]\n",
    "\n",
    "# Calculate simple moving averages\n",
    "for p in periods:\n",
    "    cleanedStockData = cleanedStockData.withColumn(f\"{p}_days_sma\", F.round(F.avg(\"close\").over(windows[periods.index(p)]), 2))\n",
    "\n",
    "# Calculate exponential moving averages using UDF\n",
    "for p, alpha in zip(periods, alpha_values):\n",
    "    cleanedStockData = cleanedStockData.withColumn(f\"{p}_days_ema\", F.round(calculate_ema_udf(F.collect_list(\"close\").over(windows[periods.index(p)]), F.lit(alpha)), round_to_decimal))\n",
    "\n",
    "# Show the result\n",
    "moving_averages_data = cleanedStockData.select(['cal_id','transaction_id',\"stock_id\", \"ticker_symbol\",'date'] + [f\"{p}_days_sma\" for p in periods] + [f\"{p}_days_ema\" for p in periods]).orderBy(F.desc(\"date\"))\n",
    "moving_averages_data.show()\n",
    "\n",
    "# Schema and table name\n",
    "table_name = '\"MovingAverages\"'\n",
    "\n",
    "# Write the DataFrame to the database table\n",
    "moving_averages_data.write.jdbc(os.getenv(\"DB_URL\"), table_name, mode=\"overwrite\", properties=db_properties)"
   ]
  },
  {
   "cell_type": "markdown",
   "metadata": {},
   "source": [
    "## Bollinger Bands Calculation Explanation\n",
    "\n",
    "This Jupiter Notebook cell performs the computation of Bollinger Bands on stock data for volatility analysis. The breakdown includes critical steps and considerations:\n",
    "\n",
    "- **Decimal Rounding:**\n",
    "  - All numerical values are rounded to two decimal places for consistency and readability.\n",
    "\n",
    "- **Bollinger Bands Periods:**\n",
    "  - The Bollinger Bands are computed for four distinct periods: 5, 20, 50, and 200 days, providing insights into short-term and long-term volatility.\n",
    "\n",
    "- **Partitioning for Accuracy:**\n",
    "  - The data is partitioned by \"stock_id\" and \"ticker_symbol\" to ensure accurate calculations for individual stocks. This is crucial for meaningful stock market analysis.\n",
    "\n",
    "- **Reuse of Exponential Moving Averages (EMAs):**\n",
    "  - Existing EMA values, previously calculated, are reused in the Bollinger Bands computation. This approach optimizes computational efficiency and maintains consistency with prior analyses.\n",
    "\n",
    "- **Upper and Lower Band Calculation:**\n",
    "  - The upper and lower bands are determined by adding and subtracting twice the standard deviation of closing prices from the corresponding EMAs. This methodology aligns with the standard Bollinger Bands formula.\n",
    "\n",
    "- **Result Presentation:**\n",
    "  - The final DataFrame includes the date, close price, upper bands, and lower bands for each specified period, providing a comprehensive view of the stock's volatility.\n",
    "\n",
    "This code enhances the dataset with Bollinger Bands, aiding in the identification of potential market trends and volatility patterns."
   ]
  },
  {
   "cell_type": "code",
   "execution_count": 49,
   "metadata": {},
   "outputs": [
    {
     "name": "stderr",
     "output_type": "stream",
     "text": [
      "23/11/26 15:26:17 WARN SparkStringUtils: Truncated the string representation of a plan since it was too large. This behavior can be adjusted by setting 'spark.sql.debug.maxToStringFields'.\n"
     ]
    },
    {
     "name": "stdout",
     "output_type": "stream",
     "text": [
      "+------+--------------------+--------------------+-------------+----------+------------+-------------+-------------+--------------+------------+-------------+-------------+--------------+\n",
      "|cal_id|      transaction_id|            stock_id|ticker_symbol|      date|5_upper_band|20_upper_band|50_upper_band|200_upper_band|5_lower_band|20_lower_band|50_lower_band|200_lower_band|\n",
      "+------+--------------------+--------------------+-------------+----------+------------+-------------+-------------+--------------+------------+-------------+-------------+--------------+\n",
      "| 15674|f80671f4-7a2b-412...|9169dbe9-0d59-486...|         GOOG|2023-11-21|      139.59|       140.86|        145.2|        145.76|      136.67|       120.46|       125.84|         86.16|\n",
      "| 15675|3bce187e-5601-471...|9169dbe9-0d59-486...|         GOOG|2023-11-21|      139.62|       140.33|       145.28|        145.64|      135.52|       120.27|       125.96|         86.18|\n",
      "| 15676|31400d28-190a-4c0...|d30dc554-d8e3-4b6...|         AAPL|2023-11-21|      192.07|       194.42|       190.03|        197.15|      186.93|       161.96|       165.81|        145.53|\n",
      "| 15672|f920411f-a4e2-41f...|9169dbe9-0d59-486...|         GOOG|2023-11-20|      139.33|       141.41|       145.15|         145.4|      134.21|       120.87|       125.95|         85.98|\n",
      "| 15673|88dc3867-0653-4cd...|d30dc554-d8e3-4b6...|         AAPL|2023-11-20|      192.09|       193.64|       189.46|        197.14|      185.75|       162.06|       166.48|        145.36|\n",
      "| 15670|30d48b45-70e8-495...|9169dbe9-0d59-486...|         GOOG|2023-11-17|      139.34|       141.92|        145.1|        145.13|      131.86|       121.38|        125.9|         85.77|\n",
      "| 15671|f36146a3-7903-471...|d30dc554-d8e3-4b6...|         AAPL|2023-11-17|      191.35|       192.17|       188.53|        196.76|      183.27|       162.13|       167.03|        144.94|\n",
      "| 15668|60cf1bb5-08d8-423...|9169dbe9-0d59-486...|         GOOG|2023-11-16|      139.38|       142.63|        145.4|        145.24|      131.26|       122.13|        126.2|          86.0|\n",
      "| 15669|fe149be6-a4a1-482...|d30dc554-d8e3-4b6...|         AAPL|2023-11-16|      190.67|       191.04|       187.91|        196.65|      183.35|       162.44|       167.69|        144.65|\n",
      "| 15666|a92a49eb-3f30-4dc...|9169dbe9-0d59-486...|         GOOG|2023-11-15|      137.39|       142.98|       145.05|        144.78|      130.21|        122.4|       125.97|         85.56|\n",
      "| 15667|5eeb5072-90da-438...|d30dc554-d8e3-4b6...|         AAPL|2023-11-15|      189.77|       189.58|       186.95|        196.37|      180.73|        163.2|       168.17|        143.97|\n",
      "| 15664|688575f6-f8dc-49a...|9169dbe9-0d59-486...|         GOOG|2023-11-14|      136.21|       143.84|        144.9|        144.53|      130.79|       122.54|       125.84|         85.25|\n",
      "| 15665|83615636-892d-41a...|d30dc554-d8e3-4b6...|         AAPL|2023-11-14|      188.74|       188.43|       186.68|        196.26|      180.04|       164.09|       168.72|         143.4|\n",
      "| 15662|2e116ba6-f5a1-454...|9169dbe9-0d59-486...|         GOOG|2023-11-13|      134.81|       145.01|       144.72|        144.18|      130.97|       122.37|       125.64|         84.78|\n",
      "| 15663|1ad0806e-0f78-4d0...|d30dc554-d8e3-4b6...|         AAPL|2023-11-13|      186.98|       187.04|       187.03|         195.9|       179.4|       164.94|       168.59|        142.52|\n",
      "| 15660|fc8ae829-f65e-425...|9169dbe9-0d59-486...|         GOOG|2023-11-10|      134.65|       146.31|       144.86|        144.15|      130.29|       122.49|       125.74|         84.65|\n",
      "| 15661|9bef267a-bcf9-485...|d30dc554-d8e3-4b6...|         AAPL|2023-11-10|      187.23|       186.82|       188.14|        196.09|      176.93|       166.12|       168.82|        142.29|\n",
      "| 15658|e98bab01-a52e-405...|9169dbe9-0d59-486...|         GOOG|2023-11-09|      133.62|       146.68|       144.65|        143.72|       129.3|       122.26|       125.47|         84.12|\n",
      "| 15659|04d1eb71-ef36-477...|d30dc554-d8e3-4b6...|         AAPL|2023-11-09|      184.98|       185.34|        188.1|        195.53|       174.5|       166.96|       168.52|        141.27|\n",
      "| 15656|c069aa10-4e8a-4fa...|9169dbe9-0d59-486...|         GOOG|2023-11-08|      134.35|       147.91|       144.92|        143.87|      127.05|       122.57|       125.78|         84.05|\n",
      "+------+--------------------+--------------------+-------------+----------+------------+-------------+-------------+--------------+------------+-------------+-------------+--------------+\n",
      "only showing top 20 rows\n",
      "\n"
     ]
    },
    {
     "name": "stderr",
     "output_type": "stream",
     "text": [
      "                                                                                \r"
     ]
    }
   ],
   "source": [
    "# Define the Bollinger Bands periods\n",
    "bollinger_periods = [5, 20, 50, 200]\n",
    "\n",
    "partition_cols = [\"stock_id\", \"ticker_symbol\"]\n",
    "\n",
    "# Define the windows for Bollinger Bands\n",
    "windows = [Window().partitionBy(partition_cols).orderBy(F.desc(\"date\")).rowsBetween(0, p - 1) for p in bollinger_periods]\n",
    "\n",
    "# Reuse the existing EMA values for Bollinger Bands\n",
    "for p in bollinger_periods:\n",
    "    upper_band_col = F.col(f\"{p}_days_ema\") + (2 * F.stddev(\"close\").over(windows[bollinger_periods.index(p)]))\n",
    "    lower_band_col = F.col(f\"{p}_days_ema\") - (2 * F.stddev(\"close\").over(windows[bollinger_periods.index(p)]))\n",
    "\n",
    "    cleanedStockData = cleanedStockData.withColumn(f\"{p}_upper_band\", F.round(upper_band_col, round_to_decimal))\n",
    "    cleanedStockData = cleanedStockData.withColumn(f\"{p}_lower_band\", F.round(lower_band_col, round_to_decimal))\n",
    "\n",
    "# Show the result\n",
    "selected_columns = ['cal_id','transaction_id',\"stock_id\", \"ticker_symbol\",'date'] + [f\"{p}_upper_band\" for p in bollinger_periods] + [f\"{p}_lower_band\" for p in bollinger_periods]\n",
    "boilling_bands_data = cleanedStockData.select(selected_columns).orderBy(F.desc(\"date\"))\n",
    "boilling_bands_data.show()\n",
    "\n",
    "# Schema and table name\n",
    "table_name = '\"BoillingerBands\"'\n",
    "\n",
    "# Write the DataFrame to the database table\n",
    "boilling_bands_data.write.jdbc(os.getenv(\"DB_URL\"), table_name, mode=\"overwrite\", properties=db_properties)\n"
   ]
  },
  {
   "cell_type": "markdown",
   "metadata": {},
   "source": [
    "## Relative Strength Index (RSI) Calculation Explanation\n",
    "\n",
    "This code cell calculates the Relative Strength Index (RSI) for a given stock dataset. The RSI is a momentum oscillator that measures the speed and change of price movements. The breakdown includes critical steps and considerations:\n",
    "\n",
    "- **Price Changes:**\n",
    "  - The code calculates the daily price changes by subtracting the previous day's closing price from the current day's closing price.\n",
    "\n",
    "- **Gains and Losses:**\n",
    "  - Gains and losses are determined based on whether the price change is positive or negative.\n",
    "\n",
    "- **Exponential Moving Averages (EMAs):**\n",
    "  - Exponential Moving Averages (EMAs) are calculated for both gains and losses over the specified RSI period. EMAs give more weight to recent price changes, providing a more responsive indicator.\n",
    "\n",
    "- **Handling NULL and Zero Values:**\n",
    "  - NULL values for average gains are handled by replacing them with zero. Additionally, zero values for average losses are replaced with zero to avoid division errors.\n",
    "\n",
    "- **Relative Strength (RS) Calculation:**\n",
    "  - The Relative Strength (RS) is calculated as the ratio of average gains to average losses.\n",
    "\n",
    "- **RSI Calculation:**\n",
    "  - The RSI is calculated using the standard formula: \\(100 - \\frac{100}{1 + RS}\\). This value is then rounded to two decimal places.\n",
    "\n",
    "- **List of RSI Periods:**\n",
    "  - The code calculates RSI for multiple periods, including 14, 20, 50, and 200 days, providing insights into short-term and long-term momentum.\n",
    "\n",
    "- **Result Presentation:**\n",
    "  - The final DataFrame includes columns for the ticker symbol, date, closing price, and RSI for each specified period, offering a comprehensive view of the stock's momentum trends.\n",
    "\n",
    "- **Data Partitioning:**\n",
    "  - The data is partitioned by \"stock_id\" and \"ticker_symbol\" to ensure accurate calculations for individual stocks. This is crucial for meaningful stock market analysis.\n",
    "\n",
    "- **Decimal Rounding:**\n",
    "  - All numerical values, including the calculated RSI, are rounded to two decimal places for consistency and readability.\n",
    "\n",
    "This code enhances the dataset with RSI values, contributing to the analysis of potential overbought or oversold market conditions.\n"
   ]
  },
  {
   "cell_type": "code",
   "execution_count": 50,
   "metadata": {},
   "outputs": [
    {
     "name": "stderr",
     "output_type": "stream",
     "text": [
      "                                                                                \r"
     ]
    },
    {
     "name": "stdout",
     "output_type": "stream",
     "text": [
      "+------+--------------------+--------------------+-------------+----------+-----------+-----------+-----------+------------+\n",
      "|cal_id|      transaction_id|            stock_id|ticker_symbol|      date|14_days_rsi|20_days_rsi|50_days_rsi|200_days_rsi|\n",
      "+------+--------------------+--------------------+-------------+----------+-----------+-----------+-----------+------------+\n",
      "| 15674|f80671f4-7a2b-412...|9169dbe9-0d59-486...|         GOOG|2023-11-21|      78.62|      72.22|      50.64|       54.78|\n",
      "| 15675|3bce187e-5601-471...|9169dbe9-0d59-486...|         GOOG|2023-11-21|      79.21|      47.47|      51.15|       55.35|\n",
      "| 15676|31400d28-190a-4c0...|d30dc554-d8e3-4b6...|         AAPL|2023-11-21|      84.26|      72.66|      58.76|       55.81|\n",
      "| 15672|f920411f-a4e2-41f...|9169dbe9-0d59-486...|         GOOG|2023-11-20|      81.36|      50.02|       50.1|       55.02|\n",
      "| 15673|88dc3867-0653-4cd...|d30dc554-d8e3-4b6...|         AAPL|2023-11-20|       88.7|      74.54|      57.19|       55.49|\n",
      "| 15670|30d48b45-70e8-495...|9169dbe9-0d59-486...|         GOOG|2023-11-17|      78.56|      50.24|      49.85|       54.29|\n",
      "| 15671|f36146a3-7903-471...|d30dc554-d8e3-4b6...|         AAPL|2023-11-17|      88.13|      73.38|      56.89|       55.74|\n",
      "| 15668|60cf1bb5-08d8-423...|9169dbe9-0d59-486...|         GOOG|2023-11-16|      87.91|      49.67|      51.41|       55.58|\n",
      "| 15669|fe149be6-a4a1-482...|d30dc554-d8e3-4b6...|         AAPL|2023-11-16|      89.09|       68.5|      57.22|       56.44|\n",
      "| 15666|a92a49eb-3f30-4dc...|9169dbe9-0d59-486...|         GOOG|2023-11-15|      86.15|      46.42|      50.58|       55.48|\n",
      "| 15667|5eeb5072-90da-438...|d30dc554-d8e3-4b6...|         AAPL|2023-11-15|      88.94|      66.36|       52.9|       56.36|\n",
      "| 15664|688575f6-f8dc-49a...|9169dbe9-0d59-486...|         GOOG|2023-11-14|       71.7|      43.26|      49.27|       55.61|\n",
      "| 15665|83615636-892d-41a...|d30dc554-d8e3-4b6...|         AAPL|2023-11-14|      76.56|      63.56|       48.8|       56.46|\n",
      "| 15662|2e116ba6-f5a1-454...|9169dbe9-0d59-486...|         GOOG|2023-11-13|      39.82|      41.43|      48.16|       54.92|\n",
      "| 15663|1ad0806e-0f78-4d0...|d30dc554-d8e3-4b6...|         AAPL|2023-11-13|      68.65|      58.25|      47.46|       55.64|\n",
      "| 15660|fc8ae829-f65e-425...|9169dbe9-0d59-486...|         GOOG|2023-11-10|      44.29|      44.55|      48.09|       55.19|\n",
      "| 15661|9bef267a-bcf9-485...|d30dc554-d8e3-4b6...|         AAPL|2023-11-10|      72.87|      60.67|       49.2|       56.15|\n",
      "| 15658|e98bab01-a52e-405...|9169dbe9-0d59-486...|         GOOG|2023-11-09|      42.21|      39.46|      46.88|        55.2|\n",
      "| 15659|04d1eb71-ef36-477...|d30dc554-d8e3-4b6...|         AAPL|2023-11-09|      68.74|      52.56|      47.02|       55.91|\n",
      "| 15656|c069aa10-4e8a-4fa...|9169dbe9-0d59-486...|         GOOG|2023-11-08|      41.36|      39.62|      48.67|       55.05|\n",
      "+------+--------------------+--------------------+-------------+----------+-----------+-----------+-----------+------------+\n",
      "only showing top 20 rows\n",
      "\n"
     ]
    },
    {
     "name": "stderr",
     "output_type": "stream",
     "text": [
      "                                                                                \r"
     ]
    }
   ],
   "source": [
    "def calculate_rsi(data, n):\n",
    "    # Calculate price changes\n",
    "    price_diff = F.col(\"close\") - F.lag(\"close\", 1).over(Window().partitionBy(\"stock_id\", \"ticker_symbol\").orderBy(\"date\"))\n",
    "    \n",
    "    # Separate gains and losses\n",
    "    gains = F.when(price_diff > 0, price_diff).otherwise(0)\n",
    "    losses = F.when(price_diff < 0, -price_diff).otherwise(0)\n",
    "    \n",
    "    # Calculate average gains and losses over n periods from the latest day backward\n",
    "    avg_gains = F.avg(gains).over(Window().partitionBy(\"stock_id\", \"ticker_symbol\").orderBy(F.desc(\"date\")).rowsBetween(0, n-1))\n",
    "    avg_losses = F.avg(losses).over(Window().partitionBy(\"stock_id\", \"ticker_symbol\").orderBy(F.desc(\"date\")).rowsBetween(0, n-1))\n",
    "    \n",
    "    # Handle NULL values for average gains\n",
    "    avg_gains = F.coalesce(avg_gains, F.lit(0))\n",
    "\n",
    "    # Handle 0 values for average losses\n",
    "    avg_losses = F.when(avg_losses.isNull() | (avg_losses == 0), 0).otherwise(avg_losses)\n",
    "\n",
    "    # Calculate RSI\n",
    "    rs = F.when((avg_losses == 0) & (avg_gains != 0), F.lit(avg_gains)) \\\n",
    "      .when((avg_losses != 0) & (avg_gains == 0), F.lit(0)) \\\n",
    "      .otherwise(F.when(avg_losses == 0, F.lit(float('inf'))) \\\n",
    "                  .otherwise(avg_gains / avg_losses))\n",
    "    \n",
    "    # Calculate RSI and round to 2 decimal places\n",
    "    rsi = 100 - (100 / (1 + rs))\n",
    "    \n",
    "    return F.round(rsi, round_to_decimal)\n",
    "\n",
    "# List of RSI periods\n",
    "rsi_periods = [14, 20, 50, 200]\n",
    "\n",
    "# Calculate and add RSI columns to the DataFrame for each period\n",
    "for n in rsi_periods:\n",
    "    column_name = f\"{n}_days_rsi\"\n",
    "    cleanedStockData = cleanedStockData.withColumn(column_name, calculate_rsi(cleanedStockData, n))\n",
    "\n",
    "# Show the result\n",
    "result_columns = ['cal_id','transaction_id',\"stock_id\", \"ticker_symbol\",'date'] + [f\"{n}_days_rsi\" for n in rsi_periods]\n",
    "relative_indexes_data = cleanedStockData.select(result_columns).orderBy(F.desc(\"date\"))\n",
    "relative_indexes_data.show()\n",
    "\n",
    "# Schema and table name\n",
    "table_name = '\"RelativeIndexes\"'\n",
    "\n",
    "relative_indexes_data.write.jdbc(os.getenv(\"DB_URL\"), table_name, mode=\"overwrite\", properties=db_properties)\n",
    "\n",
    "# Stop the Spark session when you're done\n",
    "spark.stop()\n"
   ]
  },
  {
   "cell_type": "code",
   "execution_count": 51,
   "metadata": {},
   "outputs": [
    {
     "name": "stdout",
     "output_type": "stream",
     "text": [
      "SQL statements executed successfully.\n"
     ]
    }
   ],
   "source": [
    "import sys\n",
    "sys.path.append('..')  # Add the parent directory to the Python path\n",
    "\n",
    "# Create a database connection\n",
    "from database import create_connection, execute_sql\n",
    "\n",
    "connection = create_connection()\n",
    "\n",
    "drop_view = ['DROP MATERIALIZED VIEW IF EXISTS stock_technical_view;']\n",
    "# Execute SQL statements\n",
    "execute_sql(connection, drop_view)"
   ]
  },
  {
   "cell_type": "markdown",
   "metadata": {},
   "source": [
    "## Alter tables to approriate data types after overwritten"
   ]
  },
  {
   "cell_type": "code",
   "execution_count": 57,
   "metadata": {},
   "outputs": [
    {
     "name": "stdout",
     "output_type": "stream",
     "text": [
      "Error: Unable to execute SQL statements. connection already closed\n"
     ]
    }
   ],
   "source": [
    "alter_statements = [\n",
    "    # Altered data types for MovingAverages table\n",
    "    \"\"\"\n",
    "    ALTER TABLE \"MovingAverages\"\n",
    "    ALTER COLUMN \"transaction_id\" TYPE UUID USING \"transaction_id\"::UUID,\n",
    "    ALTER COLUMN \"stock_id\" TYPE UUID USING \"stock_id\"::UUID,\n",
    "    ALTER COLUMN \"ticker_symbol\" TYPE VARCHAR,\n",
    "    ALTER COLUMN \"date\" TYPE DATE,\n",
    "    ALTER COLUMN \"5_days_sma\" TYPE FLOAT,\n",
    "    ALTER COLUMN \"20_days_sma\" TYPE FLOAT,\n",
    "    ALTER COLUMN \"50_days_sma\" TYPE FLOAT,\n",
    "    ALTER COLUMN \"200_days_sma\" TYPE FLOAT,\n",
    "    ALTER COLUMN \"5_days_ema\" TYPE FLOAT,\n",
    "    ALTER COLUMN \"20_days_ema\" TYPE FLOAT,\n",
    "    ALTER COLUMN \"50_days_ema\" TYPE FLOAT,\n",
    "    ALTER COLUMN \"200_days_ema\" TYPE FLOAT;\n",
    "    \"\"\",\n",
    "    # Altered data types for BoillingerBands table\n",
    "    \"\"\"\n",
    "    ALTER TABLE \"BoillingerBands\"\n",
    "    ALTER COLUMN \"transaction_id\" TYPE UUID USING \"transaction_id\"::UUID,\n",
    "    ALTER COLUMN \"stock_id\" TYPE UUID USING \"stock_id\"::UUID,\n",
    "    ALTER COLUMN \"ticker_symbol\" TYPE VARCHAR,\n",
    "    ALTER COLUMN \"date\" TYPE DATE,\n",
    "    ALTER COLUMN \"5_upper_band\" TYPE FLOAT,\n",
    "    ALTER COLUMN \"20_upper_band\" TYPE FLOAT,\n",
    "    ALTER COLUMN \"50_upper_band\" TYPE FLOAT,\n",
    "    ALTER COLUMN \"200_upper_band\" TYPE FLOAT,\n",
    "    ALTER COLUMN \"5_lower_band\" TYPE FLOAT,\n",
    "    ALTER COLUMN \"20_lower_band\" TYPE FLOAT,\n",
    "    ALTER COLUMN \"50_lower_band\" TYPE FLOAT,\n",
    "    ALTER COLUMN \"200_lower_band\" TYPE FLOAT;\n",
    "    \"\"\",\n",
    "\n",
    "    # Altered data types for RelativeIndexes table\n",
    "    \"\"\"\n",
    "    ALTER TABLE \"RelativeIndexes\"\n",
    "    ALTER COLUMN \"transaction_id\" TYPE UUID USING \"transaction_id\"::UUID,\n",
    "    ALTER COLUMN \"stock_id\" TYPE UUID USING \"stock_id\"::UUID,\n",
    "    ALTER COLUMN \"ticker_symbol\" TYPE VARCHAR,\n",
    "    ALTER COLUMN \"date\" TYPE DATE,\n",
    "    ALTER COLUMN \"14_days_rsi\" TYPE FLOAT,\n",
    "    ALTER COLUMN \"20_days_rsi\" TYPE FLOAT,\n",
    "    ALTER COLUMN \"50_days_rsi\" TYPE FLOAT,\n",
    "    ALTER COLUMN \"200_days_rsi\" TYPE FLOAT;\n",
    "    \"\"\"\n",
    "]\n",
    "\n",
    "# Execute SQL statements\n",
    "execute_sql(connection, alter_statements)"
   ]
  },
  {
   "cell_type": "code",
   "execution_count": 59,
   "metadata": {},
   "outputs": [
    {
     "name": "stdout",
     "output_type": "stream",
     "text": [
      "Error: Unable to execute SQL statements. connection already closed\n"
     ]
    }
   ],
   "source": [
    "alter_key_constrains_statements = [\n",
    "    # MovingAverages\n",
    "    'ALTER TABLE \"MovingAverages\" ADD CONSTRAINT \"pk_MovingAverages_cal_id\" PRIMARY KEY (\"cal_id\")',\n",
    "    'ALTER TABLE \"MovingAverages\" ADD CONSTRAINT \"fk_MovingAverages_transaction_id\" FOREIGN KEY (\"transaction_id\") REFERENCES \"Stocks\"(\"transaction_id\");',\n",
    "    'ALTER TABLE \"MovingAverages\" ADD CONSTRAINT \"fk_MovingAverages_stock_id_ticker_symbol\" FOREIGN KEY (\"stock_id\", \"ticker_symbol\") REFERENCES \"CompanyInformation\"(\"stock_id\", \"ticker_symbol\");',\n",
    "\n",
    "    # BoillingerBands\n",
    "    'ALTER TABLE \"BoillingerBands\" ADD CONSTRAINT \"pk_BoillingerBands_cal_id\" PRIMARY KEY (\"cal_id\");',\n",
    "    'ALTER TABLE \"BoillingerBands\" ADD CONSTRAINT \"fk_BoillingerBands_transaction_id\" FOREIGN KEY (\"transaction_id\") REFERENCES \"Stocks\"(\"transaction_id\");',\n",
    "    'ALTER TABLE \"BoillingerBands\" ADD CONSTRAINT \"fk_BoillingerBands_stock_id_ticker_symbol\" FOREIGN KEY (\"stock_id\", \"ticker_symbol\") REFERENCES \"CompanyInformation\"(\"stock_id\", \"ticker_symbol\");',\n",
    "\n",
    "    # RelativeIndexes\n",
    "    'ALTER TABLE \"RelativeIndexes\" ADD CONSTRAINT \"pk_RelativeIndexes_cal_id\" PRIMARY KEY (\"cal_id\");',\n",
    "    'ALTER TABLE \"RelativeIndexes\" ADD CONSTRAINT \"fk_RelativeIndexes_transaction_id\" FOREIGN KEY (\"transaction_id\") REFERENCES \"Stocks\"(\"transaction_id\");',\n",
    "    'ALTER TABLE \"RelativeIndexes\" ADD CONSTRAINT \"fk_RelativeIndexes_stock_id_ticker_symbol\" FOREIGN KEY (\"stock_id\", \"ticker_symbol\") REFERENCES \"CompanyInformation\"(\"stock_id\", \"ticker_symbol\");'\n",
    "]\n",
    "\n",
    "# Execute SQL statements\n",
    "execute_sql(connection, alter_key_constrains_statements)"
   ]
  },
  {
   "cell_type": "markdown",
   "metadata": {},
   "source": [
    "## Create Indexes after overwriting tables"
   ]
  },
  {
   "cell_type": "code",
   "execution_count": 55,
   "metadata": {},
   "outputs": [
    {
     "name": "stdout",
     "output_type": "stream",
     "text": [
      "SQL statements executed successfully.\n"
     ]
    }
   ],
   "source": [
    "# List of SQL statements for indexes\n",
    "index_sql_statements = [\n",
    "    'CREATE INDEX IF NOT EXISTS idx_ma_stock_id_ticker_symbol_date ON \"MovingAverages\"(\"stock_id\", \"ticker_symbol\", \"date\");',\n",
    "    'CREATE INDEX IF NOT EXISTS idx_ma_date ON \"MovingAverages\"(\"date\");',\n",
    "    'CREATE INDEX IF NOT EXISTS idx_bb_stock_id_ticker_symbol_date ON \"BoillingerBands\"(\"stock_id\", \"ticker_symbol\", \"date\");',\n",
    "    'CREATE INDEX IF NOT EXISTS idx_bb_date ON \"BoillingerBands\"(\"date\");',\n",
    "    'CREATE INDEX IF NOT EXISTS idx_ri_stock_id_ticker_symbol_date ON \"RelativeIndexes\"(\"stock_id\", \"ticker_symbol\", \"date\");',\n",
    "    'CREATE INDEX IF NOT EXISTS idx_ri_date ON \"RelativeIndexes\"(\"date\");',\n",
    "]\n",
    "\n",
    "# Execute SQL statements\n",
    "execute_sql(connection, index_sql_statements)\n",
    "\n",
    "# Close the database connection\n",
    "connection.close()"
   ]
  },
  {
   "cell_type": "code",
   "execution_count": null,
   "metadata": {},
   "outputs": [],
   "source": [
    "# Register the DataFrame as a temporary view\n",
    "cleanedStockData.createOrReplaceTempView(\"stock_data_view\")\n",
    "\n",
    "# Execute the SQL query to create or refresh the materialized view\n",
    "sql_query = \"\"\"\n",
    "    -- Your SQL query here, similar to the one in your Python code\n",
    "    -- Be sure to replace 'your_table_name' and other placeholders with actual names\n",
    "    CREATE OR REPLACE TEMPORARY VIEW stock_technical_view AS\n",
    "    SELECT\n",
    "        stock_id,\n",
    "        ticker_symbol,\n",
    "        date,\n",
    "        close,\n",
    "        -- ... (add your columns for Boillinger Bands, Moving Averages, RSI, etc.)\n",
    "    FROM\n",
    "        stock_data_view\n",
    "    WHERE\n",
    "        date >= CAST('your_start_date' AS DATE) AND date <= CAST('your_end_date' AS DATE)\n",
    "    ORDER BY\n",
    "        date DESC;\n",
    "\"\"\"\n",
    "\n",
    "# Execute the SQL query\n",
    "spark.sql(sql_query)\n",
    "\n",
    "# Show the result\n",
    "result_columns = [\"stock_id\", \"ticker_symbol\", \"date\", \"close\", \"bb_5_days_sma\", \"bb_20_days_sma\", \"200_days_rsi\"]\n",
    "result_df = spark.sql(\"SELECT * FROM stock_technical_view\").orderBy(F.desc(\"date\"))\n",
    "result_df.show()\n",
    "\n",
    "# Stop the Spark session when you're done\n",
    "spark.stop()"
   ]
  }
 ],
 "metadata": {
  "kernelspec": {
   "display_name": "myenv",
   "language": "python",
   "name": "python3"
  },
  "language_info": {
   "codemirror_mode": {
    "name": "ipython",
    "version": 3
   },
   "file_extension": ".py",
   "mimetype": "text/x-python",
   "name": "python",
   "nbconvert_exporter": "python",
   "pygments_lexer": "ipython3",
   "version": "3.11.4"
  }
 },
 "nbformat": 4,
 "nbformat_minor": 2
}
