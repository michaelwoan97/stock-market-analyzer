{
 "cells": [
  {
   "cell_type": "code",
   "execution_count": 1,
   "metadata": {},
   "outputs": [],
   "source": [
    "from pyspark.sql import SparkSession\n",
    "from pyspark.sql import functions as func\n",
    "from pyspark.sql.types import StructType, StructField, StringType, IntegerType, FloatType, DateType, DoubleType, ArrayType\n",
    "import matplotlib.pyplot as plt\n",
    "import seaborn as sns\n",
    "from pyspark.sql.window import Window\n",
    "from pyspark.sql import functions as F"
   ]
  },
  {
   "cell_type": "code",
   "execution_count": 2,
   "metadata": {},
   "outputs": [
    {
     "name": "stderr",
     "output_type": "stream",
     "text": [
      "23/11/15 13:26:46 WARN Utils: Your hostname, michaelwoan-VirtualBox resolves to a loopback address: 127.0.1.1; using 10.0.2.15 instead (on interface enp0s3)\n",
      "23/11/15 13:26:46 WARN Utils: Set SPARK_LOCAL_IP if you need to bind to another address\n",
      "Setting default log level to \"WARN\".\n",
      "To adjust logging level use sc.setLogLevel(newLevel). For SparkR, use setLogLevel(newLevel).\n",
      "23/11/15 13:26:47 WARN NativeCodeLoader: Unable to load native-hadoop library for your platform... using builtin-java classes where applicable\n",
      "23/11/15 13:26:47 WARN Utils: Service 'SparkUI' could not bind on port 4040. Attempting port 4041.\n"
     ]
    }
   ],
   "source": [
    "spark = SparkSession.builder.appName(\"StockDataCleaning\") \\\n",
    "    .config(\"spark.executor.memory\", \"4g\").getOrCreate()"
   ]
  },
  {
   "cell_type": "code",
   "execution_count": 3,
   "metadata": {},
   "outputs": [],
   "source": [
    "schema = StructType([ \\\n",
    "    StructField(\"transaction_id\", StringType(), True), \\\n",
    "    StructField(\"stock_id\", StringType(), True), \\\n",
    "    StructField(\"ticker_symbol\", StringType(), True), \\\n",
    "    StructField(\"date\", DateType(), True), \\\n",
    "    StructField(\"low\", FloatType(), True), \\\n",
    "    StructField(\"open\", FloatType(), True), \\\n",
    "    StructField(\"high\", FloatType(), True), \\\n",
    "    StructField(\"volume\", IntegerType(), True), \\\n",
    "    StructField(\"close\", FloatType(), True)])"
   ]
  },
  {
   "cell_type": "code",
   "execution_count": 4,
   "metadata": {},
   "outputs": [],
   "source": [
    "stockData = spark.read.schema(schema).csv(\"./stocks-data/combined-stocks-data.csv\", header=True)"
   ]
  },
  {
   "cell_type": "code",
   "execution_count": 5,
   "metadata": {},
   "outputs": [
    {
     "name": "stdout",
     "output_type": "stream",
     "text": [
      "root\n",
      " |-- transaction_id: string (nullable = true)\n",
      " |-- stock_id: string (nullable = true)\n",
      " |-- ticker_symbol: string (nullable = true)\n",
      " |-- date: date (nullable = true)\n",
      " |-- low: float (nullable = true)\n",
      " |-- open: float (nullable = true)\n",
      " |-- high: float (nullable = true)\n",
      " |-- volume: integer (nullable = true)\n",
      " |-- close: float (nullable = true)\n",
      "\n"
     ]
    }
   ],
   "source": [
    "stockData.printSchema()"
   ]
  },
  {
   "cell_type": "code",
   "execution_count": 6,
   "metadata": {},
   "outputs": [
    {
     "name": "stdout",
     "output_type": "stream",
     "text": [
      "+--------------------+--------------------+-------------+----------+--------+--------+--------+---------+--------+\n",
      "|      transaction_id|            stock_id|ticker_symbol|      date|     low|    open|    high|   volume|   close|\n",
      "+--------------------+--------------------+-------------+----------+--------+--------+--------+---------+--------+\n",
      "|b91319ee-7e00-422...|c1fe7393-9e77-407...|         TSLA|2010-06-29|1.169333|1.266667|1.666667|281494500|1.592667|\n",
      "|c25c9b76-bba2-42d...|c1fe7393-9e77-407...|         TSLA|2010-06-29|1.169333|1.266667|1.666667|281494500|1.592667|\n",
      "|eb207f83-6265-4e6...|c1fe7393-9e77-407...|         TSLA|2010-06-29|1.169333|1.266667|1.666667|281494500|1.592667|\n",
      "|4b83d021-0fc5-465...|c1fe7393-9e77-407...|         TSLA|2010-06-29|1.169333|1.266667|1.666667|281494500|1.592667|\n",
      "|06a5cd4a-53ff-49b...|c1fe7393-9e77-407...|         TSLA|2010-06-30|1.553333|1.719333|   2.028|257806500|1.588667|\n",
      "|9fc036ba-1f88-48c...|c1fe7393-9e77-407...|         TSLA|2010-06-30|1.553333|1.719333|   2.028|257806500|1.588667|\n",
      "|c2132b60-d0d2-4ba...|c1fe7393-9e77-407...|         TSLA|2010-06-30|1.553333|1.719333|   2.028|257806500|1.588667|\n",
      "|b27aaf74-c27d-45e...|c1fe7393-9e77-407...|         TSLA|2010-06-30|1.553333|1.719333|   2.028|257806500|1.588667|\n",
      "|5d8f3f36-763c-482...|c1fe7393-9e77-407...|         TSLA|2010-07-01|1.351333|1.666667|   1.728|123282000|   1.464|\n",
      "|e393206f-11a0-4a6...|c1fe7393-9e77-407...|         TSLA|2010-07-01|1.351333|1.666667|   1.728|123282000|   1.464|\n",
      "|9db51124-4c78-4b5...|c1fe7393-9e77-407...|         TSLA|2010-07-01|1.351333|1.666667|   1.728|123282000|   1.464|\n",
      "|9961d5f3-512b-4c4...|c1fe7393-9e77-407...|         TSLA|2010-07-01|1.351333|1.666667|   1.728|123282000|   1.464|\n",
      "|2a4a171e-006d-4a5...|c1fe7393-9e77-407...|         TSLA|2010-07-02|1.247333|1.533333|    1.54| 77097000|    1.28|\n",
      "|51c5e3e3-1a53-429...|c1fe7393-9e77-407...|         TSLA|2010-07-02|1.247333|1.533333|    1.54| 77097000|    1.28|\n",
      "|949e1e98-eb64-46e...|c1fe7393-9e77-407...|         TSLA|2010-07-02|1.247333|1.533333|    1.54| 77097000|    1.28|\n",
      "|71506f8c-825c-41e...|c1fe7393-9e77-407...|         TSLA|2010-07-02|1.247333|1.533333|    1.54| 77097000|    1.28|\n",
      "|5ecad87d-a5ba-46d...|c1fe7393-9e77-407...|         TSLA|2010-07-06|1.055333|1.333333|1.333333|103003500|   1.074|\n",
      "|e719d20b-3784-42c...|c1fe7393-9e77-407...|         TSLA|2010-07-06|1.055333|1.333333|1.333333|103003500|   1.074|\n",
      "|eafc31c8-9a21-485...|c1fe7393-9e77-407...|         TSLA|2010-07-06|1.055333|1.333333|1.333333|103003500|   1.074|\n",
      "|464a4bf8-6690-474...|c1fe7393-9e77-407...|         TSLA|2010-07-06|1.055333|1.333333|1.333333|103003500|   1.074|\n",
      "+--------------------+--------------------+-------------+----------+--------+--------+--------+---------+--------+\n",
      "only showing top 20 rows\n",
      "\n"
     ]
    }
   ],
   "source": [
    "stockData.show()"
   ]
  },
  {
   "cell_type": "code",
   "execution_count": 7,
   "metadata": {},
   "outputs": [
    {
     "name": "stderr",
     "output_type": "stream",
     "text": [
      "[Stage 1:===========>                                               (1 + 4) / 5]\r"
     ]
    },
    {
     "name": "stdout",
     "output_type": "stream",
     "text": [
      "Missing Values:\n",
      "transaction_id_missing: 0\n",
      "stock_id_missing: 0\n",
      "ticker_symbol_missing: 0\n",
      "date_missing: 0\n",
      "low_missing: 0\n",
      "open_missing: 0\n",
      "high_missing: 0\n",
      "volume_missing: 140\n",
      "close_missing: 0\n"
     ]
    },
    {
     "name": "stderr",
     "output_type": "stream",
     "text": [
      "                                                                                \r"
     ]
    }
   ],
   "source": [
    "# Missing Values\n",
    "missing_values = stockData.select([func.sum(func.col(c).isNull().cast(\"int\")).alias(c + '_missing') for c in stockData.columns]).collect()\n",
    "\n",
    "print(\"Missing Values:\")\n",
    "for row in missing_values[0].asDict():\n",
    "    print(f\"{row}: {missing_values[0][row]}\")\n"
   ]
  },
  {
   "cell_type": "code",
   "execution_count": 8,
   "metadata": {},
   "outputs": [
    {
     "name": "stdout",
     "output_type": "stream",
     "text": [
      "+--------------------+--------------------+-------------+----------+--------+--------+--------+------+--------+\n",
      "|      transaction_id|            stock_id|ticker_symbol|      date|     low|    open|    high|volume|   close|\n",
      "+--------------------+--------------------+-------------+----------+--------+--------+--------+------+--------+\n",
      "|56bd39f1-60c3-41a...|c5e95634-4871-49f...|         AAPL|1983-09-23| 0.09933|0.111607|0.111607|  NULL|0.108259|\n",
      "|869ea8de-1017-40f...|c5e95634-4871-49f...|         AAPL|1983-09-23| 0.09933|0.111607|0.111607|  NULL|0.108259|\n",
      "|f1a92d79-219f-424...|c5e95634-4871-49f...|         AAPL|1983-09-23| 0.09933|0.111607|0.111607|  NULL|0.108259|\n",
      "|8829ded0-09be-431...|c5e95634-4871-49f...|         AAPL|1983-09-23| 0.09933|0.111607|0.111607|  NULL|0.108259|\n",
      "|1f356f8d-6d7b-4d8...|c5e95634-4871-49f...|         AAPL|1997-08-06|0.223214|0.225446|0.247768|  NULL|0.234933|\n",
      "|8b6b3e2b-f50d-4b6...|c5e95634-4871-49f...|         AAPL|1997-08-06|0.223214|0.225446|0.247768|  NULL|0.234933|\n",
      "|922c8d07-ea2d-44f...|c5e95634-4871-49f...|         AAPL|1997-08-06|0.223214|0.225446|0.247768|  NULL|0.234933|\n",
      "|7dab6a41-0d18-4fc...|c5e95634-4871-49f...|         AAPL|1997-08-06|0.223214|0.225446|0.247768|  NULL|0.234933|\n",
      "|d59ef71f-de07-4c0...|c5e95634-4871-49f...|         AAPL|1997-08-07|0.253348|0.256696|0.263951|  NULL|0.260603|\n",
      "|b1c1bf12-95e4-4c0...|c5e95634-4871-49f...|         AAPL|1997-08-07|0.253348|0.256696|0.263951|  NULL|0.260603|\n",
      "|e75e76c7-c548-49e...|c5e95634-4871-49f...|         AAPL|1997-08-07|0.253348|0.256696|0.263951|  NULL|0.260603|\n",
      "|1e983905-5fd8-4c1...|c5e95634-4871-49f...|         AAPL|1997-08-07|0.253348|0.256696|0.263951|  NULL|0.260603|\n",
      "|834d0f68-159e-4cf...|c5e95634-4871-49f...|         AAPL|1998-07-16|0.319196| 0.33817|0.340402|  NULL|0.334821|\n",
      "|ba574439-fe57-4b5...|c5e95634-4871-49f...|         AAPL|1998-07-16|0.319196| 0.33817|0.340402|  NULL|0.334821|\n",
      "|960c7cbe-0de4-41e...|c5e95634-4871-49f...|         AAPL|1998-07-16|0.319196| 0.33817|0.340402|  NULL|0.334821|\n",
      "|9528236a-594b-428...|c5e95634-4871-49f...|         AAPL|1998-07-16|0.319196| 0.33817|0.340402|  NULL|0.334821|\n",
      "|f19bc895-27a3-421...|c5e95634-4871-49f...|         AAPL|1998-10-14|0.328683|0.354911|0.368862|  NULL|0.333705|\n",
      "|fe4b448e-ef8b-435...|c5e95634-4871-49f...|         AAPL|1998-10-14|0.328683|0.354911|0.368862|  NULL|0.333705|\n",
      "|2546c3e3-96b6-4ac...|c5e95634-4871-49f...|         AAPL|1998-10-14|0.328683|0.354911|0.368862|  NULL|0.333705|\n",
      "|e72328ef-8992-463...|c5e95634-4871-49f...|         AAPL|1998-10-14|0.328683|0.354911|0.368862|  NULL|0.333705|\n",
      "+--------------------+--------------------+-------------+----------+--------+--------+--------+------+--------+\n",
      "only showing top 20 rows\n",
      "\n"
     ]
    }
   ],
   "source": [
    "# Filter rows where 'volume' is missing\n",
    "missing_volume_rows = stockData.filter(stockData['volume'].isNull())\n",
    "\n",
    "# Show the missing values\n",
    "missing_volume_rows.show()\n"
   ]
  },
  {
   "cell_type": "code",
   "execution_count": 9,
   "metadata": {},
   "outputs": [
    {
     "name": "stdout",
     "output_type": "stream",
     "text": [
      "+--------------------+--------------------+-------------+----------+--------+--------+--------+---------+--------+\n",
      "|      transaction_id|            stock_id|ticker_symbol|      date|     low|    open|    high|   volume|   close|\n",
      "+--------------------+--------------------+-------------+----------+--------+--------+--------+---------+--------+\n",
      "|b91319ee-7e00-422...|c1fe7393-9e77-407...|         TSLA|2010-06-29|1.169333|1.266667|1.666667|281494500|1.592667|\n",
      "|c25c9b76-bba2-42d...|c1fe7393-9e77-407...|         TSLA|2010-06-29|1.169333|1.266667|1.666667|281494500|1.592667|\n",
      "|eb207f83-6265-4e6...|c1fe7393-9e77-407...|         TSLA|2010-06-29|1.169333|1.266667|1.666667|281494500|1.592667|\n",
      "|4b83d021-0fc5-465...|c1fe7393-9e77-407...|         TSLA|2010-06-29|1.169333|1.266667|1.666667|281494500|1.592667|\n",
      "|06a5cd4a-53ff-49b...|c1fe7393-9e77-407...|         TSLA|2010-06-30|1.553333|1.719333|   2.028|257806500|1.588667|\n",
      "|9fc036ba-1f88-48c...|c1fe7393-9e77-407...|         TSLA|2010-06-30|1.553333|1.719333|   2.028|257806500|1.588667|\n",
      "|c2132b60-d0d2-4ba...|c1fe7393-9e77-407...|         TSLA|2010-06-30|1.553333|1.719333|   2.028|257806500|1.588667|\n",
      "|b27aaf74-c27d-45e...|c1fe7393-9e77-407...|         TSLA|2010-06-30|1.553333|1.719333|   2.028|257806500|1.588667|\n",
      "|5d8f3f36-763c-482...|c1fe7393-9e77-407...|         TSLA|2010-07-01|1.351333|1.666667|   1.728|123282000|   1.464|\n",
      "|e393206f-11a0-4a6...|c1fe7393-9e77-407...|         TSLA|2010-07-01|1.351333|1.666667|   1.728|123282000|   1.464|\n",
      "|9db51124-4c78-4b5...|c1fe7393-9e77-407...|         TSLA|2010-07-01|1.351333|1.666667|   1.728|123282000|   1.464|\n",
      "|9961d5f3-512b-4c4...|c1fe7393-9e77-407...|         TSLA|2010-07-01|1.351333|1.666667|   1.728|123282000|   1.464|\n",
      "|2a4a171e-006d-4a5...|c1fe7393-9e77-407...|         TSLA|2010-07-02|1.247333|1.533333|    1.54| 77097000|    1.28|\n",
      "|51c5e3e3-1a53-429...|c1fe7393-9e77-407...|         TSLA|2010-07-02|1.247333|1.533333|    1.54| 77097000|    1.28|\n",
      "|949e1e98-eb64-46e...|c1fe7393-9e77-407...|         TSLA|2010-07-02|1.247333|1.533333|    1.54| 77097000|    1.28|\n",
      "|71506f8c-825c-41e...|c1fe7393-9e77-407...|         TSLA|2010-07-02|1.247333|1.533333|    1.54| 77097000|    1.28|\n",
      "|5ecad87d-a5ba-46d...|c1fe7393-9e77-407...|         TSLA|2010-07-06|1.055333|1.333333|1.333333|103003500|   1.074|\n",
      "|e719d20b-3784-42c...|c1fe7393-9e77-407...|         TSLA|2010-07-06|1.055333|1.333333|1.333333|103003500|   1.074|\n",
      "|eafc31c8-9a21-485...|c1fe7393-9e77-407...|         TSLA|2010-07-06|1.055333|1.333333|1.333333|103003500|   1.074|\n",
      "|464a4bf8-6690-474...|c1fe7393-9e77-407...|         TSLA|2010-07-06|1.055333|1.333333|1.333333|103003500|   1.074|\n",
      "+--------------------+--------------------+-------------+----------+--------+--------+--------+---------+--------+\n",
      "only showing top 20 rows\n",
      "\n"
     ]
    }
   ],
   "source": [
    "# Fill missing values in the 'volume' column with 0\n",
    "stockData = stockData.na.fill(0, subset=['volume'])\n",
    "\n",
    "# Show the DataFrame after filling missing values\n",
    "stockData.show()\n"
   ]
  },
  {
   "cell_type": "code",
   "execution_count": 10,
   "metadata": {},
   "outputs": [
    {
     "name": "stdout",
     "output_type": "stream",
     "text": [
      "No duplicate dates and close prices found.\n"
     ]
    }
   ],
   "source": [
    "# Drop duplicate rows based on 'date' and 'close' columns\n",
    "cleanedStockData = stockData.dropDuplicates(['date', 'close'])\n",
    "\n",
    "# Check for duplicate values in the 'date' column again\n",
    "duplicate_rows = cleanedStockData.groupBy('date', 'close').count().filter('count > 1')\n",
    "\n",
    "# Show the duplicate dates and close prices, if any\n",
    "if duplicate_rows.count() > 0:\n",
    "    print(\"Duplicate dates and close prices found after deduplication:\")\n",
    "    duplicate_rows.show()\n",
    "else:\n",
    "    print(\"No duplicate dates and close prices found.\")\n"
   ]
  },
  {
   "cell_type": "code",
   "execution_count": 11,
   "metadata": {},
   "outputs": [
    {
     "name": "stdout",
     "output_type": "stream",
     "text": [
      "+--------------------+--------------------+-------------+----------+--------+------+------+---------+------+\n",
      "|      transaction_id|            stock_id|ticker_symbol|      date|     low|  open|  high|   volume| close|\n",
      "+--------------------+--------------------+-------------+----------+--------+------+------+---------+------+\n",
      "|8cbdb4d4-889d-487...|c5e95634-4871-49f...|         AAPL|2023-11-13|  184.21|185.82|186.03| 43553315| 184.8|\n",
      "|f38ed296-ff46-4c1...|0cb4048a-7fe6-441...|         GOOG|2023-11-13|  132.77|133.36|134.11| 14786236|133.64|\n",
      "|50787f93-b075-47c...|c1fe7393-9e77-407...|         TSLA|2023-11-13|211.6101| 215.6| 225.4|137561292|223.71|\n",
      "|113f51fd-6da3-4cd...|1ec4324e-7d11-49b...|         MSFT|2023-11-13| 365.915|368.22|368.46| 19318985|366.68|\n",
      "|bca35b47-8911-453...|0cb4048a-7fe6-441...|         GOOG|2023-11-10|  130.87|131.53|134.27| 20872900|134.06|\n",
      "|f8a125fa-728b-4b0...|c5e95634-4871-49f...|         AAPL|2023-11-10|  183.53|183.97|186.57| 66133400| 186.4|\n",
      "|aae8bec2-423c-4c2...|c1fe7393-9e77-407...|         TSLA|2023-11-10|  205.69|210.03|215.38|130994000|214.65|\n",
      "|c1ca9f53-f3d2-4a5...|1ec4324e-7d11-49b...|         MSFT|2023-11-10|  361.07|361.49| 370.1| 28042100|369.67|\n",
      "|49d3663a-6be6-461...|c5e95634-4871-49f...|         AAPL|2023-11-09|  181.81|182.96|184.12| 53763500|182.41|\n",
      "|b7eea92e-5412-444...|0cb4048a-7fe6-441...|         GOOG|2023-11-09|  131.51|133.36|133.96| 17976500|131.69|\n",
      "|0381630b-9762-44f...|c1fe7393-9e77-407...|         TSLA|2023-11-09|  206.68|219.75| 220.8|142110500|209.98|\n",
      "|6843a37e-5b4a-48a...|1ec4324e-7d11-49b...|         MSFT|2023-11-09|  360.36| 362.3|364.79| 24847300|360.69|\n",
      "|31ee26ac-5f8a-449...|0cb4048a-7fe6-441...|         GOOG|2023-11-08|  132.16|132.36|133.54| 15093600|133.26|\n",
      "|3b114048-ac15-41e...|c5e95634-4871-49f...|         AAPL|2023-11-08|  181.59|182.35|183.45| 49340300|182.89|\n",
      "|88900b04-c036-438...|c1fe7393-9e77-407...|         TSLA|2023-11-08|  217.64|223.15|224.15|106584800|222.11|\n",
      "|0f50336c-d3e1-49d...|1ec4324e-7d11-49b...|         MSFT|2023-11-08|  360.55|361.68|363.87| 26767800| 363.2|\n",
      "|198e08d1-16af-4d7...|c1fe7393-9e77-407...|         TSLA|2023-11-07|  215.72|219.98|223.12|116900100|222.18|\n",
      "|2f86468b-4d2f-4b7...|0cb4048a-7fe6-441...|         GOOG|2023-11-07|  131.14|131.98|133.28| 19223800| 132.4|\n",
      "|e359f53f-88b8-4ac...|c5e95634-4871-49f...|         AAPL|2023-11-07|  178.97|179.18|182.44| 70530000|181.82|\n",
      "|814174c1-19a6-4c8...|1ec4324e-7d11-49b...|         MSFT|2023-11-07|  357.63| 359.4|362.46| 25833900|360.53|\n",
      "+--------------------+--------------------+-------------+----------+--------+------+------+---------+------+\n",
      "only showing top 20 rows\n",
      "\n"
     ]
    }
   ],
   "source": [
    "cleanedStockData.orderBy(func.desc(\"date\")).show()"
   ]
  },
  {
   "cell_type": "markdown",
   "metadata": {},
   "source": [
    "## Stock Data Moving Averages Analysis\n",
    "\n",
    "This PySpark script calculates Simple Moving Averages (SMA) and Exponential Moving Averages (EMA) for different periods on stock data. The analysis includes importing libraries, defining functions, setting parameters, and displaying the results.\n",
    "\n",
    "- **Moving Averages:**\n",
    "  - Simple Moving Averages (SMA) for periods: 5, 20, 50, 200.\n",
    "  - Exponential Moving Averages (EMA) with corresponding alpha values.\n",
    "\n",
    "- **Data Manipulation:**\n",
    "  - Utilizes PySpark functions and windows for efficient data processing.\n",
    "\n",
    "- **Result Display:**\n",
    "  - Presents the DataFrame with date, close price, SMAs, and EMAs in descending order.\n"
   ]
  },
  {
   "cell_type": "code",
   "execution_count": 12,
   "metadata": {},
   "outputs": [
    {
     "name": "stderr",
     "output_type": "stream",
     "text": [
      "[Stage 21:>                                                         (0 + 1) / 1]\r"
     ]
    },
    {
     "name": "stdout",
     "output_type": "stream",
     "text": [
      "+----------+------+----------+-----------+-----------+------------+----------+-----------+-----------+------------+\n",
      "|      date| close|5_days_sma|20_days_sma|50_days_sma|200_days_sma|5_days_ema|20_days_ema|50_days_ema|200_days_ema|\n",
      "+----------+------+----------+-----------+-----------+------------+----------+-----------+-----------+------------+\n",
      "|2023-11-13|366.68|    364.15|     343.91|     333.07|      311.35|    363.26|     341.24|     334.66|      305.37|\n",
      "|2023-11-13|223.71|    218.53|      216.9|     241.25|       221.1|    219.92|     220.72|     246.85|       210.2|\n",
      "|2023-11-13|133.64|    133.01|     132.08|     134.56|      119.17|    132.89|     133.69|     135.18|      114.48|\n",
      "|2023-11-13| 184.8|    183.66|     176.04|     176.38|      172.73|    183.19|     175.99|     177.81|      169.21|\n",
      "|2023-11-10|134.06|    132.57|     132.42|     134.62|       119.0|    132.47|      134.4|      135.3|       114.4|\n",
      "|2023-11-10|369.67|    362.12|     342.21|     332.31|      310.76|    361.41|     340.83|     334.83|      305.21|\n",
      "|2023-11-10|214.65|    217.64|     218.41|     241.67|      220.87|    218.51|     222.66|     245.55|      208.65|\n",
      "|2023-11-10| 186.4|    182.55|     175.74|     176.47|      172.53|    182.08|     176.47|     178.48|      169.19|\n",
      "|2023-11-09|360.69|    358.75|     340.12|     331.47|      310.15|    357.36|     338.37|     333.34|      303.42|\n",
      "|2023-11-09|131.69|    131.83|     132.65|     134.69|      118.83|    131.46|     134.47|     135.06|      113.92|\n",
      "|2023-11-09|209.98|     218.7|     220.23|     242.54|       220.6|    218.38|     224.74|     245.41|      207.54|\n",
      "|2023-11-09|182.41|     180.6|     175.36|      176.5|      172.32|    179.74|     176.15|     178.31|       168.4|\n",
      "|2023-11-08|133.26|    131.21|     133.08|     134.79|      118.65|     130.7|     135.24|     135.35|      113.96|\n",
      "|2023-11-08| 363.2|    356.28|     338.64|     330.83|      309.55|    354.68|     338.02|      333.5|      303.14|\n",
      "|2023-11-08|222.11|    220.41|     222.68|     243.48|      220.27|    220.02|     229.63|      247.5|      208.55|\n",
      "|2023-11-08|182.89|    179.63|     175.27|     176.61|      172.12|    179.08|     176.65|     178.74|       168.2|\n",
      "|2023-11-07|360.53|    352.85|      337.1|     330.14|      308.94|    351.46|     337.13|     332.94|      302.17|\n",
      "|2023-11-07| 132.4|    130.07|      133.5|     134.84|      118.48|    129.55|     135.74|     135.24|       113.7|\n",
      "|2023-11-07|222.18|    217.12|     224.72|     244.18|      219.88|    215.24|     232.81|     247.89|      207.92|\n",
      "|2023-11-07|181.82|    177.85|     175.12|     176.63|      171.91|    177.24|     176.81|     178.81|       167.8|\n",
      "+----------+------+----------+-----------+-----------+------------+----------+-----------+-----------+------------+\n",
      "only showing top 20 rows\n",
      "\n"
     ]
    },
    {
     "name": "stderr",
     "output_type": "stream",
     "text": [
      "                                                                                \r"
     ]
    }
   ],
   "source": [
    "round_to_decimal = 2\n",
    "\n",
    "def calculate_ema(data, alpha):\n",
    "    ema = data[0]\n",
    "    for i in range(1, len(data)):\n",
    "        ema = alpha * data[i] + (1 - alpha) * ema\n",
    "    return ema\n",
    "\n",
    "calculate_ema_udf = F.udf(lambda data, alpha: float(calculate_ema(data, alpha)), FloatType())\n",
    "\n",
    "periods = [5, 20, 50, 200]\n",
    "alpha_values = [2 / (p + 1) for p in periods]\n",
    "\n",
    "partition_cols = [\"stock_id\", \"ticker_symbol\"]\n",
    "\n",
    "windows = [Window().partitionBy(partition_cols).orderBy(F.desc(\"date\")).rowsBetween(0, p - 1) for p in periods]\n",
    "\n",
    "# Calculate simple moving averages\n",
    "for p in periods:\n",
    "    cleanedStockData = cleanedStockData.withColumn(f\"{p}_days_sma\", F.round(F.avg(\"close\").over(windows[periods.index(p)]), 2))\n",
    "\n",
    "# Calculate exponential moving averages using UDF\n",
    "for p, alpha in zip(periods, alpha_values):\n",
    "    cleanedStockData = cleanedStockData.withColumn(f\"{p}_days_ema\", F.round(calculate_ema_udf(F.collect_list(\"close\").over(windows[periods.index(p)]), F.lit(alpha)), round_to_decimal))\n",
    "\n",
    "# Show the result\n",
    "cleanedStockData.select(['date', 'close'] + [f\"{p}_days_sma\" for p in periods] + [f\"{p}_days_ema\" for p in periods]).orderBy(F.desc(\"date\")).show()\n"
   ]
  },
  {
   "cell_type": "markdown",
   "metadata": {},
   "source": [
    "## Bollinger Bands Calculation Explanation\n",
    "\n",
    "This Jupiter Notebook cell performs the computation of Bollinger Bands on stock data for volatility analysis. The breakdown includes critical steps and considerations:\n",
    "\n",
    "- **Decimal Rounding:**\n",
    "  - All numerical values are rounded to two decimal places for consistency and readability.\n",
    "\n",
    "- **Bollinger Bands Periods:**\n",
    "  - The Bollinger Bands are computed for four distinct periods: 5, 20, 50, and 200 days, providing insights into short-term and long-term volatility.\n",
    "\n",
    "- **Partitioning for Accuracy:**\n",
    "  - The data is partitioned by \"stock_id\" and \"ticker_symbol\" to ensure accurate calculations for individual stocks. This is crucial for meaningful stock market analysis.\n",
    "\n",
    "- **Reuse of Exponential Moving Averages (EMAs):**\n",
    "  - Existing EMA values, previously calculated, are reused in the Bollinger Bands computation. This approach optimizes computational efficiency and maintains consistency with prior analyses.\n",
    "\n",
    "- **Upper and Lower Band Calculation:**\n",
    "  - The upper and lower bands are determined by adding and subtracting twice the standard deviation of closing prices from the corresponding EMAs. This methodology aligns with the standard Bollinger Bands formula.\n",
    "\n",
    "- **Result Presentation:**\n",
    "  - The final DataFrame includes the date, close price, upper bands, and lower bands for each specified period, providing a comprehensive view of the stock's volatility.\n",
    "\n",
    "This code enhances the dataset with Bollinger Bands, aiding in the identification of potential market trends and volatility patterns."
   ]
  },
  {
   "cell_type": "code",
   "execution_count": 13,
   "metadata": {},
   "outputs": [
    {
     "name": "stderr",
     "output_type": "stream",
     "text": [
      "[Stage 31:>                                                         (0 + 1) / 1]\r"
     ]
    },
    {
     "name": "stdout",
     "output_type": "stream",
     "text": [
      "+----------+------+------------+-------------+-------------+--------------+------------+-------------+-------------+--------------+\n",
      "|      date| close|upper_band_5|upper_band_20|upper_band_50|upper_band_200|lower_band_5|lower_band_20|lower_band_50|lower_band_200|\n",
      "+----------+------+------------+-------------+-------------+--------------+------------+-------------+-------------+--------------+\n",
      "|2023-11-13|366.68|      371.19|       370.61|       363.13|        367.55|      355.33|       311.87|       306.19|        243.19|\n",
      "|2023-11-13|223.71|       231.8|       247.22|       292.76|        283.59|      208.04|       194.22|       200.94|        136.81|\n",
      "|2023-11-13|133.64|      134.81|       145.01|       144.72|        144.18|      130.97|       122.37|       125.64|         84.78|\n",
      "|2023-11-13| 184.8|      186.98|       187.04|       187.03|         195.9|       179.4|       164.94|       168.59|        142.52|\n",
      "|2023-11-10|134.06|      134.65|       146.31|       144.86|        144.15|      130.29|       122.49|       125.74|         84.65|\n",
      "|2023-11-10|369.67|       371.1|       368.54|       361.62|        367.53|      351.72|       313.12|       308.04|        242.89|\n",
      "|2023-11-10|214.65|      229.04|       253.83|       291.19|        282.29|      207.98|       191.49|       199.91|        135.01|\n",
      "|2023-11-10| 186.4|      187.23|       186.82|       188.14|        196.09|      176.93|       166.12|       168.82|        142.29|\n",
      "|2023-11-09|360.69|      365.55|       363.56|       357.89|        365.81|      349.17|       313.18|       308.79|        241.03|\n",
      "|2023-11-09|131.69|      133.62|       146.68|       144.65|        143.72|       129.3|       122.26|       125.47|         84.12|\n",
      "|2023-11-09|209.98|      228.46|       259.09|       290.61|        281.67|       208.3|       190.39|       200.21|        133.41|\n",
      "|2023-11-09|182.41|      184.98|       185.34|        188.1|        195.53|       174.5|       166.96|       168.52|        141.27|\n",
      "|2023-11-08|133.26|      134.35|       147.91|       144.92|        143.87|      127.05|       122.57|       125.78|         84.05|\n",
      "|2023-11-08| 363.2|      366.57|       361.54|       356.56|        365.88|      342.79|        314.5|       310.44|         240.4|\n",
      "|2023-11-08|222.11|      223.36|       267.67|       291.88|        283.45|      216.68|       191.59|       203.12|        133.65|\n",
      "|2023-11-08|182.89|      184.44|        185.6|       188.89|        195.63|      173.72|        167.7|       168.59|        140.77|\n",
      "|2023-11-07|360.53|      363.25|       357.73|       354.03|        365.17|      339.67|       316.53|       311.85|        239.17|\n",
      "|2023-11-07| 132.4|      133.54|       148.98|        144.8|        143.66|      125.56|        122.5|       125.68|         83.74|\n",
      "|2023-11-07|222.18|      228.34|        274.9|        292.0|        283.59|      202.14|       190.72|       203.78|        132.25|\n",
      "|2023-11-07|181.82|      183.09|        185.3|       189.03|         195.5|      171.39|       168.32|       168.59|         140.1|\n",
      "+----------+------+------------+-------------+-------------+--------------+------------+-------------+-------------+--------------+\n",
      "only showing top 20 rows\n",
      "\n"
     ]
    },
    {
     "name": "stderr",
     "output_type": "stream",
     "text": [
      "                                                                                \r"
     ]
    }
   ],
   "source": [
    "# Number of decimal places\n",
    "round_to_decimal = 2\n",
    "\n",
    "# Define the Bollinger Bands periods\n",
    "bollinger_periods = [5, 20, 50, 200]\n",
    "\n",
    "partition_cols = [\"stock_id\", \"ticker_symbol\"]\n",
    "\n",
    "# Define the windows for Bollinger Bands\n",
    "windows = [Window().partitionBy(partition_cols).orderBy(F.desc(\"date\")).rowsBetween(0, p - 1) for p in bollinger_periods]\n",
    "\n",
    "# Reuse the existing EMA values for Bollinger Bands\n",
    "for p in bollinger_periods:\n",
    "    upper_band_col = F.col(f\"{p}_days_ema\") + (2 * F.stddev(\"close\").over(windows[bollinger_periods.index(p)]))\n",
    "    lower_band_col = F.col(f\"{p}_days_ema\") - (2 * F.stddev(\"close\").over(windows[bollinger_periods.index(p)]))\n",
    "\n",
    "    cleanedStockData = cleanedStockData.withColumn(f\"upper_band_{p}\", F.round(upper_band_col, round_to_decimal))\n",
    "    cleanedStockData = cleanedStockData.withColumn(f\"lower_band_{p}\", F.round(lower_band_col, round_to_decimal))\n",
    "\n",
    "# Show the result\n",
    "selected_columns = ['date', 'close'] + [f\"upper_band_{p}\" for p in bollinger_periods] + [f\"lower_band_{p}\" for p in bollinger_periods]\n",
    "cleanedStockData.select(selected_columns).orderBy(F.desc(\"date\")).show()\n"
   ]
  },
  {
   "cell_type": "code",
   "execution_count": 29,
   "metadata": {},
   "outputs": [
    {
     "name": "stderr",
     "output_type": "stream",
     "text": [
      "[Stage 91:>                                                         (0 + 1) / 1]\r"
     ]
    },
    {
     "name": "stdout",
     "output_type": "stream",
     "text": [
      "+-------------+----------+------+-----------+-----------+-----------+------------+\n",
      "|ticker_symbol|      date| close|14_days_rsi|20_days_rsi|50_days_rsi|200_days_rsi|\n",
      "+-------------+----------+------+-----------+-----------+-----------+------------+\n",
      "|         MSFT|2023-11-13|366.68|       70.0|       70.0|      51.09|        70.0|\n",
      "|         GOOG|2023-11-13|133.64|       70.0|      25.17|       70.0|        70.0|\n",
      "|         TSLA|2023-11-13|223.71|       2.49|       70.0|       5.77|       41.15|\n",
      "|         AAPL|2023-11-13| 184.8|      48.72|      59.71|       1.05|        70.0|\n",
      "|         MSFT|2023-11-10|369.67|       70.0|       70.0|      48.06|        70.0|\n",
      "|         GOOG|2023-11-10|134.06|       2.78|      27.24|       70.0|        70.0|\n",
      "|         TSLA|2023-11-10|214.65|        0.9|       70.0|       5.78|       40.51|\n",
      "|         AAPL|2023-11-10| 186.4|       42.2|      54.76|       1.52|        70.0|\n",
      "|         GOOG|2023-11-09|131.69|       6.08|       28.3|       70.0|        70.0|\n",
      "|         MSFT|2023-11-09|360.69|       70.0|       70.0|      44.84|        70.0|\n",
      "|         TSLA|2023-11-09|209.98|       0.37|       70.0|       6.08|       39.73|\n",
      "|         AAPL|2023-11-09|182.41|      32.75|      50.53|       2.26|        70.0|\n",
      "|         GOOG|2023-11-08|133.26|       7.39|      30.94|       70.0|        70.0|\n",
      "|         MSFT|2023-11-08| 363.2|       70.0|       70.0|       41.9|        70.0|\n",
      "|         TSLA|2023-11-08|222.11|       0.34|       70.0|       6.31|       38.84|\n",
      "|         AAPL|2023-11-08|182.89|      23.12|       54.3|       2.77|        70.0|\n",
      "|         GOOG|2023-11-07| 132.4|      12.52|      35.41|       70.0|        70.0|\n",
      "|         MSFT|2023-11-07|360.53|       70.0|       70.0|      38.28|        70.0|\n",
      "|         TSLA|2023-11-07|222.18|       70.0|       70.0|       6.58|       37.93|\n",
      "|         AAPL|2023-11-07|181.82|      19.44|      56.81|       2.77|        70.0|\n",
      "+-------------+----------+------+-----------+-----------+-----------+------------+\n",
      "only showing top 20 rows\n",
      "\n"
     ]
    },
    {
     "name": "stderr",
     "output_type": "stream",
     "text": [
      "                                                                                \r"
     ]
    }
   ],
   "source": [
    "from pyspark.sql import functions as F\n",
    "from pyspark.sql.window import Window\n",
    "from pyspark.sql.types import FloatType\n",
    "\n",
    "def calculate_rsi(data, n, default_rsi=14, max_rsi=70, epsilon=1e-6):\n",
    "    # Calculate price changes\n",
    "    price_diff = F.col(\"close\") - F.lag(\"close\", n).over(Window().partitionBy(\"stock_id\", \"ticker_symbol\").orderBy(\"date\"))\n",
    "    \n",
    "    # Separate gains and losses\n",
    "    gains = F.when(price_diff > 0, price_diff).otherwise(0)\n",
    "    losses = F.when(price_diff < 0, -price_diff).otherwise(0)\n",
    "    \n",
    "    # Calculate average gains and losses over n periods\n",
    "    avg_gains = F.avg(gains).over(Window().partitionBy(\"stock_id\", \"ticker_symbol\").orderBy(\"date\").rowsBetween(-n+1, 0))\n",
    "    avg_losses = F.avg(losses).over(Window().partitionBy(\"stock_id\", \"ticker_symbol\").orderBy(\"date\").rowsBetween(-n+1, 0))\n",
    "    \n",
    "    # Handle NULL values\n",
    "    rs = F.when(avg_gains.isNull(), default_rsi).otherwise(avg_gains / (avg_losses + epsilon))\n",
    "\n",
    "    # Handle 0 values\n",
    "    rs = F.when((avg_gains == 0), default_rsi).otherwise(rs)\n",
    "\n",
    "    # Calculate RSI and cap at max_rsi\n",
    "    rsi = 100 - (100 / (1 + rs))\n",
    "    \n",
    "    return rsi\n",
    "\n",
    "rsi_periods = [14, 20, 50, 200]\n",
    "\n",
    "# Calculate RSI for each period with default values\n",
    "for n in rsi_periods:\n",
    "    cleanedStockData = cleanedStockData.withColumn(f\"{n}_days_rsi\", F.round(calculate_rsi(cleanedStockData, n), 2))\n",
    "\n",
    "# Show the result\n",
    "cleanedStockData.select(['ticker_symbol', 'date', 'close'] + [f\"{n}_days_rsi\" for n in rsi_periods]).orderBy(F.desc(\"date\")).show()\n"
   ]
  }
 ],
 "metadata": {
  "kernelspec": {
   "display_name": "myenv",
   "language": "python",
   "name": "python3"
  },
  "language_info": {
   "codemirror_mode": {
    "name": "ipython",
    "version": 3
   },
   "file_extension": ".py",
   "mimetype": "text/x-python",
   "name": "python",
   "nbconvert_exporter": "python",
   "pygments_lexer": "ipython3",
   "version": "3.11.4"
  }
 },
 "nbformat": 4,
 "nbformat_minor": 2
}
